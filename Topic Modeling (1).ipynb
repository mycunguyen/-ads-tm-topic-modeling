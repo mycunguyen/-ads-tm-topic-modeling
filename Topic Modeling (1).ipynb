{
 "cells": [
  {
   "cell_type": "markdown",
   "id": "766f1bf1",
   "metadata": {},
   "source": [
    "# Michael Nguyen"
   ]
  },
  {
   "cell_type": "markdown",
   "id": "bce2bb89",
   "metadata": {},
   "source": [
    "# ADS 509 Assignment 5.1: Topic Modeling\n",
    "\n",
    "This notebook holds Assignment 5.1 for Module 5 in ADS 509, Applied Text Mining. Work through this notebook, writing code and answering questions where required. \n",
    "\n",
    "In this assignment you will work with a categorical corpus that accompanies `nltk`. You will build the three types of topic models described in Chapter 8 of _Blueprints for Text Analytics using Python_: NMF, LSA, and LDA. You will compare these models to the true categories. \n"
   ]
  },
  {
   "cell_type": "markdown",
   "id": "d87e2c06",
   "metadata": {},
   "source": [
    "## General Assignment Instructions\n",
    "\n",
    "These instructions are included in every assignment, to remind you of the coding standards for the class. Feel free to delete this cell after reading it. \n",
    "\n",
    "One sign of mature code is conforming to a style guide. We recommend the [Google Python Style Guide](https://google.github.io/styleguide/pyguide.html). If you use a different style guide, please include a cell with a link. \n",
    "\n",
    "Your code should be relatively easy-to-read, sensibly commented, and clean. Writing code is a messy process, so please be sure to edit your final submission. Remove any cells that are not needed or parts of cells that contain unnecessary code. Remove inessential `import` statements and make sure that all such statements are moved into the designated cell. \n",
    "\n",
    "Make use of non-code cells for written commentary. These cells should be grammatical and clearly written. In some of these cells you will have questions to answer. The questions will be marked by a \"Q:\" and will have a corresponding \"A:\" spot for you. *Make sure to answer every question marked with a `Q:` for full credit.* \n"
   ]
  },
  {
   "cell_type": "code",
   "execution_count": 22,
   "id": "1ec6796b",
   "metadata": {},
   "outputs": [],
   "source": [
    "from sklearn.decomposition import LatentDirichletAllocation\n",
    "import pyLDAvis\n",
    "import pyLDAvis.sklearn as pyLDAvis_sklear"
   ]
  },
  {
   "cell_type": "code",
   "execution_count": 3,
   "id": "f009229b",
   "metadata": {},
   "outputs": [
    {
     "name": "stderr",
     "output_type": "stream",
     "text": [
      "[nltk_data] Downloading package brown to\n",
      "[nltk_data]     C:\\Users\\micha\\AppData\\Roaming\\nltk_data...\n",
      "[nltk_data]   Package brown is already up-to-date!\n"
     ]
    },
    {
     "data": {
      "text/plain": [
       "True"
      ]
     },
     "execution_count": 3,
     "metadata": {},
     "output_type": "execute_result"
    }
   ],
   "source": [
    "import nltk\n",
    "nltk.download('brown')"
   ]
  },
  {
   "cell_type": "code",
   "execution_count": 5,
   "id": "49e82777",
   "metadata": {},
   "outputs": [],
   "source": [
    "import pyLDAvis.sklearn"
   ]
  },
  {
   "cell_type": "code",
   "execution_count": 6,
   "id": "0a34cb47",
   "metadata": {},
   "outputs": [],
   "source": [
    "from sklearn.feature_extraction.text import CountVectorizer"
   ]
  },
  {
   "cell_type": "code",
   "execution_count": 7,
   "id": "a85bce08",
   "metadata": {},
   "outputs": [],
   "source": [
    "# These libraries may be useful to you\n",
    "\n",
    "#!pip install pyLDAvis==3.4.1 --user  #You need to restart the Kernel after installation.\n",
    "# You also need a Python version => 3.9.0\n",
    "from nltk.corpus import brown\n",
    "\n",
    "import numpy as np\n",
    "import pandas as pd\n",
    "from tqdm.auto import tqdm\n",
    "\n",
    "import spacy\n",
    "from sklearn.feature_extraction.text import TfidfVectorizer, CountVectorizer\n",
    "from sklearn.decomposition import NMF, TruncatedSVD, LatentDirichletAllocation\n",
    "\n",
    "from spacy.lang.en.stop_words import STOP_WORDS as stopwords\n",
    "\n",
    "from collections import Counter, defaultdict\n",
    "\n",
    "nlp = spacy.load('en_core_web_sm')"
   ]
  },
  {
   "cell_type": "code",
   "execution_count": 8,
   "id": "494de237",
   "metadata": {},
   "outputs": [],
   "source": [
    "# This function comes from the BTAP repo.\n",
    "\n",
    "def display_topics(model, features, no_top_words=5):\n",
    "    for topic, words in enumerate(model.components_):\n",
    "        total = words.sum()\n",
    "        largest = words.argsort()[::-1] # invert sort order\n",
    "        print(\"\\nTopic %02d\" % topic)\n",
    "        for i in range(0, no_top_words):\n",
    "            print(\"  %s (%2.2f)\" % (features[largest[i]], abs(words[largest[i]]*100.0/total)))"
   ]
  },
  {
   "cell_type": "markdown",
   "id": "a30a901c",
   "metadata": {},
   "source": [
    "## Getting to Know the Brown Corpus\n",
    "\n",
    "Let's spend a bit of time getting to know what's in the Brown corpus, our NLTK example of an \"overlapping\" corpus."
   ]
  },
  {
   "cell_type": "code",
   "execution_count": 9,
   "id": "457c59ed",
   "metadata": {},
   "outputs": [
    {
     "name": "stdout",
     "output_type": "stream",
     "text": [
      "For adventure we have 29 articles.\n",
      "For belles_lettres we have 75 articles.\n",
      "For editorial we have 27 articles.\n",
      "For fiction we have 29 articles.\n",
      "For government we have 30 articles.\n",
      "For hobbies we have 36 articles.\n",
      "For humor we have 9 articles.\n",
      "For learned we have 80 articles.\n",
      "For lore we have 48 articles.\n",
      "For mystery we have 24 articles.\n",
      "For news we have 44 articles.\n",
      "For religion we have 17 articles.\n",
      "For reviews we have 17 articles.\n",
      "For romance we have 29 articles.\n",
      "For science_fiction we have 6 articles.\n"
     ]
    }
   ],
   "source": [
    "# categories of articles in Brown corpus\n",
    "for category in brown.categories() :\n",
    "    print(f\"For {category} we have {len(brown.fileids(categories=category))} articles.\")"
   ]
  },
  {
   "cell_type": "markdown",
   "id": "23fb133c",
   "metadata": {},
   "source": [
    "Let's create a dataframe of the articles in of hobbies, editorial, government, news, and romance."
   ]
  },
  {
   "cell_type": "code",
   "execution_count": 10,
   "id": "18f50b9d",
   "metadata": {},
   "outputs": [
    {
     "data": {
      "text/plain": [
       "(166, 3)"
      ]
     },
     "execution_count": 10,
     "metadata": {},
     "output_type": "execute_result"
    }
   ],
   "source": [
    "categories = ['editorial','government','news','romance','hobbies'] \n",
    "\n",
    "category_list = []\n",
    "file_ids = []\n",
    "texts = []\n",
    "\n",
    "for category in categories : \n",
    "    for file_id in brown.fileids(categories=category) :\n",
    "        \n",
    "        # build some lists for a dataframe\n",
    "        category_list.append(category)\n",
    "        file_ids.append(file_id)\n",
    "        \n",
    "        text = brown.words(fileids=file_id)\n",
    "        texts.append(\" \".join(text))\n",
    "\n",
    "        \n",
    "        \n",
    "df = pd.DataFrame()\n",
    "df['category'] = category_list\n",
    "df['id'] = file_ids\n",
    "df['text'] = texts \n",
    "\n",
    "df.shape"
   ]
  },
  {
   "cell_type": "code",
   "execution_count": 11,
   "id": "586f47de",
   "metadata": {},
   "outputs": [],
   "source": [
    "# Let's add some helpful columns on the df\n",
    "df['char_len'] = df['text'].apply(len)\n",
    "df['word_len'] = df['text'].apply(lambda x: len(x.split()))\n"
   ]
  },
  {
   "cell_type": "code",
   "execution_count": 12,
   "id": "2128fd2d",
   "metadata": {},
   "outputs": [
    {
     "data": {
      "text/plain": [
       "<Axes: xlabel='category'>"
      ]
     },
     "execution_count": 12,
     "metadata": {},
     "output_type": "execute_result"
    },
    {
     "data": {
      "image/png": "[encoded data removed]",
      "text/plain": [
       "<Figure size 720x432 with 1 Axes>"
      ]
     },
     "metadata": {
      "needs_background": "light"
     },
     "output_type": "display_data"
    }
   ],
   "source": [
    "%matplotlib inline\n",
    "df.groupby('category').agg({'word_len': 'mean'}).plot.bar(figsize=(10,6))"
   ]
  },
  {
   "cell_type": "markdown",
   "id": "554ffeb5",
   "metadata": {},
   "source": [
    "Now do our TF-IDF and Count vectorizations."
   ]
  },
  {
   "cell_type": "code",
   "execution_count": 13,
   "id": "21a7d247",
   "metadata": {},
   "outputs": [
    {
     "name": "stderr",
     "output_type": "stream",
     "text": [
      "C:\\Users\\micha\\miniconda3\\lib\\site-packages\\sklearn\\feature_extraction\\text.py:396: UserWarning: Your stop_words may be inconsistent with your preprocessing. Tokenizing the stop words generated tokens ['ll', 've'] not in stop_words.\n",
      "  warnings.warn(\n"
     ]
    },
    {
     "data": {
      "text/plain": [
       "(166, 4941)"
      ]
     },
     "execution_count": 13,
     "metadata": {},
     "output_type": "execute_result"
    }
   ],
   "source": [
    "count_text_vectorizer = CountVectorizer(stop_words=list(stopwords), min_df=5, max_df=0.7)\n",
    "count_text_vectors = count_text_vectorizer.fit_transform(df[\"text\"])\n",
    "count_text_vectors.shape"
   ]
  },
  {
   "cell_type": "code",
   "execution_count": 14,
   "id": "875deba9",
   "metadata": {},
   "outputs": [
    {
     "data": {
      "text/plain": [
       "(166, 4941)"
      ]
     },
     "execution_count": 14,
     "metadata": {},
     "output_type": "execute_result"
    }
   ],
   "source": [
    "tfidf_text_vectorizer = TfidfVectorizer(stop_words=list(stopwords), min_df=5, max_df=0.7)\n",
    "tfidf_text_vectors = tfidf_text_vectorizer.fit_transform(df['text'])\n",
    "tfidf_text_vectors.shape"
   ]
  },
  {
   "cell_type": "markdown",
   "id": "a1062b21",
   "metadata": {},
   "source": [
    "Q: What do the two data frames `count_text_vectors` and `tfidf_text_vectors` hold? \n",
    "\n",
    "A: Both the two data frames hold 166 documents and 4941 unique terms."
   ]
  },
  {
   "cell_type": "markdown",
   "id": "f77c3f94",
   "metadata": {},
   "source": [
    "## Fitting a Non-Negative Matrix Factorization Model\n",
    "\n",
    "In this section the code to fit a five-topic NMF model has already been written. This code comes directly from the [BTAP repo](https://github.com/blueprints-for-text-analytics-python/blueprints-text), which will help you tremendously in the coming sections. "
   ]
  },
  {
   "cell_type": "code",
   "execution_count": 15,
   "id": "d28745a3",
   "metadata": {},
   "outputs": [
    {
     "name": "stderr",
     "output_type": "stream",
     "text": [
      "C:\\Users\\micha\\miniconda3\\lib\\site-packages\\sklearn\\decomposition\\_nmf.py:289: FutureWarning: The 'init' value, when 'init=None' and n_components is less than n_samples and n_features, will be changed from 'nndsvd' to 'nndsvda' in 1.1 (renaming of 0.26).\n",
      "  warnings.warn(\n"
     ]
    }
   ],
   "source": [
    "nmf_text_model = NMF(n_components=5, random_state=314)\n",
    "W_text_matrix = nmf_text_model.fit_transform(tfidf_text_vectors)\n",
    "H_text_matrix = nmf_text_model.components_"
   ]
  },
  {
   "cell_type": "code",
   "execution_count": 16,
   "id": "a67185e7",
   "metadata": {},
   "outputs": [
    {
     "name": "stdout",
     "output_type": "stream",
     "text": [
      "\n",
      "Topic 00\n",
      "  mr (0.51)\n",
      "  president (0.45)\n",
      "  kennedy (0.43)\n",
      "  united (0.42)\n",
      "  khrushchev (0.40)\n",
      "\n",
      "Topic 01\n",
      "  said (0.88)\n",
      "  didn (0.46)\n",
      "  ll (0.45)\n",
      "  thought (0.42)\n",
      "  man (0.37)\n",
      "\n",
      "Topic 02\n",
      "  state (0.40)\n",
      "  development (0.36)\n",
      "  tax (0.33)\n",
      "  sales (0.30)\n",
      "  program (0.25)\n",
      "\n",
      "Topic 03\n",
      "  mrs (2.61)\n",
      "  mr (0.78)\n",
      "  said (0.64)\n",
      "  miss (0.52)\n",
      "  car (0.51)\n",
      "\n",
      "Topic 04\n",
      "  game (1.01)\n",
      "  league (0.74)\n",
      "  ball (0.72)\n",
      "  baseball (0.71)\n",
      "  team (0.66)\n"
     ]
    }
   ],
   "source": [
    "display_topics(nmf_text_model, tfidf_text_vectorizer.get_feature_names_out())"
   ]
  },
  {
   "cell_type": "markdown",
   "id": "fee51e9b",
   "metadata": {},
   "source": [
    "Now some work for you to do. Compare the NMF factorization to the original categories from the Brown Corpus.\n",
    "\n",
    "We are interested in the extent to which our NMF factorization agrees or disagrees with the original categories in the corpus. For each topic in your NMF model, tally the Brown categories and interpret the results. \n"
   ]
  },
  {
   "cell_type": "code",
   "execution_count": 17,
   "id": "7c8c8eb0",
   "metadata": {},
   "outputs": [
    {
     "name": "stdout",
     "output_type": "stream",
     "text": [
      "\n",
      "Topic 0:\n",
      "editorial     21\n",
      "news          13\n",
      "government     4\n",
      "Name: category, dtype: int64\n",
      "\n",
      "Topic 1:\n",
      "romance      29\n",
      "editorial     5\n",
      "hobbies       5\n",
      "Name: category, dtype: int64\n",
      "\n",
      "Topic 2:\n",
      "government    25\n",
      "hobbies       23\n",
      "news          14\n",
      "editorial      6\n",
      "romance        1\n",
      "Name: category, dtype: int64\n",
      "\n",
      "Topic 3:\n",
      "news         19\n",
      "romance       1\n",
      "editorial     1\n",
      "hobbies       1\n",
      "Name: category, dtype: int64\n",
      "\n",
      "Topic 4:\n",
      "news         10\n",
      "romance       1\n",
      "editorial     1\n",
      "hobbies       1\n",
      "Name: category, dtype: int64\n"
     ]
    }
   ],
   "source": [
    "doc_topic_df = pd.DataFrame(W_text_matrix)\n",
    "doc_topic_df['text'] = df['text']\n",
    "doc_topic_df['category'] = df['category']\n",
    "\n",
    "# For each topic\n",
    "for topic in range(W_text_matrix.shape[1]):\n",
    "    print(f\"\\nTopic {topic}:\")\n",
    "    # Get the documents\n",
    "    topic_docs = doc_topic_df[doc_topic_df[topic] > 0.1]\n",
    "    # Count the frequency\n",
    "    category_counts = topic_docs['category'].value_counts()\n",
    "    print(category_counts.head())"
   ]
  },
  {
   "cell_type": "markdown",
   "id": "f8d4e2bc",
   "metadata": {},
   "source": [
    "Q: How does your five-topic NMF model compare to the original Brown categories? \n",
    "\n",
    "A:The LSA model appears to agree fairly well with the original Brown corpus categories. This is indicated by the strong overlaps between the LSA topics and the Brown categories."
   ]
  },
  {
   "cell_type": "markdown",
   "id": "82e37cb5",
   "metadata": {},
   "source": [
    "## Fitting an LSA Model\n",
    "\n",
    "In this section, follow the example from the repository and fit an LSA model (called a \"TruncatedSVD\" in `sklearn`). Again fit a five-topic model and compare it to the actual categories in the Brown corpus. Use the TF-IDF vectors for your fit, as above. \n",
    "\n",
    "To be explicit, we are once again interested in the extent to which this LSA factorization agrees or disagrees with the original categories in the corpus. For each topic in your model, tally the Brown categories and interpret the results. \n"
   ]
  },
  {
   "cell_type": "code",
   "execution_count": 18,
   "id": "00b53d3d",
   "metadata": {},
   "outputs": [
    {
     "name": "stdout",
     "output_type": "stream",
     "text": [
      "\n",
      "Topic 00\n",
      "  said (0.44)\n",
      "  mr (0.25)\n",
      "  mrs (0.22)\n",
      "  state (0.20)\n",
      "  man (0.17)\n",
      "\n",
      "Topic 01\n",
      "  said (3.89)\n",
      "  ll (2.73)\n",
      "  didn (2.63)\n",
      "  thought (2.20)\n",
      "  got (1.97)\n",
      "\n",
      "Topic 02\n",
      "  mrs (3.12)\n",
      "  mr (1.70)\n",
      "  said (1.06)\n",
      "  kennedy (0.82)\n",
      "  khrushchev (0.77)\n",
      "\n",
      "Topic 03\n",
      "  mrs (29.45)\n",
      "  club (6.53)\n",
      "  game (6.12)\n",
      "  jr (5.60)\n",
      "  university (5.20)\n",
      "\n",
      "Topic 04\n",
      "  game (4.54)\n",
      "  league (3.27)\n",
      "  baseball (3.22)\n",
      "  ball (3.10)\n",
      "  team (2.94)\n",
      "Topic 0:\n",
      "hobbies       36\n",
      "news          34\n",
      "government    30\n",
      "editorial     27\n",
      "romance       21\n",
      "Name: category, dtype: int64\n",
      "Topic 1:\n",
      "romance    8\n",
      "Name: category, dtype: int64\n",
      "Topic 2:\n",
      "Series([], Name: category, dtype: int64)\n",
      "Topic 3:\n",
      "news    3\n",
      "Name: category, dtype: int64\n",
      "Topic 4:\n",
      "news    7\n",
      "Name: category, dtype: int64\n"
     ]
    }
   ],
   "source": [
    "# LSA Model\n",
    "lsa_text_model = TruncatedSVD(n_components=5, random_state=314)\n",
    "lsa_text_vectors = lsa_text_model.fit_transform(tfidf_text_vectors)\n",
    "\n",
    "# Display topic\n",
    "display_topics(lsa_text_model, tfidf_text_vectorizer.get_feature_names_out())\n",
    "\n",
    "# Link topics to original categories\n",
    "topic_category_df_lsa = pd.DataFrame(lsa_text_vectors.argmax(axis=1), columns=['topic'])\n",
    "topic_category_df_lsa['category'] = df['category']\n",
    "\n",
    "# Tally \n",
    "for topic in range(5):\n",
    "    print(f\"Topic {topic}:\")\n",
    "    print(topic_category_df_lsa[topic_category_df_lsa['topic'] == topic]['category'].value_counts())"
   ]
  },
  {
   "cell_type": "markdown",
   "id": "4d94d56f",
   "metadata": {},
   "source": [
    "Q: How does your five-topic LSA model compare to the original Brown categories? \n",
    "\n",
    "A: The results of the LSA model and the original Brown categories appear to have some level of agreement, with some variations in each topic."
   ]
  },
  {
   "cell_type": "code",
   "execution_count": 19,
   "id": "377a886e",
   "metadata": {},
   "outputs": [],
   "source": [
    "def display_topics(model, feature_names, no_top_words=5):\n",
    "    for topic_idx, topic in enumerate(model.components_):\n",
    "        print(f\"Topic {topic_idx}:\")\n",
    "        print(\" \".join([feature_names[i] for i in topic.argsort()[:-no_top_words - 1:-1]]))"
   ]
  },
  {
   "cell_type": "code",
   "execution_count": 20,
   "id": "b66014d5",
   "metadata": {},
   "outputs": [
    {
     "name": "stdout",
     "output_type": "stream",
     "text": [
      "Topic 0:\n",
      "said mr mrs state man\n",
      "Topic 1:\n",
      "said ll didn thought got\n",
      "Topic 2:\n",
      "mrs mr said kennedy khrushchev\n",
      "Topic 3:\n",
      "mrs club game jr university\n",
      "Topic 4:\n",
      "game league baseball ball team\n"
     ]
    }
   ],
   "source": [
    "display_topics(lsa_text_model, tfidf_text_vectorizer.get_feature_names_out())"
   ]
  },
  {
   "cell_type": "markdown",
   "id": "ea8b280a",
   "metadata": {},
   "source": [
    "Q: What is your interpretation of the display topics output? \n",
    "\n",
    "A: The display topics output represents the top words associated with five topics identified by the LSA model, reflecting themes related to formal communication, informal dialogue, historical politics, social activities, and sports, possibly specifically baseball. "
   ]
  },
  {
   "cell_type": "markdown",
   "id": "b4ab4d29",
   "metadata": {},
   "source": [
    "## Fitting an LDA Model\n",
    "\n",
    "Finally, fit a five-topic LDA model using the count vectors (`count_text_vectors` from above). Display the results using `pyLDAvis.display` and describe what you learn from that visualization. "
   ]
  },
  {
   "cell_type": "code",
   "execution_count": 25,
   "id": "802cb8ff",
   "metadata": {},
   "outputs": [
    {
     "name": "stderr",
     "output_type": "stream",
     "text": [
      "C:\\Users\\micha\\miniconda3\\lib\\site-packages\\sklearn\\utils\\deprecation.py:87: FutureWarning: Function get_feature_names is deprecated; get_feature_names is deprecated in 1.0 and will be removed in 1.2. Please use get_feature_names_out instead.\n",
      "  warnings.warn(msg, category=FutureWarning)\n"
     ]
    },
    {
     "data": {
      "text/html": [
       "\n",
       "<link rel=\"stylesheet\" type=\"text/css\" href=\"https://cdn.rawgit.com/bmabey/pyLDAvis/files/ldavis.v1.0.0.css\">\n",
       "\n",
       "\n",
       "<div id=\"ldavis_el5060824973120054724253798740\"></div>\n",
       "<script type=\"text/javascript\">\n",
       "\n",
       "var ldavis_el5060824973120054724253798740_data = {\"mdsDat\": {\"x\": [0.12102425393919375, 0.08918809520595723, -0.09567618750763435, -0.1564762123222112, 0.04194005068469468], \"y\": [0.05774397336213513, 0.06703071644956043, 0.05324500947689909, 0.0020478588212022295, -0.18006755810979688], \"topics\": [1, 2, 3, 4, 5], \"cluster\": [1, 1, 1, 1, 1], \"Freq\": [32.05410621044396, 20.69930426071698, 17.68269519696485, 16.882223726884103, 12.681670604990117]}, \"tinfo\": {\"Term\": [\"said\", \"state\", \"tax\", \"mrs\", \"like\", \"just\", \"president\", \"af\", \"clay\", \"feed\", \"pool\", \"used\", \"thought\", \"united\", \"didn\", \"did\", \"brown\", \"use\", \"inch\", \"states\", \"ll\", \"got\", \"shelter\", \"don\", \"john\", \"year\", \"old\", \"know\", \"eyes\", \"little\", \"tax\", \"allotment\", \"legislature\", \"item\", \"rhode\", \"georgia\", \"unions\", \"assessors\", \"notte\", \"gun\", \"taxpayers\", \"puerto\", \"rico\", \"assessment\", \"property\", \"boats\", \"farmers\", \"rehabilitation\", \"cromwell\", \"cranston\", \"trujillo\", \"capita\", \"rifle\", \"trust\", \"vocational\", \"bond\", \"voters\", \"juniors\", \"jury\", \"adjustments\", \"khrushchev\", \"election\", \"fiscal\", \"governor\", \"police\", \"officials\", \"laws\", \"federal\", \"state\", \"providence\", \"towns\", \"sales\", \"program\", \"soviet\", \"income\", \"county\", \"000\", \"berlin\", \"law\", \"island\", \"year\", \"planning\", \"labor\", \"million\", \"industrial\", \"city\", \"east\", \"states\", \"government\", \"public\", \"mr\", \"business\", \"department\", \"new\", \"development\", \"said\", \"local\", \"united\", \"president\", \"peace\", \"years\", \"american\", \"national\", \"time\", \"people\", \"general\", \"faculty\", \"academic\", \"editorial\", \"trustees\", \"katanga\", \"advisory\", \"rayburn\", \"libraries\", \"nato\", \"catholic\", \"confrontation\", \"tri\", \"ritter\", \"monroe\", \"programing\", \"tenure\", \"midwest\", \"liberals\", \"societies\", \"sunrise\", \"excellence\", \"supervision\", \"connally\", \"curriculum\", \"autonomy\", \"mercenaries\", \"essex\", \"sec\", \"titles\", \"lectures\", \"interior\", \"daytime\", \"cuba\", \"institution\", \"stations\", \"library\", \"interference\", \"shall\", \"teaching\", \"bible\", \"student\", \"mrs\", \"bridge\", \"membership\", \"students\", \"college\", \"members\", \"congo\", \"music\", \"teachers\", \"university\", \"secretary\", \"president\", \"country\", \"service\", \"united\", \"new\", \"medical\", \"policy\", \"schools\", \"committee\", \"world\", \"american\", \"states\", \"mr\", \"great\", \"foreign\", \"kennedy\", \"men\", \"time\", \"years\", \"public\", \"man\", \"government\", \"year\", \"national\", \"state\", \"mantle\", \"pont\", \"maris\", \"lucy\", \"wally\", \"cathy\", \"shorts\", \"stockholders\", \"du\", \"dave\", \"kowalski\", \"temple\", \"bob\", \"yards\", \"pete\", \"giants\", \"lucille\", \"investors\", \"robinson\", \"mickey\", \"ruth\", \"stadium\", \"orioles\", \"al\", \"fabrics\", \"colt\", \"sox\", \"alice\", \"paintings\", \"yankees\", \"susan\", \"jim\", \"textile\", \"games\", \"plastics\", \"league\", \"engineer\", \"motors\", \"coach\", \"game\", \"hit\", \"runs\", \"gallery\", \"season\", \"team\", \"home\", \"john\", \"ball\", \"play\", \"signs\", \"baseball\", \"said\", \"son\", \"good\", \"billion\", \"got\", \"year\", \"miss\", \"right\", \"night\", \"just\", \"came\", \"time\", \"new\", \"like\", \"week\", \"did\", \"old\", \"years\", \"left\", \"high\", \"way\", \"club\", \"work\", \"little\", \"ll\", \"went\", \"second\", \"mrs\", \"maggie\", \"hell\", \"carla\", \"dairy\", \"wondered\", \"bent\", \"phil\", \"lips\", \"skin\", \"soul\", \"sheep\", \"riverside\", \"beard\", \"improves\", \"porch\", \"owen\", \"petitioner\", \"pale\", \"rent\", \"smiling\", \"shook\", \"salesmen\", \"smelled\", \"sixties\", \"doc\", \"rachel\", \"drinking\", \"weak\", \"vacations\", \"marry\", \"mike\", \"feed\", \"tommy\", \"smiled\", \"cousin\", \"eddie\", \"oh\", \"eyes\", \"loved\", \"sat\", \"push\", \"looked\", \"chest\", \"thought\", \"knew\", \"breakfast\", \"didn\", \"woman\", \"couldn\", \"hair\", \"like\", \"felt\", \"yes\", \"just\", \"hands\", \"know\", \"morning\", \"cold\", \"ll\", \"did\", \"little\", \"said\", \"away\", \"don\", \"head\", \"let\", \"boy\", \"man\", \"come\", \"really\", \"old\", \"day\", \"got\", \"went\", \"came\", \"good\", \"time\", \"say\", \"way\", \"make\", \"long\", \"people\", \"precision\", \"holes\", \"sauce\", \"measuring\", \"battens\", \"mustard\", \"thickness\", \"sharpe\", \"ballistic\", \"insert\", \"locking\", \"plaster\", \"af\", \"disk\", \"grill\", \"screws\", \"transducer\", \"butter\", \"shelter\", \"heating\", \"pump\", \"cone\", \"resin\", \"lb\", \"plywood\", \"drill\", \"pepper\", \"fig\", \"liquid\", \"drilling\", \"palmer\", \"mold\", \"pool\", \"builder\", \"cooling\", \"inch\", \"clay\", \"temperature\", \"tool\", \"vehicles\", \"lid\", \"commodities\", \"inches\", \"surface\", \"hole\", \"aircraft\", \"lumber\", \"pieces\", \"brown\", \"panels\", \"roof\", \"machine\", \"frame\", \"used\", \"heat\", \"cut\", \"use\", \"piece\", \"materials\", \"cost\", \"water\", \"time\", \"long\", \"place\", \"air\", \"design\", \"make\", \"house\", \"large\", \"work\", \"new\", \"years\", \"states\", \"small\", \"united\", \"way\"], \"Freq\": [765.0, 490.0, 180.0, 291.0, 363.0, 283.0, 289.0, 69.0, 76.0, 93.0, 72.0, 183.0, 132.0, 296.0, 117.0, 249.0, 93.0, 245.0, 63.0, 330.0, 156.0, 137.0, 55.0, 166.0, 160.0, 539.0, 240.0, 181.0, 93.0, 225.0, 178.0475410658495, 38.2108585687463, 31.382785907061635, 25.5311121203681, 84.79264486792161, 41.442386006262, 21.637161379203913, 20.66103324041018, 19.689873351853137, 19.684842447972642, 19.665178777254255, 19.65492654234028, 19.6548336302053, 17.73985094092413, 93.29980000544721, 38.20305791432009, 17.669311405310975, 18.590102721754633, 15.782823564758589, 15.780088723658157, 14.813924685431743, 14.813068460293573, 14.810778511148419, 36.98318042641878, 13.840776119675482, 13.838253337702396, 14.746725140809184, 30.411823589215338, 46.00401101238162, 12.865537218420966, 68.6431822301481, 51.9323487027954, 104.37120816999807, 53.08050091662287, 43.10088974676653, 30.753517563922305, 45.43624434556884, 102.02455050085717, 398.88015128781353, 41.22022487310459, 32.01682834679894, 97.41635142156994, 172.51946439560464, 66.80808050967677, 68.7008489934279, 83.42595059358342, 198.80115838464957, 54.52268931542181, 78.88769457519498, 91.8810104637713, 325.53284791716567, 68.40061974190841, 57.34824356019058, 93.57658053987342, 63.4102730707531, 134.22504408123578, 72.3779533893154, 182.525064945882, 156.99062166371584, 124.3808844510392, 193.2154145394678, 125.87489188548108, 102.98127367915271, 283.0530734511212, 120.3555993764407, 278.71504850763375, 87.51543985956032, 136.34937557586457, 133.9915779508827, 78.3231191979168, 142.4982258616216, 105.78900143121533, 98.57167045425903, 119.88146648045368, 99.39425194385323, 94.20060679054988, 49.87356007373877, 28.055008818047884, 22.43650300457417, 18.756153632118313, 18.755809546975335, 19.531056106338944, 42.551535478240076, 22.045030713539866, 13.191314629938717, 28.982954473146197, 11.331843868410843, 11.32712190752189, 9.474155775967978, 9.4717095429573, 9.438597304416671, 8.547192454324032, 8.546802479865672, 8.544217794109835, 8.5438707838395, 8.543653190505228, 8.530577159436612, 8.515670327825353, 7.617535487609235, 7.6174672349942965, 7.617223564871546, 7.616221055811979, 7.615453713579771, 15.978070585138722, 7.530386597010867, 6.689107101132008, 35.616224809011705, 14.121510084589499, 31.669643436164133, 20.436079507486056, 48.89955198600192, 36.295518376165475, 28.946230269806485, 90.43390190887781, 32.443256515595564, 20.377491743585015, 54.605358852644336, 191.7087172559735, 39.02826431375589, 20.387930525684336, 51.58101562969667, 80.47159653345034, 88.22946190525815, 31.70535548940394, 41.96934593851684, 25.957207231892472, 71.19265868011466, 68.91944232709649, 129.18519474912986, 74.5982844495281, 93.96841315274699, 119.26399322978808, 204.76057488138417, 55.835626811047945, 53.259172865318476, 51.08681791537017, 55.93361148169285, 90.69118657461642, 92.0662049752209, 97.44730015377897, 103.1505974369127, 73.67299485341866, 51.10640439071988, 56.961034294887284, 65.44022810644418, 96.32338135782389, 84.83605827503712, 65.4676253263787, 68.97862416741377, 64.57956482684719, 66.59696187982453, 56.42831661874859, 55.82643557379866, 47.58324475051279, 41.320281021413244, 35.955666401134984, 28.79631191499243, 24.324553637791126, 19.85217937610377, 19.850580940333856, 18.955780096886965, 42.210165206174004, 17.17100275292927, 17.168933005461124, 17.112666882590855, 21.264216511298937, 23.78952624718972, 13.588405530939394, 12.696388764706711, 12.69523445667926, 12.691658155075348, 16.881906284754766, 11.80636891666425, 11.805260361876883, 11.80505275390058, 10.910249235242654, 10.907242084229514, 10.900987020090053, 13.415483511237628, 10.016841706851752, 10.008499562098793, 11.669236572160909, 22.53904686817122, 23.25688056550078, 29.503728774542733, 24.305680474952972, 25.76791780685559, 18.056861198726583, 48.15917805041893, 27.809427691424023, 37.15879398365793, 19.45629120478733, 64.35273355783174, 42.884354369780475, 31.053030879640836, 18.28396772344381, 46.34509434503046, 40.01601435129019, 119.56143664123383, 84.29539682936054, 39.7586187522951, 41.140635856488394, 26.990197923902787, 27.697643749074683, 195.16126893063588, 40.36031149029782, 88.41559829421857, 33.655615182388814, 57.442578239306435, 116.14835787294813, 45.051965300604586, 66.61073797274769, 55.36756872447137, 77.1328832045519, 56.55714164102906, 96.86479283148024, 110.29510778765106, 81.90156618736548, 59.459883417078665, 67.45506779762212, 64.41743972546278, 73.08899499502536, 52.87466801335693, 58.00493228195887, 61.810374559392066, 46.30576278190142, 53.76710595998308, 51.287145691357836, 47.66798155702046, 46.44652589474573, 45.93568955115049, 47.496956051544835, 23.302054931366403, 14.975490340718888, 14.916509918641816, 13.130469072939189, 13.114520977013441, 10.34283250236458, 43.8570227773773, 10.33438884682924, 9.429421387996427, 9.42259297320508, 11.134845841847078, 9.413811086431808, 8.50709934144578, 8.507009891411212, 8.506177767666538, 18.67887011437129, 27.147389567261612, 23.57786160767112, 8.432840904581123, 7.582389024295114, 7.5811795716380095, 7.578008566490114, 7.573498065410357, 7.563107510905661, 12.553677113810785, 14.980024329331618, 7.498048488567989, 6.653217114251908, 6.646433964742842, 6.641886055561664, 28.850677193798983, 82.57400020934847, 14.04770073747805, 22.760270159093704, 22.288850897515673, 21.453178286521556, 27.34745312168862, 73.56408446967401, 15.318551878254505, 29.6696489299599, 23.7187078796965, 60.490901947069695, 16.657470312173704, 92.54381064065106, 60.61826489257416, 20.397829877153676, 75.68871905292295, 38.107180480091834, 36.477568598638605, 26.299006829048395, 180.8744101824087, 56.328908488354735, 28.947006282672053, 139.49727892136798, 45.19725569901208, 96.39061335286351, 40.75372831708926, 43.04373347831765, 82.63196396068874, 114.71305240026551, 105.66948006767292, 254.51377760517383, 65.30407385276074, 83.06858977599157, 68.3155583591173, 63.11806775501858, 48.19719487792314, 105.74951897071892, 79.69640440634697, 49.132546728981, 94.38404910284127, 101.5136743092769, 65.71173442126334, 63.17312274163902, 68.53227341309841, 93.23560948733254, 116.86780296822333, 58.540504538202185, 82.65277390955617, 77.5711112587232, 72.34385498947593, 65.25655871544969, 20.68723952795963, 19.794858915930313, 17.120832289479758, 15.33207432748113, 13.55380787947025, 12.662374689058234, 12.662210274095138, 27.822106874490988, 12.660169076352785, 10.877900774638361, 22.47166097606119, 9.987158199036791, 64.73992539605479, 9.09552592919246, 9.095453765023114, 9.095132491345407, 9.094983053401943, 9.090749873370363, 51.19164406535214, 18.903445452324018, 9.030633144527823, 8.203357180293787, 8.203280991217985, 8.202553340445295, 8.202558903122231, 28.7136560679262, 8.20116681190932, 26.929693320595156, 11.43251093426653, 7.3120811019407865, 46.82849259846102, 33.173157174941025, 64.42452324298709, 21.132139521975198, 31.32365626293247, 56.30007095764661, 65.43397375001827, 29.1648861452176, 25.227836057491587, 34.93223413773746, 14.446467198833698, 14.40951020286317, 26.7828195482309, 27.614129416123664, 28.52179734096905, 41.19458324909566, 23.27714443691728, 38.23314734087263, 65.23391280513424, 25.729720782689657, 23.277214932676333, 36.469305327005195, 27.949003876934132, 87.12919804463316, 29.80752636715367, 51.68955073199612, 90.41523861854101, 35.76495742696715, 31.918825239857537, 48.25721287638338, 48.683903459969606, 73.70102884742896, 60.37163708093963, 48.10161272954326, 39.055094175470245, 35.30336997920908, 48.404896087997635, 45.371135563156905, 39.87310501646851, 44.42356416254478, 52.83704497864366, 43.723467642219205, 41.695376889429916, 36.80615712470074, 36.78303616676487, 36.23160397549868], \"Total\": [765.0, 490.0, 180.0, 291.0, 363.0, 283.0, 289.0, 69.0, 76.0, 93.0, 72.0, 183.0, 132.0, 296.0, 117.0, 249.0, 93.0, 245.0, 63.0, 330.0, 156.0, 137.0, 55.0, 166.0, 160.0, 539.0, 240.0, 181.0, 93.0, 225.0, 180.16965612130747, 38.93902193433189, 32.11531596306694, 26.26656220155822, 87.50060183241577, 42.80408782310443, 22.367730850960648, 21.39292281742592, 20.41834382009248, 20.417930646801036, 20.417067734002057, 20.416518496684866, 20.416513722322875, 18.468775110212594, 97.20781298845799, 39.863267841370195, 18.46329174860091, 19.432905182094135, 16.518845660777696, 16.518358736450814, 15.544339370828283, 15.54434687246346, 15.544041777319965, 38.8378799170647, 14.569667088508812, 14.569486868791437, 15.541171111855943, 32.06973897958914, 48.58618862229342, 13.594843649702199, 72.88317978660676, 55.34045669484494, 112.65000609597082, 57.15890834547331, 46.506865455071434, 32.9805567301357, 49.488338832327834, 115.21270206714851, 490.1755408971714, 45.477910556192114, 34.891674323251934, 118.07866723739339, 231.71730896388064, 80.19207337196713, 82.89579448878943, 104.20829131788798, 279.7798217594236, 64.78838123189739, 99.17431984836185, 120.1155001668229, 539.3357044968701, 85.71413317574294, 69.33357545405958, 128.5989716523527, 78.6520203361736, 211.23127114671124, 94.22451874341081, 330.06700449416275, 272.1820314248755, 199.6477409054931, 378.1236275951231, 207.87752028482805, 156.70828425756497, 681.1409236641086, 198.31591566121, 765.2000112468513, 129.18090195254644, 296.54927571359985, 289.59220577039827, 109.4833009177987, 364.2578522151712, 256.25677784253713, 209.67704640477334, 503.6384724854101, 257.2735984756196, 196.58609946673283, 51.08901846898191, 28.794220242251193, 23.22207845751062, 19.5041203867432, 19.50412651393729, 20.440817541504824, 44.65175486630366, 23.24150233722056, 13.929573822623086, 30.64790249261429, 12.071520330917455, 12.071214742682248, 10.213290100773627, 10.213284303477657, 10.213330017768735, 9.284312744824149, 9.284299931064457, 9.28444631777109, 9.284343791967554, 9.284187070423238, 9.284975832524912, 9.283280815696278, 8.355300307002432, 8.355303666215573, 8.355308015721391, 8.355293399088408, 8.355315823983775, 17.611111411430567, 8.35202226182908, 7.426227398151749, 39.95285068036828, 15.750293351147848, 36.414503095172925, 23.14401334395392, 57.963564392783205, 44.3070371826945, 35.32377931629756, 123.68144900990359, 40.18155093913388, 24.120677136935832, 71.26731188887108, 291.67802232173176, 49.89020170573345, 24.296442417712598, 69.1846281329277, 119.69436503520258, 137.02290851208616, 41.68669009228176, 59.54257371747022, 33.49183087300295, 120.34552743063057, 120.07051739549674, 289.59220577039827, 141.2206402745401, 202.46764534103454, 296.54927571359985, 681.1409236641086, 99.084922149854, 92.60139752218883, 89.8401214399734, 108.32738607303529, 247.00656311485258, 256.25677784253713, 330.06700449416275, 378.1236275951231, 194.85046961900053, 98.96963443567586, 128.30015404507745, 185.48343730918168, 503.6384724854101, 364.2578522151712, 199.6477409054931, 268.7749979014756, 272.1820314248755, 539.3357044968701, 209.67704640477334, 490.1755408971714, 48.32728916628367, 42.0664849983847, 36.69980679364646, 29.544577234777837, 25.07244580420754, 20.600345284371258, 20.600443732474382, 19.706183382156492, 43.89012362021262, 17.917008114926496, 17.9172157976984, 17.920749927817276, 22.38798592426502, 25.102048848316475, 14.339482811518344, 13.445206578498288, 13.445065751960138, 13.445463400073308, 17.94122329927345, 12.550413335889992, 12.55045750625381, 12.550448835992283, 11.656003669745767, 11.656332985238041, 11.656265464096426, 14.355110795151635, 10.761608603370446, 10.76191203535578, 12.555750169887144, 24.258239086496005, 25.16824690960062, 32.40517402486728, 26.931244766968536, 28.72789725822774, 19.78609223239875, 55.96420973824607, 31.4508859699024, 43.4089016670087, 21.540938142029276, 84.38570446012851, 53.88736238648092, 37.71626083352491, 20.595618367443834, 63.44117594315858, 53.269647577620205, 252.23308956709948, 160.55972670195354, 58.75747868354288, 62.76846685098807, 34.58001259980556, 36.98864652588265, 765.2000112468513, 68.95160817002373, 292.3269803522429, 52.12382274777903, 137.96378867118418, 539.3357044968701, 93.54919294261984, 202.87019269859903, 143.4910305233202, 283.9838980692329, 152.62021569336977, 503.6384724854101, 681.1409236641086, 363.09335575948194, 181.5237471988756, 249.95540588854945, 240.6815583479854, 364.2578522151712, 153.31835525429338, 210.038506266648, 261.85673409371486, 105.4187004273298, 248.71079953798682, 225.7958001599697, 156.9608525451116, 129.14927514296284, 116.47932625638792, 291.67802232173176, 24.0400467895732, 15.717732445709832, 15.71811216891477, 13.868517743822215, 13.869244948322208, 11.094142389722245, 47.07375599225742, 11.093737194123973, 10.169693547342051, 10.169875717941357, 12.0225738592142, 10.170609134106744, 9.245091203452962, 9.245092090251287, 9.245141119631382, 20.391382274986007, 29.680369132468297, 25.836667989908648, 9.242687879638156, 8.320405567027384, 8.320399388916634, 8.320615724586364, 8.32011466195675, 8.320447995163695, 13.849655734905944, 16.6123104887093, 8.317668745838718, 7.395759243069356, 7.396093277851656, 7.395203223821387, 32.272157664024704, 93.37265238340275, 15.721955487763038, 25.85842887622424, 25.874022373640063, 24.87370804052851, 32.47144091704355, 93.1876645151736, 17.555992327570845, 35.994575518678886, 28.557526023187773, 80.85250351095065, 19.43530872826119, 132.44409303270643, 85.4818083565788, 24.92857009894916, 117.55631863636147, 52.32931195026164, 50.49244617680344, 33.976785025737065, 363.09335575948194, 86.65750583011328, 38.57353933203809, 283.9838980692329, 68.42880696038848, 181.94607827671427, 60.1059636615845, 65.19718686705258, 156.9608525451116, 249.95540588854945, 225.7958001599697, 765.2000112468513, 117.28038178049718, 166.9756709323259, 128.9982924541825, 116.58525816137785, 77.98088083627529, 268.7749979014756, 177.0550503555921, 81.63349576396342, 240.6815583479854, 291.7701318210909, 137.96378867118418, 129.14927514296284, 152.62021569336977, 292.3269803522429, 503.6384724854101, 118.8795824348857, 261.85673409371486, 274.5788870165715, 300.9314515398267, 257.2735984756196, 21.43259569045927, 20.540827872786316, 17.86565470465032, 16.082559989688406, 14.298773636769898, 13.407040096069395, 13.407055912632705, 29.46092838349568, 13.407137082547498, 11.623675070301909, 24.14065589181358, 10.731872071130391, 69.83183984074061, 9.840151043723345, 9.840152621781037, 9.840156261966698, 9.84020381144968, 9.840238468521731, 55.55745492024398, 20.5439885293646, 9.846106466392373, 8.948451472294112, 8.948445849738835, 8.948431406411787, 8.948529698570965, 31.327191545619574, 8.94847794035227, 29.523975536127203, 12.546815813663123, 8.056709132291305, 51.92563983412413, 36.687140125599726, 72.38259760450937, 23.322330198961243, 34.90961587568832, 63.5476893427413, 76.11655743643192, 33.14492387530477, 28.738339004101938, 40.51416623283422, 16.086158595297952, 16.10898408766181, 31.387259647483383, 33.25542667713657, 34.913634242779125, 53.357948317417694, 27.83065394596853, 49.487489436120725, 93.17853311217524, 31.2686037074953, 27.863551207811785, 49.79454883419123, 35.87579239115109, 183.27621551922448, 39.61976525479211, 92.2703362853981, 245.48335234353584, 57.43329485670788, 49.03240537069506, 113.09981888078092, 156.06603017211583, 503.6384724854101, 300.9314515398267, 181.44233288960683, 96.84741607601299, 71.63251218931629, 274.5788870165715, 222.42423868209144, 138.44436872332767, 248.71079953798682, 681.1409236641086, 364.2578522151712, 330.06700449416275, 204.32668452424025, 296.54927571359985, 261.85673409371486], \"Category\": [\"Default\", \"Default\", \"Default\", \"Default\", \"Default\", \"Default\", \"Default\", \"Default\", \"Default\", \"Default\", \"Default\", \"Default\", \"Default\", \"Default\", \"Default\", \"Default\", \"Default\", \"Default\", \"Default\", \"Default\", \"Default\", \"Default\", \"Default\", \"Default\", \"Default\", \"Default\", \"Default\", \"Default\", \"Default\", \"Default\", \"Topic1\", \"Topic1\", \"Topic1\", \"Topic1\", \"Topic1\", \"Topic1\", \"Topic1\", \"Topic1\", \"Topic1\", \"Topic1\", \"Topic1\", \"Topic1\", \"Topic1\", \"Topic1\", \"Topic1\", \"Topic1\", \"Topic1\", \"Topic1\", \"Topic1\", \"Topic1\", \"Topic1\", \"Topic1\", \"Topic1\", \"Topic1\", \"Topic1\", \"Topic1\", \"Topic1\", \"Topic1\", \"Topic1\", \"Topic1\", \"Topic1\", \"Topic1\", \"Topic1\", \"Topic1\", \"Topic1\", \"Topic1\", \"Topic1\", \"Topic1\", \"Topic1\", \"Topic1\", \"Topic1\", \"Topic1\", \"Topic1\", \"Topic1\", \"Topic1\", \"Topic1\", \"Topic1\", \"Topic1\", \"Topic1\", \"Topic1\", \"Topic1\", \"Topic1\", \"Topic1\", \"Topic1\", \"Topic1\", \"Topic1\", \"Topic1\", \"Topic1\", \"Topic1\", \"Topic1\", \"Topic1\", \"Topic1\", \"Topic1\", \"Topic1\", \"Topic1\", \"Topic1\", \"Topic1\", \"Topic1\", \"Topic1\", \"Topic1\", \"Topic1\", \"Topic1\", \"Topic1\", \"Topic1\", \"Topic1\", \"Topic1\", \"Topic2\", \"Topic2\", \"Topic2\", \"Topic2\", \"Topic2\", \"Topic2\", \"Topic2\", \"Topic2\", \"Topic2\", \"Topic2\", \"Topic2\", \"Topic2\", \"Topic2\", \"Topic2\", \"Topic2\", \"Topic2\", \"Topic2\", \"Topic2\", \"Topic2\", \"Topic2\", \"Topic2\", \"Topic2\", \"Topic2\", \"Topic2\", \"Topic2\", \"Topic2\", \"Topic2\", \"Topic2\", \"Topic2\", \"Topic2\", \"Topic2\", \"Topic2\", \"Topic2\", \"Topic2\", \"Topic2\", \"Topic2\", \"Topic2\", \"Topic2\", \"Topic2\", \"Topic2\", \"Topic2\", \"Topic2\", \"Topic2\", \"Topic2\", \"Topic2\", \"Topic2\", \"Topic2\", \"Topic2\", \"Topic2\", \"Topic2\", \"Topic2\", \"Topic2\", \"Topic2\", \"Topic2\", \"Topic2\", \"Topic2\", \"Topic2\", \"Topic2\", \"Topic2\", \"Topic2\", \"Topic2\", \"Topic2\", \"Topic2\", \"Topic2\", \"Topic2\", \"Topic2\", \"Topic2\", \"Topic2\", \"Topic2\", \"Topic2\", \"Topic2\", \"Topic2\", \"Topic2\", \"Topic2\", \"Topic2\", \"Topic2\", \"Topic2\", \"Topic3\", \"Topic3\", \"Topic3\", \"Topic3\", \"Topic3\", \"Topic3\", \"Topic3\", \"Topic3\", \"Topic3\", \"Topic3\", \"Topic3\", \"Topic3\", \"Topic3\", \"Topic3\", \"Topic3\", \"Topic3\", \"Topic3\", \"Topic3\", \"Topic3\", \"Topic3\", \"Topic3\", \"Topic3\", \"Topic3\", \"Topic3\", \"Topic3\", \"Topic3\", \"Topic3\", \"Topic3\", \"Topic3\", \"Topic3\", \"Topic3\", \"Topic3\", \"Topic3\", \"Topic3\", \"Topic3\", \"Topic3\", \"Topic3\", \"Topic3\", \"Topic3\", \"Topic3\", \"Topic3\", \"Topic3\", \"Topic3\", \"Topic3\", \"Topic3\", \"Topic3\", \"Topic3\", \"Topic3\", \"Topic3\", \"Topic3\", \"Topic3\", \"Topic3\", \"Topic3\", \"Topic3\", \"Topic3\", \"Topic3\", \"Topic3\", \"Topic3\", \"Topic3\", \"Topic3\", \"Topic3\", \"Topic3\", \"Topic3\", \"Topic3\", \"Topic3\", \"Topic3\", \"Topic3\", \"Topic3\", \"Topic3\", \"Topic3\", \"Topic3\", \"Topic3\", \"Topic3\", \"Topic3\", \"Topic3\", \"Topic3\", \"Topic3\", \"Topic3\", \"Topic3\", \"Topic4\", \"Topic4\", \"Topic4\", \"Topic4\", \"Topic4\", \"Topic4\", \"Topic4\", \"Topic4\", \"Topic4\", \"Topic4\", \"Topic4\", \"Topic4\", \"Topic4\", \"Topic4\", \"Topic4\", \"Topic4\", \"Topic4\", \"Topic4\", \"Topic4\", \"Topic4\", \"Topic4\", \"Topic4\", \"Topic4\", \"Topic4\", \"Topic4\", \"Topic4\", \"Topic4\", \"Topic4\", \"Topic4\", \"Topic4\", \"Topic4\", \"Topic4\", \"Topic4\", \"Topic4\", \"Topic4\", \"Topic4\", \"Topic4\", \"Topic4\", \"Topic4\", \"Topic4\", \"Topic4\", \"Topic4\", \"Topic4\", \"Topic4\", \"Topic4\", \"Topic4\", \"Topic4\", \"Topic4\", \"Topic4\", \"Topic4\", \"Topic4\", \"Topic4\", \"Topic4\", \"Topic4\", \"Topic4\", \"Topic4\", \"Topic4\", \"Topic4\", \"Topic4\", \"Topic4\", \"Topic4\", \"Topic4\", \"Topic4\", \"Topic4\", \"Topic4\", \"Topic4\", \"Topic4\", \"Topic4\", \"Topic4\", \"Topic4\", \"Topic4\", \"Topic4\", \"Topic4\", \"Topic4\", \"Topic4\", \"Topic4\", \"Topic4\", \"Topic4\", \"Topic4\", \"Topic4\", \"Topic4\", \"Topic4\", \"Topic5\", \"Topic5\", \"Topic5\", \"Topic5\", \"Topic5\", \"Topic5\", \"Topic5\", \"Topic5\", \"Topic5\", \"Topic5\", \"Topic5\", \"Topic5\", \"Topic5\", \"Topic5\", \"Topic5\", \"Topic5\", \"Topic5\", \"Topic5\", \"Topic5\", \"Topic5\", \"Topic5\", \"Topic5\", \"Topic5\", \"Topic5\", \"Topic5\", \"Topic5\", \"Topic5\", \"Topic5\", \"Topic5\", \"Topic5\", \"Topic5\", \"Topic5\", \"Topic5\", \"Topic5\", \"Topic5\", \"Topic5\", \"Topic5\", \"Topic5\", \"Topic5\", \"Topic5\", \"Topic5\", \"Topic5\", \"Topic5\", \"Topic5\", \"Topic5\", \"Topic5\", \"Topic5\", \"Topic5\", \"Topic5\", \"Topic5\", \"Topic5\", \"Topic5\", \"Topic5\", \"Topic5\", \"Topic5\", \"Topic5\", \"Topic5\", \"Topic5\", \"Topic5\", \"Topic5\", \"Topic5\", \"Topic5\", \"Topic5\", \"Topic5\", \"Topic5\", \"Topic5\", \"Topic5\", \"Topic5\", \"Topic5\", \"Topic5\", \"Topic5\", \"Topic5\", \"Topic5\", \"Topic5\", \"Topic5\", \"Topic5\"], \"logprob\": [30.0, 29.0, 28.0, 27.0, 26.0, 25.0, 24.0, 23.0, 22.0, 21.0, 20.0, 19.0, 18.0, 17.0, 16.0, 15.0, 14.0, 13.0, 12.0, 11.0, 10.0, 9.0, 8.0, 7.0, 6.0, 5.0, 4.0, 3.0, 2.0, 1.0, -5.6074, -7.1464, -7.3432, -7.5496, -6.3493, -7.0652, -7.7151, -7.7613, -7.8094, -7.8097, -7.8107, -7.8112, -7.8112, -7.9137, -6.2537, -7.1466, -7.9177, -7.8669, -8.0306, -8.0308, -8.0939, -8.094, -8.0941, -7.179, -8.1619, -8.1621, -8.0985, -7.3747, -6.9608, -8.2349, -6.5606, -6.8396, -6.1415, -6.8177, -7.026, -7.3635, -6.9732, -6.1643, -4.8008, -7.0706, -7.3232, -6.2105, -5.639, -6.5877, -6.5597, -6.3655, -5.4972, -6.7909, -6.4215, -6.269, -5.004, -6.5641, -6.7404, -6.2507, -6.6399, -5.89, -6.5076, -5.5826, -5.7333, -5.9662, -5.5257, -5.9542, -6.155, -5.1439, -5.999, -5.1593, -6.3177, -5.8743, -5.8917, -6.4287, -5.8302, -6.1281, -6.1987, -6.003, -6.1904, -6.2441, -6.4427, -7.018, -7.2415, -7.4207, -7.4207, -7.3802, -6.6015, -7.2591, -7.7726, -6.9855, -7.9246, -7.925, -8.1036, -8.1039, -8.1074, -8.2066, -8.2066, -8.2069, -8.207, -8.207, -8.2085, -8.2103, -8.3217, -8.3217, -8.3218, -8.3219, -8.322, -7.581, -8.3332, -8.4517, -6.7794, -7.7045, -6.8968, -7.3349, -6.4624, -6.7605, -6.9867, -5.8476, -6.8727, -7.3377, -6.352, -5.0962, -6.6879, -7.3372, -6.409, -5.9643, -5.8722, -6.8957, -6.6152, -7.0957, -6.0868, -6.1192, -5.4909, -6.0401, -5.8092, -5.5708, -5.0303, -6.3298, -6.377, -6.4186, -6.328, -5.8447, -5.8297, -5.7729, -5.716, -6.0525, -6.4183, -6.3098, -6.171, -5.7845, -5.9115, -6.1706, -6.1184, -6.1843, -6.1535, -6.3192, -6.3299, -6.3322, -6.4733, -6.6124, -6.8344, -7.0032, -7.2063, -7.2064, -7.2526, -6.452, -7.3514, -7.3516, -7.3548, -7.1376, -7.0254, -7.5854, -7.6533, -7.6534, -7.6537, -7.3684, -7.726, -7.7261, -7.7261, -7.805, -7.8052, -7.8058, -7.5983, -7.8904, -7.8912, -7.7377, -7.0794, -7.0481, -6.8101, -7.004, -6.9455, -7.3011, -6.3201, -6.8693, -6.5795, -7.2265, -6.0303, -6.4362, -6.759, -7.2886, -6.3585, -6.5054, -5.4108, -5.7603, -6.5118, -6.4777, -6.8992, -6.8733, -4.9208, -6.4968, -5.7126, -6.6785, -6.1439, -5.4398, -6.3868, -5.9958, -6.1807, -5.8491, -6.1594, -5.6213, -5.4915, -5.7891, -6.1094, -5.9832, -6.0293, -5.903, -6.2267, -6.1341, -6.0706, -6.3594, -6.21, -6.2572, -6.3304, -6.3564, -6.3674, -6.334, -6.9998, -7.4419, -7.4459, -7.5734, -7.5746, -7.812, -6.3674, -7.8129, -7.9045, -7.9052, -7.7383, -7.9062, -8.0074, -8.0074, -8.0075, -7.2209, -6.8471, -6.988, -8.0162, -8.1225, -8.1227, -8.1231, -8.1237, -8.1251, -7.6183, -7.4416, -8.1337, -8.2532, -8.2543, -8.2549, -6.7862, -5.7346, -7.5059, -7.0233, -7.0442, -7.0825, -6.8397, -5.8502, -7.4193, -6.7582, -6.9821, -6.0458, -7.3355, -5.6207, -6.0437, -7.1329, -5.8217, -6.5079, -6.5516, -6.8788, -4.9505, -6.1171, -6.7829, -5.2103, -6.3373, -5.5799, -6.4408, -6.3861, -5.7339, -5.4059, -5.488, -4.609, -5.9693, -5.7287, -5.9242, -6.0033, -6.273, -5.4873, -5.7701, -6.2538, -5.601, -5.5281, -5.9631, -6.0025, -5.921, -5.6132, -5.3873, -6.0786, -5.7337, -5.7971, -5.8669, -5.97, -6.8327, -6.8768, -7.0219, -7.1323, -7.2556, -7.3236, -7.3236, -6.5364, -7.3238, -7.4755, -6.75, -7.5609, -5.6919, -7.6544, -7.6545, -7.6545, -7.6545, -7.655, -5.9267, -6.9229, -7.6616, -7.7577, -7.7577, -7.7578, -7.7578, -6.5049, -7.758, -6.569, -7.4258, -7.8727, -6.0157, -6.3605, -5.6967, -6.8114, -6.4179, -5.8315, -5.6812, -6.4893, -6.6343, -6.3088, -7.1918, -7.1943, -6.5745, -6.5439, -6.5116, -6.1439, -6.7148, -6.2185, -5.6843, -6.6146, -6.7148, -6.2658, -6.5319, -5.3948, -6.4675, -5.917, -5.3578, -6.2853, -6.399, -5.9857, -5.9769, -5.5622, -5.7617, -5.9889, -6.1973, -6.2983, -5.9826, -6.0474, -6.1765, -6.0685, -5.895, -6.0843, -6.1318, -6.2566, -6.2572, -6.2723], \"loglift\": [30.0, 29.0, 28.0, 27.0, 26.0, 25.0, 24.0, 23.0, 22.0, 21.0, 20.0, 19.0, 18.0, 17.0, 16.0, 15.0, 14.0, 13.0, 12.0, 11.0, 10.0, 9.0, 8.0, 7.0, 6.0, 5.0, 4.0, 3.0, 2.0, 1.0, 1.1259, 1.1189, 1.1147, 1.1093, 1.1063, 1.1054, 1.1045, 1.1029, 1.1014, 1.1012, 1.1002, 1.0997, 1.0997, 1.0975, 1.0967, 1.0952, 1.0938, 1.0934, 1.0922, 1.092, 1.0896, 1.0896, 1.0894, 1.0888, 1.0864, 1.0863, 1.0853, 1.0847, 1.0831, 1.0826, 1.0778, 1.0742, 1.0614, 1.0637, 1.0617, 1.0678, 1.0523, 1.0162, 0.9316, 1.0394, 1.0518, 0.9454, 0.8427, 0.9551, 0.9499, 0.9153, 0.796, 0.9652, 0.9089, 0.8698, 0.6329, 0.9121, 0.948, 0.8198, 0.9223, 0.6843, 0.874, 0.5453, 0.5875, 0.6645, 0.4663, 0.6361, 0.7179, 0.2596, 0.6383, 0.1278, 0.7483, 0.3608, 0.367, 0.8028, 0.1992, 0.253, 0.383, -0.2976, 0.1867, 0.4021, 1.551, 1.5491, 1.5407, 1.536, 1.5359, 1.5295, 1.5269, 1.5222, 1.5206, 1.5192, 1.5118, 1.5114, 1.4999, 1.4997, 1.4962, 1.4923, 1.4923, 1.492, 1.492, 1.4919, 1.4903, 1.4888, 1.4826, 1.4826, 1.4826, 1.4825, 1.4824, 1.4778, 1.4715, 1.4705, 1.4602, 1.4659, 1.4355, 1.4506, 1.405, 1.3756, 1.376, 1.262, 1.3612, 1.4064, 1.3088, 1.1554, 1.3295, 1.3997, 1.2814, 1.178, 1.1349, 1.3014, 1.2253, 1.3202, 1.0501, 1.0199, 0.7678, 0.9369, 0.8074, 0.6642, 0.3731, 1.0015, 1.0219, 1.0106, 0.9141, 0.5731, 0.5514, 0.3551, 0.276, 0.6025, 0.9142, 0.7631, 0.5332, -0.0791, 0.1179, 0.4601, 0.215, 0.1365, -0.5166, 0.2625, -0.5974, 1.7171, 1.7147, 1.7121, 1.7069, 1.7023, 1.6956, 1.6955, 1.6938, 1.6936, 1.6901, 1.6899, 1.6864, 1.6811, 1.6789, 1.6788, 1.6753, 1.6752, 1.6749, 1.6717, 1.6715, 1.6714, 1.6714, 1.6665, 1.6662, 1.6656, 1.6649, 1.6609, 1.66, 1.6594, 1.6591, 1.6536, 1.6388, 1.63, 1.6238, 1.6411, 1.5824, 1.6095, 1.5771, 1.6308, 1.4616, 1.5042, 1.5382, 1.6135, 1.4186, 1.4465, 0.9861, 1.0882, 1.342, 1.3101, 1.4848, 1.4433, 0.3663, 1.197, 0.5368, 1.2951, 0.8564, 0.1971, 1.0019, 0.6189, 0.7803, 0.4292, 0.7399, 0.084, -0.088, 0.2434, 0.6165, 0.4228, 0.4145, 0.1264, 0.668, 0.4458, 0.2889, 0.9099, 0.201, 0.2504, 0.5408, 0.7099, 0.8021, -0.0824, 1.7477, 1.7305, 1.7266, 1.7242, 1.723, 1.7088, 1.7081, 1.708, 1.7033, 1.7026, 1.7022, 1.7016, 1.6957, 1.6957, 1.6956, 1.6912, 1.6897, 1.6874, 1.6872, 1.686, 1.6859, 1.6854, 1.6849, 1.6835, 1.6807, 1.6755, 1.6752, 1.6731, 1.672, 1.6715, 1.6668, 1.656, 1.6663, 1.6513, 1.6298, 1.631, 1.6072, 1.5425, 1.6426, 1.5857, 1.5933, 1.4888, 1.6247, 1.4204, 1.4352, 1.5783, 1.3386, 1.4618, 1.4538, 1.5228, 1.0821, 1.3482, 1.4918, 1.068, 1.3642, 1.1436, 1.3903, 1.3637, 1.1373, 1.0001, 1.0196, 0.6781, 1.1934, 1.0807, 1.1432, 1.1653, 1.2977, 0.8461, 0.9807, 1.2712, 0.8428, 0.7231, 1.0372, 1.0638, 0.9783, 0.6362, 0.3181, 1.0705, 0.6258, 0.5149, 0.3535, 0.4071, 2.0296, 2.028, 2.0224, 2.0172, 2.0115, 2.0079, 2.0079, 2.0078, 2.0077, 1.9987, 1.9934, 1.9931, 1.9893, 1.9863, 1.9863, 1.9863, 1.9863, 1.9858, 1.9832, 1.9818, 1.9786, 1.9781, 1.9781, 1.978, 1.978, 1.9779, 1.9778, 1.973, 1.972, 1.968, 1.9617, 1.9643, 1.9485, 1.9664, 1.9566, 1.9439, 1.9138, 1.9371, 1.9347, 1.9168, 1.9575, 1.9535, 1.9064, 1.8791, 1.8628, 1.8063, 1.8863, 1.807, 1.7085, 1.87, 1.8852, 1.7536, 1.8153, 1.3214, 1.7804, 1.4855, 1.0662, 1.5914, 1.6357, 1.2133, 0.9001, 0.1432, 0.4586, 0.7374, 1.1568, 1.3574, 0.3294, 0.4753, 0.8202, 0.3425, -0.4915, -0.055, -0.0039, 0.351, -0.0222, 0.0871]}, \"token.table\": {\"Topic\": [1, 2, 3, 4, 5, 2, 1, 2, 1, 2, 5, 1, 2, 3, 4, 5, 1, 2, 3, 5, 3, 3, 1, 1, 2, 3, 4, 5, 1, 1, 2, 1, 2, 3, 4, 5, 3, 4, 5, 2, 3, 4, 5, 4, 4, 1, 2, 2, 3, 4, 1, 3, 5, 1, 4, 3, 5, 1, 1, 2, 3, 4, 5, 2, 3, 4, 5, 2, 3, 4, 5, 1, 2, 3, 4, 5, 1, 4, 5, 1, 2, 3, 4, 5, 5, 1, 2, 3, 4, 5, 1, 4, 2, 4, 3, 1, 4, 5, 1, 2, 3, 4, 5, 1, 2, 3, 5, 1, 2, 3, 4, 5, 2, 3, 1, 2, 3, 4, 5, 1, 2, 3, 4, 3, 1, 2, 3, 4, 5, 1, 2, 3, 5, 5, 2, 1, 2, 5, 2, 4, 5, 1, 2, 3, 4, 5, 1, 3, 4, 1, 2, 3, 4, 5, 1, 2, 4, 1, 3, 4, 5, 1, 1, 1, 2, 2, 1, 2, 3, 4, 5, 4, 3, 1, 2, 3, 4, 5, 2, 5, 1, 2, 3, 4, 5, 1, 2, 3, 5, 1, 2, 3, 4, 5, 1, 2, 3, 4, 5, 1, 2, 3, 4, 5, 3, 4, 1, 2, 3, 4, 5, 1, 3, 5, 5, 4, 2, 3, 1, 2, 3, 4, 3, 4, 2, 1, 2, 5, 1, 3, 4, 5, 2, 2, 1, 2, 3, 4, 5, 3, 2, 4, 1, 1, 2, 3, 4, 5, 1, 2, 4, 5, 1, 2, 3, 4, 5, 4, 5, 1, 2, 1, 2, 3, 4, 5, 2, 3, 4, 5, 3, 5, 1, 3, 4, 2, 3, 4, 1, 2, 3, 4, 5, 1, 4, 3, 1, 2, 3, 4, 5, 1, 2, 3, 4, 5, 1, 2, 3, 4, 5, 1, 3, 1, 2, 3, 4, 5, 5, 1, 3, 4, 1, 2, 3, 4, 5, 1, 2, 3, 4, 5, 2, 4, 5, 3, 5, 4, 1, 2, 3, 4, 5, 2, 3, 4, 5, 2, 3, 4, 5, 5, 1, 2, 3, 4, 5, 1, 2, 3, 4, 5, 4, 1, 3, 5, 2, 4, 5, 1, 2, 3, 4, 1, 2, 3, 5, 5, 2, 3, 5, 1, 2, 3, 1, 2, 3, 5, 3, 1, 2, 3, 4, 5, 1, 1, 3, 1, 2, 3, 5, 1, 2, 1, 4, 1, 2, 3, 4, 5, 2, 1, 2, 3, 4, 1, 2, 1, 2, 3, 4, 5, 1, 2, 3, 4, 5, 3, 1, 2, 3, 4, 5, 1, 2, 3, 4, 5, 1, 2, 3, 4, 1, 2, 4, 5, 1, 2, 3, 4, 2, 1, 2, 3, 4, 5, 1, 1, 2, 3, 4, 5, 2, 1, 2, 2, 3, 3, 5, 1, 2, 3, 4, 5, 4, 1, 5, 1, 2, 3, 4, 5, 2, 3, 4, 5, 1, 2, 4, 5, 4, 5, 1, 2, 3, 4, 5, 1, 2, 3, 4, 5, 2, 3, 4, 3, 3, 1, 3, 4, 5, 1, 2, 3, 4, 5, 4, 1, 2, 3, 4, 5, 1, 2, 3, 4, 5, 3, 3, 4, 1, 2, 3, 4, 5, 5, 1, 2, 4, 5, 1, 2, 3, 4, 5, 1, 2, 1, 2, 3, 4, 5, 2, 3, 2, 3, 4, 1, 2, 3, 4, 5, 1, 2, 3, 4, 2, 4, 5, 2, 1, 2, 3, 4, 5, 1, 3, 1, 2, 3, 4, 5, 1, 2, 3, 4, 1, 2, 3, 4, 5, 1, 2, 3, 4, 5, 2, 1, 2, 3, 4, 5, 1, 2, 3, 4, 5, 1, 1, 2, 3, 1, 3, 4, 1, 2, 3, 4, 5, 3, 1, 4, 3, 3, 4, 5, 2, 5, 2, 3, 5, 1, 2, 4, 5, 1, 2, 3, 4, 5, 5, 3, 1, 4, 3, 4, 1, 2, 4, 5, 1, 2, 3, 5, 1, 2, 3, 4, 5, 1, 2, 4, 5, 5, 1, 3, 1, 2, 3, 4, 5, 1, 3, 1, 2, 3, 3, 2, 3, 5, 4, 5, 1, 2, 3, 4, 1, 2, 3, 4, 5, 2, 1, 4, 5, 1, 2, 5, 1, 2, 3, 4, 5, 1, 5, 1, 3, 4, 5, 3, 4, 1, 2, 1, 2, 3, 4, 1, 4, 5, 1, 3, 5, 1, 1, 1, 2, 3, 4, 5, 2, 4, 3, 1, 4, 5, 2, 3, 4, 5, 3, 1, 2, 3, 4, 1, 3, 4, 5, 4, 1, 2, 3, 4, 5, 1, 2, 3, 4, 5, 1, 2, 4, 5, 1, 2, 3, 4, 5, 2, 3, 1, 2, 3, 4, 5, 1, 2, 3, 4, 1, 2, 3, 4, 5, 1, 2, 3, 4, 5, 3, 5, 4, 1, 3, 5, 4, 3, 1, 3, 4, 4, 1, 2, 3, 4, 5, 4, 2, 3, 4, 4, 2, 1, 2, 3, 4, 5, 4, 1, 2, 5, 3, 3, 1, 2, 3, 4, 5, 1, 2, 3, 4, 5, 1, 2, 4, 3, 1, 2, 3, 1, 2, 3, 2, 2, 1, 4, 5, 1, 3, 1, 3, 4, 1, 1, 2, 3, 4, 1, 2, 3, 1, 2, 3, 4, 5, 2, 4, 5, 3, 2, 2, 3, 5, 1, 2, 3, 4, 5, 1, 2, 3, 4, 5, 2, 2, 4, 1, 4, 5, 1, 3, 4, 5, 2, 1, 1, 3, 2, 1, 1, 2, 4, 5, 1, 2, 3, 5, 1, 2, 3, 4, 5, 1, 2, 3, 4, 5, 4, 1, 3, 5, 1, 1, 3, 1, 2, 3, 4, 5, 1, 2, 3, 4, 5, 4, 1, 2, 3, 4, 1, 2, 3, 4, 5, 2, 3, 4, 4, 1, 2, 3, 4, 5, 1, 2, 3, 4, 5, 1, 3, 1, 3, 1, 2, 3, 4, 5, 1, 2, 3, 4, 5, 2, 3, 4, 5], \"Freq\": [0.7112735963178776, 0.12867261038916378, 0.04289087012972126, 0.007148478354953543, 0.10722717532430315, 0.9724173728071374, 0.9562449068904717, 0.9784344466355247, 0.02864023065354179, 0.04296034598031268, 0.9308074962401081, 0.13423176917592353, 0.13423176917592353, 0.13423176917592353, 0.19618489341096515, 0.40269530752777055, 0.13118945200737755, 0.03748270057353644, 0.03748270057353644, 0.768395361757497, 0.9436930133971599, 0.929202911819694, 0.9758848094357508, 0.41364759555797637, 0.35901489425786626, 0.11316773840737089, 0.10146073098591873, 0.015609343228602883, 0.9746179642442353, 0.9816330465556647, 0.9574751744576212, 0.13642520391812601, 0.05115945146929726, 0.21316438112207192, 0.5542273909173869, 0.04263287622441438, 0.6807644047395693, 0.30634398213280617, 0.9696328097459761, 0.05407064566692129, 0.7569890393368981, 0.18924725983422452, 0.9791049467346215, 0.973489585115026, 0.9013765687074764, 0.8489176447106807, 0.1543486626746692, 0.8291641186712015, 0.041458205933560074, 0.12437461780068022, 0.26859119807356285, 0.6522929096072241, 0.07674034230673225, 0.9532585274046075, 0.02508575072117388, 0.9380030910792799, 0.04466681386091809, 0.9609123592395484, 0.051294624491331375, 0.012823656122832844, 0.28212043470232256, 0.6155354938959765, 0.03847096836849853, 0.12034384596036105, 0.04011461532012035, 0.802292306402407, 0.04011461532012035, 0.7817166230361836, 0.08017606390114704, 0.08017606390114704, 0.06013204792586027, 0.09658877103340027, 0.04292834268151123, 0.04292834268151123, 0.11805294237415588, 0.6975855685745574, 0.042877362230491836, 0.042877362230491836, 0.9004246068403287, 0.6061261449884445, 0.134694698886321, 0.096210499204515, 0.09139997424428925, 0.07215787440338625, 0.9146119810805807, 0.058969907486449605, 0.058969907486449605, 0.3734760807475142, 0.45210262406278034, 0.06552211942938846, 0.9649810392852362, 0.9543130777285737, 0.9462311493254257, 0.03262866032156641, 0.9708575134987316, 0.051452745823681416, 0.8746966790025841, 0.051452745823681416, 0.6343757686660416, 0.14202442582075558, 0.12782198323868002, 0.07101221291037779, 0.0236707376367926, 0.039413238079052955, 0.026275492052701972, 0.07882647615810591, 0.8539534917128141, 0.10434581298583577, 0.32252342195621964, 0.43635521794076776, 0.10434581298583577, 0.028457948996137027, 0.04642323344538394, 0.8820414354622947, 0.1840570211176428, 0.061352340372547595, 0.030676170186273798, 0.6595376590048867, 0.0460142552794107, 0.11696457051994508, 0.6683689743996861, 0.17544685577991762, 0.033418448719984305, 0.9056008125266914, 0.18073474851879204, 0.14684698317151854, 0.14119902228030629, 0.4518368712969801, 0.07342349158575927, 0.4800263523846236, 0.51695145641421, 0.06207716107721031, 0.8690802550809444, 0.8940094299856601, 0.9112356769036716, 0.07196541614023337, 0.7676311054958226, 0.14393083228046674, 0.9574760578378421, 0.08593620768222929, 0.888007479383036, 0.3536698855562642, 0.07957572425015945, 0.008841747138906605, 0.12378445994469249, 0.42440386266751706, 0.01980494263435798, 0.23765931161229575, 0.7129779348368872, 0.3186503043217883, 0.5310838405363139, 0.007081117873817518, 0.12037900385489782, 0.021243353621452556, 0.7964817285681043, 0.14394248106652488, 0.05757699242660995, 0.038648803249810126, 0.038648803249810126, 0.8502736714958228, 0.038648803249810126, 0.9686192348331217, 0.9685906829428377, 0.10984634307780068, 0.8787707446224055, 0.9574756728887984, 0.21675438505110364, 0.05418859626277591, 0.07586403476788628, 0.08670175402044146, 0.5635614011328695, 0.9373748687592011, 0.9488191271084738, 0.29475258301193735, 0.13709422465671506, 0.15423100273880444, 0.34959027287462335, 0.06511975671193965, 0.8888723332241751, 0.06349088094458394, 0.657272207962597, 0.2552513428980959, 0.006381283572452398, 0.01914385071735719, 0.06381283572452398, 0.01396014141395904, 0.362963676762935, 0.11168113131167232, 0.48860494948856636, 0.6050951563817005, 0.18152854691451017, 0.010084919273028342, 0.030254757819085026, 0.16640116800496765, 0.1360242635246704, 0.10801926809312061, 0.26804781341626227, 0.4600820678040322, 0.024004281798471246, 0.05954592727297963, 0.00850656103899709, 0.2892230753259011, 0.6464986389637789, 0.9146201069485366, 0.07220396081612719, 0.9386514906096535, 0.02395558573093665, 0.05988896432734163, 0.2515336501748348, 0.49707840391693553, 0.17367799654929073, 0.03192115062544853, 0.03192115062544853, 0.9257133681380072, 0.8688410969118877, 0.8415819641172967, 0.02278416913684591, 0.9569351037475282, 0.7641323188507664, 0.12735538647512773, 0.053064744364636554, 0.053064744364636554, 0.12060927928847141, 0.8442649550192999, 0.947374286080953, 0.9396380714155526, 0.0361399258236751, 0.01806996291183755, 0.03179560667883796, 0.8902769870074629, 0.03179560667883796, 0.03179560667883796, 0.9574742796718889, 0.9693078541436099, 0.032193102119342364, 0.05365517019890394, 0.0751172382784655, 0.7940965189437782, 0.04292413615912315, 0.9436984799189885, 0.9786839030849047, 0.019573678061698095, 0.9749074133199452, 0.8853190505032348, 0.06943678827476352, 0.00867959853434544, 0.01735919706869088, 0.01735919706869088, 0.032129321845560624, 0.021419547897040415, 0.8889112377271772, 0.053548869742601035, 0.05769840652697982, 0.09231745044316772, 0.1615555382755435, 0.646222153102174, 0.02307936261079193, 0.06774155457325479, 0.9145109867389395, 0.9232134431612764, 0.07101641870471356, 0.3839561519720238, 0.5153095723835056, 0.08083287409937344, 0.01010410926242168, 0.01010410926242168, 0.05574789758492717, 0.08362184637739074, 0.05574789758492717, 0.7804705661889803, 0.873972302208376, 0.09710803357870844, 0.13035383268261275, 0.7584222992442924, 0.10665313583122861, 0.03480936982652281, 0.9050436154895931, 0.03480936982652281, 0.47816198731745574, 0.25434148261566797, 0.1882126971355943, 0.010173659304626718, 0.06612878548007367, 0.9578524408565802, 0.02336225465503854, 0.9668873381826452, 0.13683307627575642, 0.15393721081022596, 0.3010327678066641, 0.3181369023411337, 0.08894149957924166, 0.04348967260025087, 0.057986230133667827, 0.41315188970238326, 0.4783863986027596, 0.007248278766708478, 0.576819855367026, 0.238810768145584, 0.029392094540994954, 0.025718082723370585, 0.12859041361685292, 0.9272395420791364, 0.0699803427984254, 0.23094632560029454, 0.37977840209826214, 0.13856779536017674, 0.22581418503139913, 0.020528562275581738, 0.914619960271615, 0.9795311947116191, 0.20602302409417406, 0.7652283752069322, 0.08768237043023754, 0.10229609883527713, 0.08768237043023754, 0.6576177782267816, 0.05845491362015836, 0.14728877133585627, 0.007752040596624015, 0.13178469014260827, 0.5271387605704331, 0.17829693372235234, 0.17667949204099168, 0.050479854868854764, 0.7571978230328215, 0.048676039639072397, 0.9248447531423756, 0.9543361328875567, 0.2904229376043996, 0.11902579410016376, 0.2761398423123799, 0.16663611174022927, 0.14759198468420306, 0.03711445339736563, 0.7979607480433611, 0.07422890679473126, 0.07422890679473126, 0.028642105632610305, 0.08592631689783091, 0.05728421126522061, 0.8306210633456989, 0.9736705902928656, 0.19426475758631556, 0.12290219357501596, 0.4757504267419973, 0.13479595424356589, 0.07136256401129959, 0.2967302502239115, 0.20231607969812146, 0.18433242816939954, 0.11239782205451192, 0.20231607969812146, 0.9734894917369477, 0.031472426781925925, 0.06294485356385185, 0.8812279498939259, 0.06372012155449064, 0.06372012155449064, 0.8602216409856236, 0.8323703322408152, 0.06031669074208806, 0.06031669074208806, 0.048253352593670445, 0.8009965889080292, 0.03814269470990615, 0.03814269470990615, 0.11442808412971846, 0.9463444163287584, 0.864154358311617, 0.04320771791558085, 0.04320771791558085, 0.08492862479796635, 0.8209767063803414, 0.08492862479796635, 0.050059006202096724, 0.9010621116377411, 0.025029503101048362, 0.025029503101048362, 0.9668688696835187, 0.7659294584980741, 0.11655448281492434, 0.016650640402132048, 0.05827724140746217, 0.04162660100533012, 0.9898516524731049, 0.06171853909703518, 0.9257780864555277, 0.2927259591519232, 0.16816172121493458, 0.523169799335352, 0.006228211896849429, 0.935461308839887, 0.031182043627996234, 0.9467711155036606, 0.04116396154363741, 0.09507581304281423, 0.08099050740684174, 0.2711421334924702, 0.48946437085004363, 0.05986254895288303, 0.9741528279373572, 0.5144187120524525, 0.4442707058634817, 0.03897111454942822, 0.007794222909885644, 0.946720494385999, 0.05488234750063762, 0.03509518642242336, 0.02339679094828224, 0.21057111853454016, 0.7136021239226084, 0.02339679094828224, 0.11541881088561837, 0.1319072124407067, 0.20335695251275615, 0.5276288497628268, 0.02198453540678445, 0.9488081291170125, 0.8221125136950163, 0.07211513278026457, 0.02884605311210583, 0.014423026556052916, 0.05769210622421166, 0.2383628912054084, 0.231139773290093, 0.13001612247567731, 0.10834676872973109, 0.28892471661261626, 0.7965771796649727, 0.1310823207043626, 0.050416277193985615, 0.020166510877594246, 0.9093051224140936, 0.04041356099618194, 0.02020678049809097, 0.8940114347043873, 0.08934281433412235, 0.017868562866824467, 0.8576910176075745, 0.017868562866824467, 0.9426051243383916, 0.13696990138701567, 0.12392514887396656, 0.34568594159580146, 0.30002930780012954, 0.09131326759134378, 0.9652715245165401, 0.14581603427483533, 0.10292896537047201, 0.14581603427483533, 0.540377068194978, 0.06861931024698134, 0.9693631361488256, 0.04302647847331841, 0.9465825264130051, 0.8125120136460158, 0.15798844709783638, 0.062165245610117506, 0.8703134385416451, 0.11842684344927477, 0.09639394234243295, 0.22583723634512864, 0.49849438754229614, 0.06334459068217023, 0.9014094912304851, 0.07970149676629736, 0.876716464429271, 0.14172097079453622, 0.07971804607192662, 0.22586779720379208, 0.46945071575690117, 0.08857560674658513, 0.07645218413012327, 0.30580873652049306, 0.528794273566686, 0.09556523016265409, 0.6812152467578071, 0.23997355283513658, 0.023223247048561605, 0.06192865879616428, 0.04142389521152627, 0.9113256946535779, 0.2525492088351616, 0.1628277793805647, 0.14621269985193566, 0.23925714521225835, 0.1993809543435486, 0.024736401634479013, 0.012368200817239506, 0.1855230122585926, 0.7420920490343704, 0.024736401634479013, 0.05696060816964176, 0.05696060816964176, 0.8544091225446264, 0.9668974655705754, 0.9815676078066604, 0.035931602683193765, 0.035931602683193765, 0.07186320536638753, 0.8264268617134567, 0.14057763678729182, 0.020082519541041687, 0.060247558623125065, 0.040165039082083374, 0.7229707034775007, 0.9567369066010181, 0.29863913023673627, 0.1566034463436544, 0.087406574703435, 0.28407136778616376, 0.17481314940687, 0.15254395059107878, 0.2567203070923033, 0.17114687139486887, 0.39438192104035, 0.026044089125306133, 0.9932276531142159, 0.9809315946108029, 0.9465595181281347, 0.12236805342586739, 0.12236805342586739, 0.020394675570977898, 0.10197337785488948, 0.6526296182712927, 0.9326873339578707, 0.26240117503123367, 0.565171761605734, 0.030277058657450038, 0.1412929404014335, 0.2773258896095334, 0.6422283759378667, 0.036490248632833344, 0.014596099453133336, 0.029192198906266672, 0.1234748671605082, 0.8231657810700548, 0.210261361153185, 0.35043560192197504, 0.18869609334260193, 0.16173950857937308, 0.08626107124233232, 0.9574768494512507, 0.956143808083516, 0.9693784202174238, 0.09295938719784583, 0.8986074095791763, 0.7309545231365797, 0.031104447793045945, 0.1710744628617527, 0.007776111948261486, 0.06998500753435337, 0.1389643201729575, 0.25654951416546, 0.4810303390602375, 0.12827475708273, 0.027257507578308488, 0.054515015156616976, 0.8994977500841802, 0.8812052746769685, 0.08318642103721312, 0.08318642103721312, 0.11646098945209837, 0.6821286525051476, 0.03327456841488525, 0.1382204978606974, 0.852359736807634, 0.5104150756922687, 0.2723976828824025, 0.0978515948218339, 0.05289275395774806, 0.06611594244718508, 0.07542563483145527, 0.6582600858017915, 0.16113658350356355, 0.10628157635341424, 0.11756293964071879, 0.7053776378443127, 0.10076823397775896, 0.08397352831479914, 0.9696398240661093, 0.47215468596826937, 0.2670773981234655, 0.20030804859259912, 0.004769239252204741, 0.05246163177425215, 0.9332661691979864, 0.4154793672910423, 0.3009656194157727, 0.16149374700358535, 0.044043749182796, 0.07781062355627294, 0.14635061106894115, 0.14635061106894115, 0.3832992194662745, 0.30663937557301957, 0.013938153435137253, 0.9795113735091083, 0.9399477472032488, 0.03032089507107254, 0.03032089507107254, 0.09238887820421192, 0.06159258546947461, 0.8314999038379073, 0.112181424224296, 0.21605311332086635, 0.26591152408722013, 0.3905575510031046, 0.012464602691588444, 0.9437196754279956, 0.049040324315173786, 0.9317661619883019, 0.9557373982145633, 0.038704681284389406, 0.9289123508253456, 0.038704681284389406, 0.09629154336802481, 0.9051405076594332, 0.03198096113771441, 0.15990480568857207, 0.8315049895805747, 0.7124374159906202, 0.1918100735359362, 0.07307050420416616, 0.00913381302552077, 0.3848043506468919, 0.19823254427264128, 0.10883355371831285, 0.2526493211317977, 0.05441677685915643, 0.894006785659581, 0.9763253099166415, 0.06738460667634139, 0.9096921901306088, 0.06372977759610754, 0.9347034047429106, 0.15670352924125946, 0.13929202599223062, 0.08705751624514414, 0.6268141169650379, 0.0808285092975522, 0.0404142546487761, 0.10103563662194025, 0.7678708383267459, 0.19841014732710213, 0.11573925260747624, 0.1488076104953266, 0.27556964906541964, 0.26454686310280284, 0.7933347451648028, 0.10500018686004743, 0.0583334371444708, 0.04666674971557664, 0.9318038766880956, 0.050540550819961776, 0.909729914759312, 0.09558939864253752, 0.12745253152338334, 0.6531942240573397, 0.11152096508296043, 0.8940016147320335, 0.9245946717596074, 0.06450660500648424, 0.3887630312639051, 0.5723455738051936, 0.03239691927199209, 0.9746476322320333, 0.041446426341199764, 0.06907737723533294, 0.8841904286122616, 0.9734843290698026, 0.979815991646227, 0.46271963585318737, 0.445453977798964, 0.08632829027111705, 0.003453131610844682, 0.7465993834192451, 0.19420215175645103, 0.021578016861827892, 0.03452482697892463, 0.004315603372365579, 0.8812013304516908, 0.9567132223316493, 0.020574477899605363, 0.010287238949802682, 0.9015365811351591, 0.02198869710085754, 0.06596609130257261, 0.6210939299267988, 0.32557343101001546, 0.030052932093232197, 0.005008822015538699, 0.015026466046616099, 0.9795989459832489, 0.9140668984963366, 0.03501703891254561, 0.07003407782509122, 0.8404089339010945, 0.07003407782509122, 0.06019632252116035, 0.9029448378174052, 0.04479107273585108, 0.9630080638207983, 0.1714982296051593, 0.04899949417290266, 0.1714982296051593, 0.6002438036180576, 0.977723084735008, 0.8655490809793734, 0.8940099917164369, 0.971421889906483, 0.011428492822429212, 0.011428492822429212, 0.9795991750605555, 0.9649999797276815, 0.16266559202725048, 0.1380192902049398, 0.33026044441896313, 0.22674597676525826, 0.14294855056940195, 0.8812047744847937, 0.8849027507918723, 0.9475385104140828, 0.035889179830015404, 0.1076675394900462, 0.8254511360903543, 0.026513762973850483, 0.821926652189365, 0.07954128892155145, 0.053027525947700965, 0.9561404430093866, 0.36461055397187575, 0.048353370956843736, 0.25483533342120346, 0.3332462052431122, 0.8214862368406022, 0.14397181470402307, 0.008468930276707238, 0.025406790830121716, 0.9614673078052403, 0.027781963965127575, 0.027781963965127575, 0.1111278558605103, 0.8334589189538273, 0.9515464325846957, 0.18506121530204844, 0.14300184818794653, 0.1682374684564077, 0.49630053194640267, 0.008411873422820383, 0.38958095157279166, 0.5676751008632107, 0.044523537322604764, 0.914619621924705, 0.09457580050810885, 0.0788131670900907, 0.7250811372288345, 0.0788131670900907, 0.01576263341801814, 0.9085173346649281, 0.05678233341655801, 0.18028950436900665, 0.18887471886276885, 0.3949198667130622, 0.10302257392514665, 0.13736343190019554, 0.39143664089651653, 0.5746623025927583, 0.01665687833602198, 0.01665687833602198, 0.4247592243943097, 0.464271710384478, 0.029634364492626256, 0.0691468504827946, 0.009878121497542086, 0.12127930356636507, 0.7276758213981904, 0.016170573808848676, 0.03234114761769735, 0.09702344285309206, 0.03394326163055372, 0.9504113256555042, 0.9149455124011993, 0.05399815388063903, 0.017999384626879673, 0.9179686159708634, 0.961492306566025, 0.9708528738374772, 0.20242907603912672, 0.7807978647223459, 0.9614866897371442, 0.8849824193918053, 0.39152986887774427, 0.08809422049749245, 0.14682370082915408, 0.20065905779984392, 0.1810825643559567, 0.9615252102930197, 0.038672109770731614, 0.038672109770731614, 0.8894585247268271, 0.9614915926337645, 0.9693738407001303, 0.02900584994433077, 0.07251462486082692, 0.5801169988866154, 0.2900584994433077, 0.02900584994433077, 0.8849665669092198, 0.835494048011749, 0.14964072501702966, 0.012470060418085805, 0.9292291114237404, 0.9561411035425521, 0.8139941035607525, 0.11424478646466701, 0.022440940198416734, 0.0020400854725833397, 0.04896205134200015, 0.5544328803191122, 0.2938797234478354, 0.0030296878705962415, 0.02423750296476993, 0.12724689056504215, 0.13801773724246755, 0.8453586406101137, 0.017252217155308443, 0.9641643757970949, 0.056126713551891805, 0.7717423113385122, 0.16838014065567541, 0.1879030118514547, 0.7516120474058188, 0.05781631133890914, 0.9693902041969213, 0.9694848382462692, 0.03007028024955427, 0.12028112099821708, 0.8419678469875196, 0.039732604483411295, 0.9138499031184598, 0.987957705154043, 0.005550324186258669, 0.005550324186258669, 0.9795725938986095, 0.08957408185224762, 0.776308709386146, 0.02985802728408254, 0.08957408185224762, 0.14932226008619395, 0.7963853871263677, 0.024887043347698992, 0.03754483258192693, 0.03754483258192693, 0.7508966516385386, 0.15017933032770772, 0.018772416290963465, 0.03017053240979287, 0.06034106481958574, 0.8749454398839932, 0.9486210157763514, 0.9693770823281832, 0.07426318453920933, 0.891158214470512, 0.9696386801632445, 0.030201422414604925, 0.06040284482920985, 0.19630924569493202, 0.7021830711395645, 0.007550355603651231, 0.23826615033559867, 0.19061292026847895, 0.1925984715212756, 0.2323094965772087, 0.14693079270695253, 0.9578518530251156, 0.06360531937508256, 0.8904744712511559, 0.0695934444824571, 0.03479672224122855, 0.8699180560307139, 0.9171242315154561, 0.028660132234858002, 0.028660132234858002, 0.914615202332288, 0.9112587452450356, 0.9649815049811745, 0.9526781605744353, 0.025748058393903657, 0.9741531339662031, 0.98355976055815, 0.4586084375783319, 0.4012823828810404, 0.013488483458186233, 0.12476847198822265, 0.23266340343341574, 0.5899679158490185, 0.14125992351314526, 0.03323762906191653, 0.26071014343341997, 0.14257585969015155, 0.07332472784064936, 0.1547966476635931, 0.3666236392032468, 0.21279356892825602, 0.09275617107129108, 0.08729992571415632, 0.13094988857123446, 0.47469334607072494, 0.946445608110731, 0.09873089765718165, 0.024682724414295414, 0.8638953545003394, 0.9609004732195898, 0.9651782283355018, 0.957226119358983, 0.19863387289221085, 0.1089282528763737, 0.019222632860536534, 0.35882248006334866, 0.3139696700554301, 0.18712522391142167, 0.12220422786052028, 0.23677069147975804, 0.3169672160132245, 0.13747975634308532, 0.9464883550069283, 0.32502634454411183, 0.2644282125104639, 0.32502634454411183, 0.08263381640951996, 0.061943824238613304, 0.061943824238613304, 0.3561769893720265, 0.4878076158790798, 0.02322893408947999, 0.0382194973612681, 0.2293169841676086, 0.7261704498640938, 0.9373257194922235, 0.24928551600965135, 0.2050574405885842, 0.21711964297614794, 0.14876716277995322, 0.1769123016842687, 0.34007193550133263, 0.36841126345977704, 0.15789054148276158, 0.07692103303006334, 0.06072713133952369, 0.04122310759797387, 0.9481314747533989, 0.039837385627072716, 0.9560972550497452, 0.6044472807601631, 0.12422689512555499, 0.21507940051588625, 0.01483306210454388, 0.04264505355056365, 0.3898337376571336, 0.23335118099194616, 0.2004074848519067, 0.0549061602333991, 0.12079355251347802, 0.025924507248144282, 0.20739605798515426, 0.7518107101961842, 0.025924507248144282], \"Term\": [\"000\", \"000\", \"000\", \"000\", \"000\", \"academic\", \"adjustments\", \"advisory\", \"af\", \"af\", \"af\", \"air\", \"air\", \"air\", \"air\", \"air\", \"aircraft\", \"aircraft\", \"aircraft\", \"aircraft\", \"al\", \"alice\", \"allotment\", \"american\", \"american\", \"american\", \"american\", \"american\", \"assessment\", \"assessors\", \"autonomy\", \"away\", \"away\", \"away\", \"away\", \"away\", \"ball\", \"ball\", \"ballistic\", \"baseball\", \"baseball\", \"baseball\", \"battens\", \"beard\", \"bent\", \"berlin\", \"berlin\", \"bible\", \"bible\", \"bible\", \"billion\", \"billion\", \"billion\", \"boats\", \"boats\", \"bob\", \"bob\", \"bond\", \"boy\", \"boy\", \"boy\", \"boy\", \"boy\", \"breakfast\", \"breakfast\", \"breakfast\", \"breakfast\", \"bridge\", \"bridge\", \"bridge\", \"bridge\", \"brown\", \"brown\", \"brown\", \"brown\", \"brown\", \"builder\", \"builder\", \"builder\", \"business\", \"business\", \"business\", \"business\", \"business\", \"butter\", \"came\", \"came\", \"came\", \"came\", \"came\", \"capita\", \"carla\", \"catholic\", \"catholic\", \"cathy\", \"chest\", \"chest\", \"chest\", \"city\", \"city\", \"city\", \"city\", \"city\", \"clay\", \"clay\", \"clay\", \"clay\", \"club\", \"club\", \"club\", \"club\", \"club\", \"coach\", \"coach\", \"cold\", \"cold\", \"cold\", \"cold\", \"cold\", \"college\", \"college\", \"college\", \"college\", \"colt\", \"come\", \"come\", \"come\", \"come\", \"come\", \"committee\", \"committee\", \"commodities\", \"commodities\", \"cone\", \"confrontation\", \"congo\", \"congo\", \"congo\", \"connally\", \"cooling\", \"cooling\", \"cost\", \"cost\", \"cost\", \"cost\", \"cost\", \"couldn\", \"couldn\", \"couldn\", \"country\", \"country\", \"country\", \"country\", \"country\", \"county\", \"county\", \"county\", \"cousin\", \"cousin\", \"cousin\", \"cousin\", \"cranston\", \"cromwell\", \"cuba\", \"cuba\", \"curriculum\", \"cut\", \"cut\", \"cut\", \"cut\", \"cut\", \"dairy\", \"dave\", \"day\", \"day\", \"day\", \"day\", \"day\", \"daytime\", \"daytime\", \"department\", \"department\", \"department\", \"department\", \"department\", \"design\", \"design\", \"design\", \"design\", \"development\", \"development\", \"development\", \"development\", \"development\", \"did\", \"did\", \"did\", \"did\", \"did\", \"didn\", \"didn\", \"didn\", \"didn\", \"disk\", \"doc\", \"doc\", \"don\", \"don\", \"don\", \"don\", \"don\", \"drill\", \"drill\", \"drill\", \"drilling\", \"drinking\", \"du\", \"du\", \"east\", \"east\", \"east\", \"east\", \"eddie\", \"eddie\", \"editorial\", \"election\", \"election\", \"election\", \"engineer\", \"engineer\", \"engineer\", \"engineer\", \"essex\", \"excellence\", \"eyes\", \"eyes\", \"eyes\", \"eyes\", \"eyes\", \"fabrics\", \"faculty\", \"faculty\", \"farmers\", \"federal\", \"federal\", \"federal\", \"federal\", \"federal\", \"feed\", \"feed\", \"feed\", \"feed\", \"felt\", \"felt\", \"felt\", \"felt\", \"felt\", \"fig\", \"fig\", \"fiscal\", \"fiscal\", \"foreign\", \"foreign\", \"foreign\", \"foreign\", \"foreign\", \"frame\", \"frame\", \"frame\", \"frame\", \"gallery\", \"gallery\", \"game\", \"game\", \"game\", \"games\", \"games\", \"games\", \"general\", \"general\", \"general\", \"general\", \"general\", \"georgia\", \"georgia\", \"giants\", \"good\", \"good\", \"good\", \"good\", \"good\", \"got\", \"got\", \"got\", \"got\", \"got\", \"government\", \"government\", \"government\", \"government\", \"government\", \"governor\", \"governor\", \"great\", \"great\", \"great\", \"great\", \"great\", \"grill\", \"gun\", \"hair\", \"hair\", \"hands\", \"hands\", \"hands\", \"hands\", \"hands\", \"head\", \"head\", \"head\", \"head\", \"head\", \"heat\", \"heat\", \"heat\", \"heating\", \"heating\", \"hell\", \"high\", \"high\", \"high\", \"high\", \"high\", \"hit\", \"hit\", \"hit\", \"hit\", \"hole\", \"hole\", \"hole\", \"hole\", \"holes\", \"home\", \"home\", \"home\", \"home\", \"home\", \"house\", \"house\", \"house\", \"house\", \"house\", \"improves\", \"inch\", \"inch\", \"inch\", \"inches\", \"inches\", \"inches\", \"income\", \"income\", \"income\", \"income\", \"industrial\", \"industrial\", \"industrial\", \"industrial\", \"insert\", \"institution\", \"institution\", \"institution\", \"interference\", \"interference\", \"interference\", \"interior\", \"interior\", \"interior\", \"interior\", \"investors\", \"island\", \"island\", \"island\", \"island\", \"island\", \"item\", \"jim\", \"jim\", \"john\", \"john\", \"john\", \"john\", \"juniors\", \"juniors\", \"jury\", \"jury\", \"just\", \"just\", \"just\", \"just\", \"just\", \"katanga\", \"kennedy\", \"kennedy\", \"kennedy\", \"kennedy\", \"khrushchev\", \"khrushchev\", \"knew\", \"knew\", \"knew\", \"knew\", \"knew\", \"know\", \"know\", \"know\", \"know\", \"know\", \"kowalski\", \"labor\", \"labor\", \"labor\", \"labor\", \"labor\", \"large\", \"large\", \"large\", \"large\", \"large\", \"law\", \"law\", \"law\", \"law\", \"laws\", \"laws\", \"laws\", \"lb\", \"league\", \"league\", \"league\", \"league\", \"lectures\", \"left\", \"left\", \"left\", \"left\", \"left\", \"legislature\", \"let\", \"let\", \"let\", \"let\", \"let\", \"liberals\", \"libraries\", \"libraries\", \"library\", \"library\", \"lid\", \"lid\", \"like\", \"like\", \"like\", \"like\", \"like\", \"lips\", \"liquid\", \"liquid\", \"little\", \"little\", \"little\", \"little\", \"little\", \"ll\", \"ll\", \"ll\", \"ll\", \"local\", \"local\", \"local\", \"local\", \"locking\", \"locking\", \"long\", \"long\", \"long\", \"long\", \"long\", \"looked\", \"looked\", \"looked\", \"looked\", \"looked\", \"loved\", \"loved\", \"loved\", \"lucille\", \"lucy\", \"lumber\", \"lumber\", \"lumber\", \"lumber\", \"machine\", \"machine\", \"machine\", \"machine\", \"machine\", \"maggie\", \"make\", \"make\", \"make\", \"make\", \"make\", \"man\", \"man\", \"man\", \"man\", \"man\", \"mantle\", \"maris\", \"marry\", \"materials\", \"materials\", \"materials\", \"materials\", \"materials\", \"measuring\", \"medical\", \"medical\", \"medical\", \"medical\", \"members\", \"members\", \"members\", \"members\", \"members\", \"membership\", \"membership\", \"men\", \"men\", \"men\", \"men\", \"men\", \"mercenaries\", \"mickey\", \"midwest\", \"mike\", \"mike\", \"million\", \"million\", \"million\", \"million\", \"million\", \"miss\", \"miss\", \"miss\", \"miss\", \"mold\", \"mold\", \"mold\", \"monroe\", \"morning\", \"morning\", \"morning\", \"morning\", \"morning\", \"motors\", \"motors\", \"mr\", \"mr\", \"mr\", \"mr\", \"mr\", \"mrs\", \"mrs\", \"mrs\", \"mrs\", \"music\", \"music\", \"music\", \"music\", \"mustard\", \"national\", \"national\", \"national\", \"national\", \"national\", \"nato\", \"new\", \"new\", \"new\", \"new\", \"new\", \"night\", \"night\", \"night\", \"night\", \"night\", \"notte\", \"officials\", \"officials\", \"officials\", \"oh\", \"oh\", \"oh\", \"old\", \"old\", \"old\", \"old\", \"old\", \"orioles\", \"owen\", \"owen\", \"paintings\", \"pale\", \"pale\", \"pale\", \"palmer\", \"palmer\", \"panels\", \"panels\", \"panels\", \"peace\", \"peace\", \"peace\", \"peace\", \"people\", \"people\", \"people\", \"people\", \"people\", \"pepper\", \"pete\", \"petitioner\", \"petitioner\", \"phil\", \"phil\", \"piece\", \"piece\", \"piece\", \"piece\", \"pieces\", \"pieces\", \"pieces\", \"pieces\", \"place\", \"place\", \"place\", \"place\", \"place\", \"planning\", \"planning\", \"planning\", \"planning\", \"plaster\", \"plastics\", \"plastics\", \"play\", \"play\", \"play\", \"play\", \"plywood\", \"police\", \"police\", \"policy\", \"policy\", \"policy\", \"pont\", \"pool\", \"pool\", \"pool\", \"porch\", \"precision\", \"president\", \"president\", \"president\", \"president\", \"program\", \"program\", \"program\", \"program\", \"program\", \"programing\", \"property\", \"property\", \"property\", \"providence\", \"providence\", \"providence\", \"public\", \"public\", \"public\", \"public\", \"public\", \"puerto\", \"pump\", \"push\", \"push\", \"push\", \"push\", \"rachel\", \"rachel\", \"rayburn\", \"rayburn\", \"really\", \"really\", \"really\", \"really\", \"rehabilitation\", \"rent\", \"resin\", \"rhode\", \"rhode\", \"rhode\", \"rico\", \"rifle\", \"right\", \"right\", \"right\", \"right\", \"right\", \"ritter\", \"riverside\", \"robinson\", \"roof\", \"roof\", \"roof\", \"runs\", \"runs\", \"runs\", \"runs\", \"ruth\", \"said\", \"said\", \"said\", \"said\", \"sales\", \"sales\", \"sales\", \"sales\", \"salesmen\", \"sat\", \"sat\", \"sat\", \"sat\", \"sauce\", \"say\", \"say\", \"say\", \"say\", \"say\", \"schools\", \"schools\", \"schools\", \"screws\", \"season\", \"season\", \"season\", \"season\", \"season\", \"sec\", \"sec\", \"second\", \"second\", \"second\", \"second\", \"second\", \"secretary\", \"secretary\", \"secretary\", \"secretary\", \"service\", \"service\", \"service\", \"service\", \"service\", \"shall\", \"shall\", \"shall\", \"shall\", \"shall\", \"sharpe\", \"sharpe\", \"sheep\", \"shelter\", \"shelter\", \"shelter\", \"shook\", \"shorts\", \"signs\", \"signs\", \"sixties\", \"skin\", \"small\", \"small\", \"small\", \"small\", \"small\", \"smelled\", \"smiled\", \"smiled\", \"smiled\", \"smiling\", \"societies\", \"son\", \"son\", \"son\", \"son\", \"son\", \"soul\", \"soviet\", \"soviet\", \"soviet\", \"sox\", \"stadium\", \"state\", \"state\", \"state\", \"state\", \"state\", \"states\", \"states\", \"states\", \"states\", \"states\", \"stations\", \"stations\", \"stations\", \"stockholders\", \"student\", \"student\", \"student\", \"students\", \"students\", \"students\", \"sunrise\", \"supervision\", \"surface\", \"surface\", \"surface\", \"susan\", \"susan\", \"tax\", \"tax\", \"tax\", \"taxpayers\", \"teachers\", \"teachers\", \"teachers\", \"teachers\", \"teaching\", \"teaching\", \"teaching\", \"team\", \"team\", \"team\", \"team\", \"team\", \"temperature\", \"temperature\", \"temperature\", \"temple\", \"tenure\", \"textile\", \"textile\", \"thickness\", \"thought\", \"thought\", \"thought\", \"thought\", \"thought\", \"time\", \"time\", \"time\", \"time\", \"time\", \"titles\", \"tommy\", \"tommy\", \"tool\", \"tool\", \"tool\", \"towns\", \"towns\", \"towns\", \"transducer\", \"tri\", \"trujillo\", \"trust\", \"trust\", \"trustees\", \"unions\", \"united\", \"united\", \"united\", \"united\", \"university\", \"university\", \"university\", \"university\", \"use\", \"use\", \"use\", \"use\", \"use\", \"used\", \"used\", \"used\", \"used\", \"used\", \"vacations\", \"vehicles\", \"vehicles\", \"vehicles\", \"vocational\", \"voters\", \"wally\", \"water\", \"water\", \"water\", \"water\", \"water\", \"way\", \"way\", \"way\", \"way\", \"way\", \"weak\", \"week\", \"week\", \"week\", \"week\", \"went\", \"went\", \"went\", \"went\", \"went\", \"woman\", \"woman\", \"woman\", \"wondered\", \"work\", \"work\", \"work\", \"work\", \"work\", \"world\", \"world\", \"world\", \"world\", \"world\", \"yankees\", \"yankees\", \"yards\", \"yards\", \"year\", \"year\", \"year\", \"year\", \"year\", \"years\", \"years\", \"years\", \"years\", \"years\", \"yes\", \"yes\", \"yes\", \"yes\"]}, \"R\": 30, \"lambda.step\": 0.01, \"plot.opts\": {\"xlab\": \"PC1\", \"ylab\": \"PC2\"}, \"topic.order\": [4, 2, 1, 3, 5]};\n",
       "\n",
       "function LDAvis_load_lib(url, callback){\n",
       "  var s = document.createElement('script');\n",
       "  s.src = url;\n",
       "  s.async = true;\n",
       "  s.onreadystatechange = s.onload = callback;\n",
       "  s.onerror = function(){console.warn(\"failed to load library \" + url);};\n",
       "  document.getElementsByTagName(\"head\")[0].appendChild(s);\n",
       "}\n",
       "\n",
       "if(typeof(LDAvis) !== \"undefined\"){\n",
       "   // already loaded: just create the visualization\n",
       "   !function(LDAvis){\n",
       "       new LDAvis(\"#\" + \"ldavis_el5060824973120054724253798740\", ldavis_el5060824973120054724253798740_data);\n",
       "   }(LDAvis);\n",
       "}else if(typeof define === \"function\" && define.amd){\n",
       "   // require.js is available: use it to load d3/LDAvis\n",
       "   require.config({paths: {d3: \"https://cdnjs.cloudflare.com/ajax/libs/d3/3.5.5/d3.min\"}});\n",
       "   require([\"d3\"], function(d3){\n",
       "      window.d3 = d3;\n",
       "      LDAvis_load_lib(\"https://cdn.rawgit.com/bmabey/pyLDAvis/files/ldavis.v1.0.0.js\", function(){\n",
       "        new LDAvis(\"#\" + \"ldavis_el5060824973120054724253798740\", ldavis_el5060824973120054724253798740_data);\n",
       "      });\n",
       "    });\n",
       "}else{\n",
       "    // require.js not available: dynamically load d3 & LDAvis\n",
       "    LDAvis_load_lib(\"https://cdnjs.cloudflare.com/ajax/libs/d3/3.5.5/d3.min.js\", function(){\n",
       "         LDAvis_load_lib(\"https://cdn.rawgit.com/bmabey/pyLDAvis/files/ldavis.v1.0.0.js\", function(){\n",
       "                 new LDAvis(\"#\" + \"ldavis_el5060824973120054724253798740\", ldavis_el5060824973120054724253798740_data);\n",
       "            })\n",
       "         });\n",
       "}\n",
       "</script>"
      ],
      "text/plain": [
       "<IPython.core.display.HTML object>"
      ]
     },
     "execution_count": 25,
     "metadata": {},
     "output_type": "execute_result"
    }
   ],
   "source": [
    "# CountVectorizer\n",
    "count_text_vectorizer = CountVectorizer(max_df=0.95, min_df=2, stop_words='english')\n",
    "\n",
    "# Fit and transform\n",
    "count_text_vectors = count_text_vectorizer.fit_transform(df['text'])\n",
    "\n",
    "# LDA model\n",
    "lda_text_model = LatentDirichletAllocation(n_components=5, random_state=314)\n",
    "lda_text_vectors = lda_text_model.fit_transform(count_text_vectors)\n",
    "\n",
    "# Visualization data\n",
    "pyLDAvis_data = pyLDAvis.sklearn.prepare(lda_text_model, count_text_vectors, count_text_vectorizer)\n",
    "\n",
    "# Display topics\n",
    "pyLDAvis.display(pyLDAvis_data)"
   ]
  },
  {
   "cell_type": "code",
   "execution_count": 26,
   "id": "a12df346",
   "metadata": {},
   "outputs": [
    {
     "name": "stdout",
     "output_type": "stream",
     "text": [
      "Topic 0:\n",
      "said home year new time good john like just years\n",
      "Topic 1:\n",
      "new mrs president united mr states time service american world\n",
      "Topic 2:\n",
      "said like just time did man little day know old\n",
      "Topic 3:\n",
      "state year new said 000 mr states tax program government\n",
      "Topic 4:\n",
      "use used time clay brown af pool long inch new\n"
     ]
    },
    {
     "name": "stderr",
     "output_type": "stream",
     "text": [
      "C:\\Users\\micha\\miniconda3\\lib\\site-packages\\sklearn\\utils\\deprecation.py:87: FutureWarning: Function get_feature_names is deprecated; get_feature_names is deprecated in 1.0 and will be removed in 1.2. Please use get_feature_names_out instead.\n",
      "  warnings.warn(msg, category=FutureWarning)\n"
     ]
    }
   ],
   "source": [
    "def display_topics(model, feature_names, no_top_words):\n",
    "    for topic_idx, topic in enumerate(model.components_):\n",
    "        print(\"Topic %d:\" % (topic_idx))\n",
    "        print(\" \".join([feature_names[i]\n",
    "                        for i in topic.argsort()[:-no_top_words - 1:-1]]))\n",
    "\n",
    "no_top_words = 10\n",
    "display_topics(lda_text_model, count_text_vectorizer.get_feature_names(), no_top_words)"
   ]
  },
  {
   "cell_type": "markdown",
   "id": "f2c67876",
   "metadata": {},
   "source": [
    "Q: What inference do you draw from the displayed topics for your LDA model? \n",
    "\n",
    "A: The topics from the LDA model appear to cover (Topic 0), politics and government (Topic 1), personal experiences (Topic 2), politics and government again (Topic 3), and maybe crafting (Topic 4). \n",
    "\n",
    "Q: Repeat the tallying of Brown categories within your topics. How does your five-topic LDA model compare to the original Brown categories? \n",
    "\n",
    "A: The five-topic LDA model captures similar themes to the original Brown categories, including politics, personal narratives, and state matters. However, Topic 4 from the model, possibly related to crafting, seems to identify a unique theme not present in the Brown model."
   ]
  },
  {
   "cell_type": "code",
   "execution_count": 29,
   "id": "6aae75ca",
   "metadata": {},
   "outputs": [],
   "source": [
    "lda_display = pyLDAvis.sklearn.prepare(lda_text_model, count_text_vectors, count_text_vectorizer, sort_topics=False)"
   ]
  },
  {
   "cell_type": "code",
   "execution_count": 30,
   "id": "2a89fc15",
   "metadata": {},
   "outputs": [
    {
     "data": {
      "text/html": [
       "\n",
       "<link rel=\"stylesheet\" type=\"text/css\" href=\"https://cdn.rawgit.com/bmabey/pyLDAvis/files/ldavis.v1.0.0.css\">\n",
       "\n",
       "\n",
       "<div id=\"ldavis_el5060824973540794727425618258\"></div>\n",
       "<script type=\"text/javascript\">\n",
       "\n",
       "var ldavis_el5060824973540794727425618258_data = {\"mdsDat\": {\"x\": [0.09567618750763436, -0.08918809520595718, 0.15647621232221143, -0.12102425393919373, -0.04194005068469469], \"y\": [0.05324500947689914, 0.06703071644956038, 0.0020478588212023536, 0.057743973362135215, -0.180067558109797], \"topics\": [1, 2, 3, 4, 5], \"cluster\": [1, 1, 1, 1, 1], \"Freq\": [17.68269519696485, 20.69930426071698, 16.882223726884103, 32.05410621044396, 12.681670604990117]}, \"tinfo\": {\"Term\": [\"said\", \"state\", \"tax\", \"mrs\", \"like\", \"just\", \"president\", \"af\", \"clay\", \"feed\", \"pool\", \"used\", \"thought\", \"united\", \"didn\", \"did\", \"brown\", \"use\", \"inch\", \"states\", \"ll\", \"got\", \"shelter\", \"don\", \"john\", \"year\", \"old\", \"know\", \"eyes\", \"little\", \"mantle\", \"pont\", \"maris\", \"lucy\", \"wally\", \"cathy\", \"shorts\", \"stockholders\", \"du\", \"dave\", \"kowalski\", \"temple\", \"bob\", \"yards\", \"pete\", \"giants\", \"lucille\", \"investors\", \"robinson\", \"mickey\", \"ruth\", \"stadium\", \"orioles\", \"al\", \"fabrics\", \"colt\", \"sox\", \"alice\", \"paintings\", \"yankees\", \"susan\", \"jim\", \"textile\", \"games\", \"plastics\", \"league\", \"engineer\", \"motors\", \"coach\", \"game\", \"hit\", \"runs\", \"gallery\", \"season\", \"team\", \"home\", \"john\", \"ball\", \"play\", \"signs\", \"baseball\", \"said\", \"son\", \"good\", \"billion\", \"got\", \"year\", \"miss\", \"right\", \"night\", \"just\", \"came\", \"time\", \"new\", \"like\", \"week\", \"did\", \"old\", \"years\", \"left\", \"high\", \"way\", \"club\", \"work\", \"little\", \"ll\", \"went\", \"second\", \"mrs\", \"faculty\", \"academic\", \"editorial\", \"trustees\", \"katanga\", \"advisory\", \"rayburn\", \"libraries\", \"nato\", \"catholic\", \"confrontation\", \"tri\", \"ritter\", \"monroe\", \"programing\", \"tenure\", \"midwest\", \"liberals\", \"societies\", \"sunrise\", \"excellence\", \"supervision\", \"connally\", \"curriculum\", \"autonomy\", \"mercenaries\", \"essex\", \"sec\", \"titles\", \"lectures\", \"interior\", \"daytime\", \"cuba\", \"institution\", \"stations\", \"library\", \"interference\", \"shall\", \"teaching\", \"bible\", \"student\", \"mrs\", \"bridge\", \"membership\", \"students\", \"college\", \"members\", \"congo\", \"music\", \"teachers\", \"university\", \"secretary\", \"president\", \"country\", \"service\", \"united\", \"new\", \"medical\", \"policy\", \"schools\", \"committee\", \"world\", \"american\", \"states\", \"mr\", \"great\", \"foreign\", \"kennedy\", \"men\", \"time\", \"years\", \"public\", \"man\", \"government\", \"year\", \"national\", \"state\", \"maggie\", \"hell\", \"carla\", \"dairy\", \"wondered\", \"bent\", \"phil\", \"lips\", \"skin\", \"soul\", \"sheep\", \"riverside\", \"beard\", \"improves\", \"porch\", \"owen\", \"petitioner\", \"pale\", \"rent\", \"smiling\", \"shook\", \"salesmen\", \"smelled\", \"sixties\", \"doc\", \"rachel\", \"drinking\", \"weak\", \"vacations\", \"marry\", \"mike\", \"feed\", \"tommy\", \"smiled\", \"cousin\", \"eddie\", \"oh\", \"eyes\", \"loved\", \"sat\", \"push\", \"looked\", \"chest\", \"thought\", \"knew\", \"breakfast\", \"didn\", \"woman\", \"couldn\", \"hair\", \"like\", \"felt\", \"yes\", \"just\", \"hands\", \"know\", \"morning\", \"cold\", \"ll\", \"did\", \"little\", \"said\", \"away\", \"don\", \"head\", \"let\", \"boy\", \"man\", \"come\", \"really\", \"old\", \"day\", \"got\", \"went\", \"came\", \"good\", \"time\", \"say\", \"way\", \"make\", \"long\", \"people\", \"tax\", \"allotment\", \"legislature\", \"item\", \"rhode\", \"georgia\", \"unions\", \"assessors\", \"notte\", \"gun\", \"taxpayers\", \"puerto\", \"rico\", \"assessment\", \"property\", \"boats\", \"farmers\", \"rehabilitation\", \"cromwell\", \"cranston\", \"trujillo\", \"capita\", \"rifle\", \"trust\", \"vocational\", \"bond\", \"voters\", \"juniors\", \"jury\", \"adjustments\", \"khrushchev\", \"election\", \"fiscal\", \"governor\", \"police\", \"officials\", \"laws\", \"federal\", \"state\", \"providence\", \"towns\", \"sales\", \"program\", \"soviet\", \"income\", \"county\", \"000\", \"berlin\", \"law\", \"island\", \"year\", \"planning\", \"labor\", \"million\", \"industrial\", \"city\", \"east\", \"states\", \"government\", \"public\", \"mr\", \"business\", \"department\", \"new\", \"development\", \"said\", \"local\", \"united\", \"president\", \"peace\", \"years\", \"american\", \"national\", \"time\", \"people\", \"general\", \"precision\", \"holes\", \"sauce\", \"measuring\", \"battens\", \"mustard\", \"thickness\", \"sharpe\", \"ballistic\", \"insert\", \"locking\", \"plaster\", \"af\", \"disk\", \"grill\", \"screws\", \"transducer\", \"butter\", \"shelter\", \"heating\", \"pump\", \"cone\", \"resin\", \"lb\", \"plywood\", \"drill\", \"pepper\", \"fig\", \"liquid\", \"drilling\", \"palmer\", \"mold\", \"pool\", \"builder\", \"cooling\", \"inch\", \"clay\", \"temperature\", \"tool\", \"vehicles\", \"lid\", \"commodities\", \"inches\", \"surface\", \"hole\", \"aircraft\", \"lumber\", \"pieces\", \"brown\", \"panels\", \"roof\", \"machine\", \"frame\", \"used\", \"heat\", \"cut\", \"use\", \"piece\", \"materials\", \"cost\", \"water\", \"time\", \"long\", \"place\", \"air\", \"design\", \"make\", \"house\", \"large\", \"work\", \"new\", \"years\", \"states\", \"small\", \"united\", \"way\"], \"Freq\": [765.0, 490.0, 180.0, 291.0, 363.0, 283.0, 289.0, 69.0, 76.0, 93.0, 72.0, 183.0, 132.0, 296.0, 117.0, 249.0, 93.0, 245.0, 63.0, 330.0, 156.0, 137.0, 55.0, 166.0, 160.0, 539.0, 240.0, 181.0, 93.0, 225.0, 47.58324475051279, 41.320281021413244, 35.955666401134984, 28.79631191499243, 24.324553637791126, 19.85217937610377, 19.850580940333856, 18.955780096886965, 42.210165206174004, 17.17100275292927, 17.168933005461124, 17.112666882590855, 21.264216511298937, 23.78952624718972, 13.588405530939394, 12.696388764706711, 12.69523445667926, 12.691658155075348, 16.881906284754766, 11.80636891666425, 11.805260361876883, 11.80505275390058, 10.910249235242654, 10.907242084229514, 10.900987020090053, 13.415483511237628, 10.016841706851752, 10.008499562098793, 11.669236572160909, 22.53904686817122, 23.25688056550078, 29.503728774542733, 24.305680474952972, 25.76791780685559, 18.056861198726583, 48.15917805041893, 27.809427691424023, 37.15879398365793, 19.45629120478733, 64.35273355783174, 42.884354369780475, 31.053030879640836, 18.28396772344381, 46.34509434503046, 40.01601435129019, 119.56143664123383, 84.29539682936054, 39.7586187522951, 41.140635856488394, 26.990197923902787, 27.697643749074683, 195.16126893063588, 40.36031149029782, 88.41559829421857, 33.655615182388814, 57.442578239306435, 116.14835787294813, 45.051965300604586, 66.61073797274769, 55.36756872447137, 77.1328832045519, 56.55714164102906, 96.86479283148024, 110.29510778765106, 81.90156618736548, 59.459883417078665, 67.45506779762212, 64.41743972546278, 73.08899499502536, 52.87466801335693, 58.00493228195887, 61.810374559392066, 46.30576278190142, 53.76710595998308, 51.287145691357836, 47.66798155702046, 46.44652589474573, 45.93568955115049, 47.496956051544835, 49.87356007373877, 28.055008818047884, 22.43650300457417, 18.756153632118313, 18.755809546975335, 19.531056106338944, 42.551535478240076, 22.045030713539866, 13.191314629938717, 28.982954473146197, 11.331843868410843, 11.32712190752189, 9.474155775967978, 9.4717095429573, 9.438597304416671, 8.547192454324032, 8.546802479865672, 8.544217794109835, 8.5438707838395, 8.543653190505228, 8.530577159436612, 8.515670327825353, 7.617535487609235, 7.6174672349942965, 7.617223564871546, 7.616221055811979, 7.615453713579771, 15.978070585138722, 7.530386597010867, 6.689107101132008, 35.616224809011705, 14.121510084589499, 31.669643436164133, 20.436079507486056, 48.89955198600192, 36.295518376165475, 28.946230269806485, 90.43390190887781, 32.443256515595564, 20.377491743585015, 54.605358852644336, 191.7087172559735, 39.02826431375589, 20.387930525684336, 51.58101562969667, 80.47159653345034, 88.22946190525815, 31.70535548940394, 41.96934593851684, 25.957207231892472, 71.19265868011466, 68.91944232709649, 129.18519474912986, 74.5982844495281, 93.96841315274699, 119.26399322978808, 204.76057488138417, 55.835626811047945, 53.259172865318476, 51.08681791537017, 55.93361148169285, 90.69118657461642, 92.0662049752209, 97.44730015377897, 103.1505974369127, 73.67299485341866, 51.10640439071988, 56.961034294887284, 65.44022810644418, 96.32338135782389, 84.83605827503712, 65.4676253263787, 68.97862416741377, 64.57956482684719, 66.59696187982453, 56.42831661874859, 55.82643557379866, 23.302054931366403, 14.975490340718888, 14.916509918641816, 13.130469072939189, 13.114520977013441, 10.34283250236458, 43.8570227773773, 10.33438884682924, 9.429421387996427, 9.42259297320508, 11.134845841847078, 9.413811086431808, 8.50709934144578, 8.507009891411212, 8.506177767666538, 18.67887011437129, 27.147389567261612, 23.57786160767112, 8.432840904581123, 7.582389024295114, 7.5811795716380095, 7.578008566490114, 7.573498065410357, 7.563107510905661, 12.553677113810785, 14.980024329331618, 7.498048488567989, 6.653217114251908, 6.646433964742842, 6.641886055561664, 28.850677193798983, 82.57400020934847, 14.04770073747805, 22.760270159093704, 22.288850897515673, 21.453178286521556, 27.34745312168862, 73.56408446967401, 15.318551878254505, 29.6696489299599, 23.7187078796965, 60.490901947069695, 16.657470312173704, 92.54381064065106, 60.61826489257416, 20.397829877153676, 75.68871905292295, 38.107180480091834, 36.477568598638605, 26.299006829048395, 180.8744101824087, 56.328908488354735, 28.947006282672053, 139.49727892136798, 45.19725569901208, 96.39061335286351, 40.75372831708926, 43.04373347831765, 82.63196396068874, 114.71305240026551, 105.66948006767292, 254.51377760517383, 65.30407385276074, 83.06858977599157, 68.3155583591173, 63.11806775501858, 48.19719487792314, 105.74951897071892, 79.69640440634697, 49.132546728981, 94.38404910284127, 101.5136743092769, 65.71173442126334, 63.17312274163902, 68.53227341309841, 93.23560948733254, 116.86780296822333, 58.540504538202185, 82.65277390955617, 77.5711112587232, 72.34385498947593, 65.25655871544969, 178.0475410658495, 38.2108585687463, 31.382785907061635, 25.5311121203681, 84.79264486792161, 41.442386006262, 21.637161379203913, 20.66103324041018, 19.689873351853137, 19.684842447972642, 19.665178777254255, 19.65492654234028, 19.6548336302053, 17.73985094092413, 93.29980000544721, 38.20305791432009, 17.669311405310975, 18.590102721754633, 15.782823564758589, 15.780088723658157, 14.813924685431743, 14.813068460293573, 14.810778511148419, 36.98318042641878, 13.840776119675482, 13.838253337702396, 14.746725140809184, 30.411823589215338, 46.00401101238162, 12.865537218420966, 68.6431822301481, 51.9323487027954, 104.37120816999807, 53.08050091662287, 43.10088974676653, 30.753517563922305, 45.43624434556884, 102.02455050085717, 398.88015128781353, 41.22022487310459, 32.01682834679894, 97.41635142156994, 172.51946439560464, 66.80808050967677, 68.7008489934279, 83.42595059358342, 198.80115838464957, 54.52268931542181, 78.88769457519498, 91.8810104637713, 325.53284791716567, 68.40061974190841, 57.34824356019058, 93.57658053987342, 63.4102730707531, 134.22504408123578, 72.3779533893154, 182.525064945882, 156.99062166371584, 124.3808844510392, 193.2154145394678, 125.87489188548108, 102.98127367915271, 283.0530734511212, 120.3555993764407, 278.71504850763375, 87.51543985956032, 136.34937557586457, 133.9915779508827, 78.3231191979168, 142.4982258616216, 105.78900143121533, 98.57167045425903, 119.88146648045368, 99.39425194385323, 94.20060679054988, 20.68723952795963, 19.794858915930313, 17.120832289479758, 15.33207432748113, 13.55380787947025, 12.662374689058234, 12.662210274095138, 27.822106874490988, 12.660169076352785, 10.877900774638361, 22.47166097606119, 9.987158199036791, 64.73992539605479, 9.09552592919246, 9.095453765023114, 9.095132491345407, 9.094983053401943, 9.090749873370363, 51.19164406535214, 18.903445452324018, 9.030633144527823, 8.203357180293787, 8.203280991217985, 8.202553340445295, 8.202558903122231, 28.7136560679262, 8.20116681190932, 26.929693320595156, 11.43251093426653, 7.3120811019407865, 46.82849259846102, 33.173157174941025, 64.42452324298709, 21.132139521975198, 31.32365626293247, 56.30007095764661, 65.43397375001827, 29.1648861452176, 25.227836057491587, 34.93223413773746, 14.446467198833698, 14.40951020286317, 26.7828195482309, 27.614129416123664, 28.52179734096905, 41.19458324909566, 23.27714443691728, 38.23314734087263, 65.23391280513424, 25.729720782689657, 23.277214932676333, 36.469305327005195, 27.949003876934132, 87.12919804463316, 29.80752636715367, 51.68955073199612, 90.41523861854101, 35.76495742696715, 31.918825239857537, 48.25721287638338, 48.683903459969606, 73.70102884742896, 60.37163708093963, 48.10161272954326, 39.055094175470245, 35.30336997920908, 48.404896087997635, 45.371135563156905, 39.87310501646851, 44.42356416254478, 52.83704497864366, 43.723467642219205, 41.695376889429916, 36.80615712470074, 36.78303616676487, 36.23160397549868], \"Total\": [765.0, 490.0, 180.0, 291.0, 363.0, 283.0, 289.0, 69.0, 76.0, 93.0, 72.0, 183.0, 132.0, 296.0, 117.0, 249.0, 93.0, 245.0, 63.0, 330.0, 156.0, 137.0, 55.0, 166.0, 160.0, 539.0, 240.0, 181.0, 93.0, 225.0, 48.32728916628367, 42.066484998384695, 36.69980679364646, 29.544577234777837, 25.07244580420754, 20.600345284371258, 20.60044373247438, 19.706183382156496, 43.89012362021262, 17.917008114926496, 17.9172157976984, 17.920749927817276, 22.38798592426502, 25.102048848316475, 14.339482811518344, 13.445206578498288, 13.445065751960138, 13.445463400073308, 17.941223299273453, 12.550413335889992, 12.550457506253808, 12.550448835992283, 11.656003669745767, 11.65633298523804, 11.656265464096426, 14.355110795151635, 10.761608603370446, 10.76191203535578, 12.555750169887144, 24.258239086496005, 25.16824690960062, 32.40517402486727, 26.931244766968536, 28.727897258227742, 19.78609223239875, 55.96420973824607, 31.4508859699024, 43.40890166700869, 21.540938142029276, 84.38570446012852, 53.88736238648093, 37.71626083352491, 20.595618367443834, 63.441175943158576, 53.269647577620205, 252.23308956709946, 160.55972670195354, 58.75747868354288, 62.76846685098807, 34.58001259980556, 36.98864652588265, 765.2000112468513, 68.95160817002372, 292.3269803522429, 52.12382274777902, 137.96378867118418, 539.3357044968701, 93.54919294261984, 202.870192698599, 143.4910305233202, 283.98389806923285, 152.62021569336977, 503.63847248541015, 681.1409236641088, 363.09335575948205, 181.5237471988756, 249.95540588854942, 240.6815583479854, 364.2578522151712, 153.31835525429335, 210.03850626664803, 261.85673409371486, 105.41870042732978, 248.71079953798682, 225.79580015996967, 156.9608525451116, 129.14927514296284, 116.4793262563879, 291.67802232173176, 51.08901846898191, 28.794220242251193, 23.22207845751062, 19.5041203867432, 19.50412651393729, 20.440817541504824, 44.65175486630366, 23.24150233722056, 13.929573822623086, 30.64790249261429, 12.071520330917455, 12.071214742682248, 10.213290100773627, 10.213284303477657, 10.213330017768735, 9.284312744824149, 9.284299931064457, 9.28444631777109, 9.284343791967554, 9.284187070423238, 9.284975832524912, 9.283280815696278, 8.355300307002432, 8.35530366621557, 8.355308015721393, 8.355293399088406, 8.355315823983775, 17.61111141143057, 8.35202226182908, 7.426227398151749, 39.95285068036828, 15.750293351147848, 36.41450309517292, 23.14401334395392, 57.963564392783205, 44.3070371826945, 35.32377931629755, 123.68144900990359, 40.18155093913388, 24.120677136935832, 71.26731188887108, 291.67802232173176, 49.89020170573345, 24.296442417712598, 69.18462813292768, 119.69436503520258, 137.02290851208616, 41.686690092281765, 59.54257371747021, 33.49183087300295, 120.34552743063057, 120.07051739549674, 289.59220577039827, 141.2206402745401, 202.46764534103457, 296.54927571359985, 681.1409236641088, 99.08492214985401, 92.60139752218885, 89.8401214399734, 108.3273860730353, 247.00656311485258, 256.25677784253713, 330.06700449416275, 378.1236275951231, 194.85046961900053, 98.96963443567586, 128.30015404507745, 185.48343730918168, 503.63847248541015, 364.2578522151712, 199.64774090549312, 268.7749979014756, 272.1820314248755, 539.3357044968701, 209.67704640477336, 490.1755408971714, 24.0400467895732, 15.717732445709832, 15.71811216891477, 13.868517743822215, 13.869244948322208, 11.094142389722245, 47.07375599225742, 11.093737194123973, 10.169693547342051, 10.169875717941357, 12.0225738592142, 10.170609134106744, 9.245091203452963, 9.245092090251287, 9.245141119631382, 20.39138227498601, 29.680369132468297, 25.836667989908648, 9.242687879638156, 8.320405567027384, 8.320399388916634, 8.320615724586364, 8.32011466195675, 8.320447995163695, 13.849655734905944, 16.6123104887093, 8.317668745838716, 7.395759243069356, 7.396093277851657, 7.395203223821387, 32.2721576640247, 93.37265238340275, 15.721955487763038, 25.858428876224245, 25.874022373640063, 24.87370804052851, 32.47144091704355, 93.1876645151736, 17.555992327570845, 35.994575518678886, 28.55752602318777, 80.85250351095065, 19.43530872826119, 132.44409303270643, 85.4818083565788, 24.92857009894916, 117.55631863636145, 52.32931195026164, 50.49244617680344, 33.976785025737065, 363.09335575948205, 86.65750583011328, 38.57353933203809, 283.98389806923285, 68.42880696038847, 181.94607827671427, 60.1059636615845, 65.19718686705258, 156.9608525451116, 249.95540588854942, 225.79580015996967, 765.2000112468513, 117.28038178049718, 166.9756709323259, 128.9982924541825, 116.58525816137787, 77.98088083627529, 268.7749979014756, 177.0550503555921, 81.63349576396342, 240.6815583479854, 291.7701318210909, 137.96378867118418, 129.14927514296284, 152.62021569336977, 292.3269803522429, 503.63847248541015, 118.8795824348857, 261.85673409371486, 274.57888701657157, 300.93145153982664, 257.2735984756196, 180.16965612130744, 38.9390219343319, 32.11531596306694, 26.26656220155822, 87.50060183241575, 42.80408782310443, 22.367730850960644, 21.392922817425923, 20.41834382009248, 20.417930646801036, 20.417067734002057, 20.41651849668487, 20.416513722322872, 18.468775110212594, 97.20781298845799, 39.8632678413702, 18.46329174860091, 19.432905182094135, 16.518845660777696, 16.518358736450814, 15.544339370828283, 15.54434687246346, 15.544041777319965, 38.8378799170647, 14.569667088508812, 14.569486868791437, 15.541171111855943, 32.06973897958914, 48.58618862229342, 13.594843649702199, 72.88317978660675, 55.34045669484494, 112.65000609597082, 57.15890834547331, 46.506865455071434, 32.9805567301357, 49.488338832327834, 115.21270206714851, 490.1755408971714, 45.47791055619212, 34.89167432325194, 118.0786672373934, 231.7173089638806, 80.19207337196713, 82.89579448878942, 104.208291317888, 279.7798217594236, 64.78838123189739, 99.17431984836185, 120.1155001668229, 539.3357044968701, 85.71413317574296, 69.33357545405958, 128.5989716523527, 78.6520203361736, 211.23127114671124, 94.2245187434108, 330.06700449416275, 272.1820314248755, 199.64774090549312, 378.1236275951231, 207.87752028482808, 156.70828425756497, 681.1409236641088, 198.31591566121, 765.2000112468513, 129.18090195254644, 296.54927571359985, 289.59220577039827, 109.4833009177987, 364.2578522151712, 256.25677784253713, 209.67704640477336, 503.63847248541015, 257.2735984756196, 196.5860994667328, 21.43259569045927, 20.540827872786316, 17.86565470465032, 16.082559989688406, 14.298773636769898, 13.407040096069395, 13.407055912632705, 29.46092838349568, 13.407137082547498, 11.623675070301909, 24.14065589181358, 10.731872071130391, 69.83183984074061, 9.840151043723345, 9.840152621781037, 9.840156261966698, 9.84020381144968, 9.840238468521733, 55.55745492024398, 20.5439885293646, 9.846106466392373, 8.948451472294112, 8.948445849738835, 8.948431406411787, 8.948529698570965, 31.327191545619574, 8.94847794035227, 29.523975536127203, 12.546815813663123, 8.056709132291305, 51.92563983412413, 36.687140125599726, 72.38259760450937, 23.322330198961243, 34.90961587568832, 63.5476893427413, 76.11655743643192, 33.14492387530477, 28.738339004101938, 40.51416623283422, 16.086158595297952, 16.10898408766181, 31.387259647483383, 33.25542667713657, 34.913634242779125, 53.357948317417694, 27.83065394596853, 49.487489436120725, 93.17853311217524, 31.2686037074953, 27.863551207811785, 49.79454883419123, 35.87579239115109, 183.27621551922448, 39.61976525479211, 92.2703362853981, 245.48335234353584, 57.43329485670788, 49.03240537069506, 113.09981888078092, 156.06603017211583, 503.63847248541015, 300.93145153982664, 181.44233288960686, 96.84741607601299, 71.63251218931629, 274.57888701657157, 222.42423868209147, 138.44436872332767, 248.71079953798682, 681.1409236641088, 364.2578522151712, 330.06700449416275, 204.32668452424025, 296.54927571359985, 261.85673409371486], \"Category\": [\"Default\", \"Default\", \"Default\", \"Default\", \"Default\", \"Default\", \"Default\", \"Default\", \"Default\", \"Default\", \"Default\", \"Default\", \"Default\", \"Default\", \"Default\", \"Default\", \"Default\", \"Default\", \"Default\", \"Default\", \"Default\", \"Default\", \"Default\", \"Default\", \"Default\", \"Default\", \"Default\", \"Default\", \"Default\", \"Default\", \"Topic1\", \"Topic1\", \"Topic1\", \"Topic1\", \"Topic1\", \"Topic1\", \"Topic1\", \"Topic1\", \"Topic1\", \"Topic1\", \"Topic1\", \"Topic1\", \"Topic1\", \"Topic1\", \"Topic1\", \"Topic1\", \"Topic1\", \"Topic1\", \"Topic1\", \"Topic1\", \"Topic1\", \"Topic1\", \"Topic1\", \"Topic1\", \"Topic1\", \"Topic1\", \"Topic1\", \"Topic1\", \"Topic1\", \"Topic1\", \"Topic1\", \"Topic1\", \"Topic1\", \"Topic1\", \"Topic1\", \"Topic1\", \"Topic1\", \"Topic1\", \"Topic1\", \"Topic1\", \"Topic1\", \"Topic1\", \"Topic1\", \"Topic1\", \"Topic1\", \"Topic1\", \"Topic1\", \"Topic1\", \"Topic1\", \"Topic1\", \"Topic1\", \"Topic1\", \"Topic1\", \"Topic1\", \"Topic1\", \"Topic1\", \"Topic1\", \"Topic1\", \"Topic1\", \"Topic1\", \"Topic1\", \"Topic1\", \"Topic1\", \"Topic1\", \"Topic1\", \"Topic1\", \"Topic1\", \"Topic1\", \"Topic1\", \"Topic1\", \"Topic1\", \"Topic1\", \"Topic1\", \"Topic1\", \"Topic1\", \"Topic1\", \"Topic1\", \"Topic1\", \"Topic1\", \"Topic2\", \"Topic2\", \"Topic2\", \"Topic2\", \"Topic2\", \"Topic2\", \"Topic2\", \"Topic2\", \"Topic2\", \"Topic2\", \"Topic2\", \"Topic2\", \"Topic2\", \"Topic2\", \"Topic2\", \"Topic2\", \"Topic2\", \"Topic2\", \"Topic2\", \"Topic2\", \"Topic2\", \"Topic2\", \"Topic2\", \"Topic2\", \"Topic2\", \"Topic2\", \"Topic2\", \"Topic2\", \"Topic2\", \"Topic2\", \"Topic2\", \"Topic2\", \"Topic2\", \"Topic2\", \"Topic2\", \"Topic2\", \"Topic2\", \"Topic2\", \"Topic2\", \"Topic2\", \"Topic2\", \"Topic2\", \"Topic2\", \"Topic2\", \"Topic2\", \"Topic2\", \"Topic2\", \"Topic2\", \"Topic2\", \"Topic2\", \"Topic2\", \"Topic2\", \"Topic2\", \"Topic2\", \"Topic2\", \"Topic2\", \"Topic2\", \"Topic2\", \"Topic2\", \"Topic2\", \"Topic2\", \"Topic2\", \"Topic2\", \"Topic2\", \"Topic2\", \"Topic2\", \"Topic2\", \"Topic2\", \"Topic2\", \"Topic2\", \"Topic2\", \"Topic2\", \"Topic2\", \"Topic2\", \"Topic2\", \"Topic2\", \"Topic2\", \"Topic3\", \"Topic3\", \"Topic3\", \"Topic3\", \"Topic3\", \"Topic3\", \"Topic3\", \"Topic3\", \"Topic3\", \"Topic3\", \"Topic3\", \"Topic3\", \"Topic3\", \"Topic3\", \"Topic3\", \"Topic3\", \"Topic3\", \"Topic3\", \"Topic3\", \"Topic3\", \"Topic3\", \"Topic3\", \"Topic3\", \"Topic3\", \"Topic3\", \"Topic3\", \"Topic3\", \"Topic3\", \"Topic3\", \"Topic3\", \"Topic3\", \"Topic3\", \"Topic3\", \"Topic3\", \"Topic3\", \"Topic3\", \"Topic3\", \"Topic3\", \"Topic3\", \"Topic3\", \"Topic3\", \"Topic3\", \"Topic3\", \"Topic3\", \"Topic3\", \"Topic3\", \"Topic3\", \"Topic3\", \"Topic3\", \"Topic3\", \"Topic3\", \"Topic3\", \"Topic3\", \"Topic3\", \"Topic3\", \"Topic3\", \"Topic3\", \"Topic3\", \"Topic3\", \"Topic3\", \"Topic3\", \"Topic3\", \"Topic3\", \"Topic3\", \"Topic3\", \"Topic3\", \"Topic3\", \"Topic3\", \"Topic3\", \"Topic3\", \"Topic3\", \"Topic3\", \"Topic3\", \"Topic3\", \"Topic3\", \"Topic3\", \"Topic3\", \"Topic3\", \"Topic3\", \"Topic3\", \"Topic3\", \"Topic3\", \"Topic4\", \"Topic4\", \"Topic4\", \"Topic4\", \"Topic4\", \"Topic4\", \"Topic4\", \"Topic4\", \"Topic4\", \"Topic4\", \"Topic4\", \"Topic4\", \"Topic4\", \"Topic4\", \"Topic4\", \"Topic4\", \"Topic4\", \"Topic4\", \"Topic4\", \"Topic4\", \"Topic4\", \"Topic4\", \"Topic4\", \"Topic4\", \"Topic4\", \"Topic4\", \"Topic4\", \"Topic4\", \"Topic4\", \"Topic4\", \"Topic4\", \"Topic4\", \"Topic4\", \"Topic4\", \"Topic4\", \"Topic4\", \"Topic4\", \"Topic4\", \"Topic4\", \"Topic4\", \"Topic4\", \"Topic4\", \"Topic4\", \"Topic4\", \"Topic4\", \"Topic4\", \"Topic4\", \"Topic4\", \"Topic4\", \"Topic4\", \"Topic4\", \"Topic4\", \"Topic4\", \"Topic4\", \"Topic4\", \"Topic4\", \"Topic4\", \"Topic4\", \"Topic4\", \"Topic4\", \"Topic4\", \"Topic4\", \"Topic4\", \"Topic4\", \"Topic4\", \"Topic4\", \"Topic4\", \"Topic4\", \"Topic4\", \"Topic4\", \"Topic4\", \"Topic4\", \"Topic4\", \"Topic4\", \"Topic4\", \"Topic4\", \"Topic5\", \"Topic5\", \"Topic5\", \"Topic5\", \"Topic5\", \"Topic5\", \"Topic5\", \"Topic5\", \"Topic5\", \"Topic5\", \"Topic5\", \"Topic5\", \"Topic5\", \"Topic5\", \"Topic5\", \"Topic5\", \"Topic5\", \"Topic5\", \"Topic5\", \"Topic5\", \"Topic5\", \"Topic5\", \"Topic5\", \"Topic5\", \"Topic5\", \"Topic5\", \"Topic5\", \"Topic5\", \"Topic5\", \"Topic5\", \"Topic5\", \"Topic5\", \"Topic5\", \"Topic5\", \"Topic5\", \"Topic5\", \"Topic5\", \"Topic5\", \"Topic5\", \"Topic5\", \"Topic5\", \"Topic5\", \"Topic5\", \"Topic5\", \"Topic5\", \"Topic5\", \"Topic5\", \"Topic5\", \"Topic5\", \"Topic5\", \"Topic5\", \"Topic5\", \"Topic5\", \"Topic5\", \"Topic5\", \"Topic5\", \"Topic5\", \"Topic5\", \"Topic5\", \"Topic5\", \"Topic5\", \"Topic5\", \"Topic5\", \"Topic5\", \"Topic5\", \"Topic5\", \"Topic5\", \"Topic5\", \"Topic5\", \"Topic5\", \"Topic5\", \"Topic5\", \"Topic5\", \"Topic5\", \"Topic5\", \"Topic5\"], \"logprob\": [30.0, 29.0, 28.0, 27.0, 26.0, 25.0, 24.0, 23.0, 22.0, 21.0, 20.0, 19.0, 18.0, 17.0, 16.0, 15.0, 14.0, 13.0, 12.0, 11.0, 10.0, 9.0, 8.0, 7.0, 6.0, 5.0, 4.0, 3.0, 2.0, 1.0, -6.3322, -6.4733, -6.6124, -6.8344, -7.0032, -7.2063, -7.2064, -7.2526, -6.452, -7.3514, -7.3516, -7.3548, -7.1376, -7.0254, -7.5854, -7.6533, -7.6534, -7.6537, -7.3684, -7.726, -7.7261, -7.7261, -7.805, -7.8052, -7.8058, -7.5983, -7.8904, -7.8912, -7.7377, -7.0794, -7.0481, -6.8101, -7.004, -6.9455, -7.3011, -6.3201, -6.8693, -6.5795, -7.2265, -6.0303, -6.4362, -6.759, -7.2886, -6.3585, -6.5054, -5.4108, -5.7603, -6.5118, -6.4777, -6.8992, -6.8733, -4.9208, -6.4968, -5.7126, -6.6785, -6.1439, -5.4398, -6.3868, -5.9958, -6.1807, -5.8491, -6.1594, -5.6213, -5.4915, -5.7891, -6.1094, -5.9832, -6.0293, -5.903, -6.2267, -6.1341, -6.0706, -6.3594, -6.21, -6.2572, -6.3304, -6.3564, -6.3674, -6.334, -6.4427, -7.018, -7.2415, -7.4207, -7.4207, -7.3802, -6.6015, -7.2591, -7.7726, -6.9855, -7.9246, -7.925, -8.1036, -8.1039, -8.1074, -8.2066, -8.2066, -8.2069, -8.207, -8.207, -8.2085, -8.2103, -8.3217, -8.3217, -8.3218, -8.3219, -8.322, -7.581, -8.3332, -8.4517, -6.7794, -7.7045, -6.8968, -7.3349, -6.4624, -6.7605, -6.9867, -5.8476, -6.8727, -7.3377, -6.352, -5.0962, -6.6879, -7.3372, -6.409, -5.9643, -5.8722, -6.8957, -6.6152, -7.0957, -6.0868, -6.1192, -5.4909, -6.0401, -5.8092, -5.5708, -5.0303, -6.3298, -6.377, -6.4186, -6.328, -5.8447, -5.8297, -5.7729, -5.716, -6.0525, -6.4183, -6.3098, -6.171, -5.7845, -5.9115, -6.1706, -6.1184, -6.1843, -6.1535, -6.3192, -6.3299, -6.9998, -7.4419, -7.4459, -7.5734, -7.5746, -7.812, -6.3674, -7.8129, -7.9045, -7.9052, -7.7383, -7.9062, -8.0074, -8.0074, -8.0075, -7.2209, -6.8471, -6.988, -8.0162, -8.1225, -8.1227, -8.1231, -8.1237, -8.1251, -7.6183, -7.4416, -8.1337, -8.2532, -8.2543, -8.2549, -6.7862, -5.7346, -7.5059, -7.0233, -7.0442, -7.0825, -6.8397, -5.8502, -7.4193, -6.7582, -6.9821, -6.0458, -7.3355, -5.6207, -6.0437, -7.1329, -5.8217, -6.5079, -6.5516, -6.8788, -4.9505, -6.1171, -6.7829, -5.2103, -6.3373, -5.5799, -6.4408, -6.3861, -5.7339, -5.4059, -5.488, -4.609, -5.9693, -5.7287, -5.9242, -6.0033, -6.273, -5.4873, -5.7701, -6.2538, -5.601, -5.5281, -5.9631, -6.0025, -5.921, -5.6132, -5.3873, -6.0786, -5.7337, -5.7971, -5.8669, -5.97, -5.6074, -7.1464, -7.3432, -7.5496, -6.3493, -7.0652, -7.7151, -7.7613, -7.8094, -7.8097, -7.8107, -7.8112, -7.8112, -7.9137, -6.2537, -7.1466, -7.9177, -7.8669, -8.0306, -8.0308, -8.0939, -8.094, -8.0941, -7.179, -8.1619, -8.1621, -8.0985, -7.3747, -6.9608, -8.2349, -6.5606, -6.8396, -6.1415, -6.8177, -7.026, -7.3635, -6.9732, -6.1643, -4.8008, -7.0706, -7.3232, -6.2105, -5.639, -6.5877, -6.5597, -6.3655, -5.4972, -6.7909, -6.4215, -6.269, -5.004, -6.5641, -6.7404, -6.2507, -6.6399, -5.89, -6.5076, -5.5826, -5.7333, -5.9662, -5.5257, -5.9542, -6.155, -5.1439, -5.999, -5.1593, -6.3177, -5.8743, -5.8917, -6.4287, -5.8302, -6.1281, -6.1987, -6.003, -6.1904, -6.2441, -6.8327, -6.8768, -7.0219, -7.1323, -7.2556, -7.3236, -7.3236, -6.5364, -7.3238, -7.4755, -6.75, -7.5609, -5.6919, -7.6544, -7.6545, -7.6545, -7.6545, -7.655, -5.9267, -6.9229, -7.6616, -7.7577, -7.7577, -7.7578, -7.7578, -6.5049, -7.758, -6.569, -7.4258, -7.8727, -6.0157, -6.3605, -5.6967, -6.8114, -6.4179, -5.8315, -5.6812, -6.4893, -6.6343, -6.3088, -7.1918, -7.1943, -6.5745, -6.5439, -6.5116, -6.1439, -6.7148, -6.2185, -5.6843, -6.6146, -6.7148, -6.2658, -6.5319, -5.3948, -6.4675, -5.917, -5.3578, -6.2853, -6.399, -5.9857, -5.9769, -5.5622, -5.7617, -5.9889, -6.1973, -6.2983, -5.9826, -6.0474, -6.1765, -6.0685, -5.895, -6.0843, -6.1318, -6.2566, -6.2572, -6.2723], \"loglift\": [30.0, 29.0, 28.0, 27.0, 26.0, 25.0, 24.0, 23.0, 22.0, 21.0, 20.0, 19.0, 18.0, 17.0, 16.0, 15.0, 14.0, 13.0, 12.0, 11.0, 10.0, 9.0, 8.0, 7.0, 6.0, 5.0, 4.0, 3.0, 2.0, 1.0, 1.7171, 1.7147, 1.7121, 1.7069, 1.7023, 1.6956, 1.6955, 1.6938, 1.6936, 1.6901, 1.6899, 1.6864, 1.6811, 1.6789, 1.6788, 1.6753, 1.6752, 1.6749, 1.6717, 1.6715, 1.6714, 1.6714, 1.6665, 1.6662, 1.6656, 1.6649, 1.6609, 1.66, 1.6594, 1.6591, 1.6536, 1.6388, 1.63, 1.6238, 1.6411, 1.5824, 1.6095, 1.5771, 1.6308, 1.4616, 1.5042, 1.5382, 1.6135, 1.4186, 1.4465, 0.9861, 1.0882, 1.342, 1.3101, 1.4848, 1.4433, 0.3663, 1.197, 0.5368, 1.2951, 0.8564, 0.1971, 1.0019, 0.6189, 0.7803, 0.4292, 0.7399, 0.084, -0.088, 0.2434, 0.6165, 0.4228, 0.4145, 0.1264, 0.668, 0.4458, 0.2889, 0.9099, 0.201, 0.2504, 0.5408, 0.7099, 0.8021, -0.0824, 1.551, 1.5491, 1.5407, 1.536, 1.5359, 1.5295, 1.5269, 1.5222, 1.5206, 1.5192, 1.5118, 1.5114, 1.4999, 1.4997, 1.4962, 1.4923, 1.4923, 1.492, 1.492, 1.4919, 1.4903, 1.4888, 1.4826, 1.4826, 1.4826, 1.4825, 1.4824, 1.4778, 1.4715, 1.4705, 1.4602, 1.4659, 1.4355, 1.4506, 1.405, 1.3756, 1.376, 1.262, 1.3612, 1.4064, 1.3088, 1.1554, 1.3295, 1.3997, 1.2814, 1.178, 1.1349, 1.3014, 1.2253, 1.3202, 1.0501, 1.0199, 0.7678, 0.9369, 0.8074, 0.6642, 0.3731, 1.0015, 1.0219, 1.0106, 0.9141, 0.5731, 0.5514, 0.3551, 0.276, 0.6025, 0.9142, 0.7631, 0.5332, -0.0791, 0.1179, 0.4601, 0.215, 0.1365, -0.5166, 0.2625, -0.5974, 1.7477, 1.7305, 1.7266, 1.7242, 1.723, 1.7088, 1.7081, 1.708, 1.7033, 1.7026, 1.7022, 1.7016, 1.6957, 1.6957, 1.6956, 1.6912, 1.6897, 1.6874, 1.6872, 1.686, 1.6859, 1.6854, 1.6849, 1.6835, 1.6807, 1.6755, 1.6752, 1.6731, 1.672, 1.6715, 1.6668, 1.656, 1.6663, 1.6513, 1.6298, 1.631, 1.6072, 1.5425, 1.6426, 1.5857, 1.5933, 1.4888, 1.6247, 1.4204, 1.4352, 1.5783, 1.3386, 1.4618, 1.4538, 1.5228, 1.0821, 1.3482, 1.4918, 1.068, 1.3642, 1.1436, 1.3903, 1.3637, 1.1373, 1.0001, 1.0196, 0.6781, 1.1934, 1.0807, 1.1432, 1.1653, 1.2977, 0.8461, 0.9807, 1.2712, 0.8428, 0.7231, 1.0372, 1.0638, 0.9783, 0.6362, 0.3181, 1.0705, 0.6258, 0.5149, 0.3535, 0.4071, 1.1259, 1.1189, 1.1147, 1.1093, 1.1063, 1.1054, 1.1045, 1.1029, 1.1014, 1.1012, 1.1002, 1.0997, 1.0997, 1.0975, 1.0967, 1.0952, 1.0938, 1.0934, 1.0922, 1.092, 1.0896, 1.0896, 1.0894, 1.0888, 1.0864, 1.0863, 1.0853, 1.0847, 1.0831, 1.0826, 1.0778, 1.0742, 1.0614, 1.0637, 1.0617, 1.0678, 1.0523, 1.0162, 0.9316, 1.0394, 1.0518, 0.9454, 0.8427, 0.9551, 0.9499, 0.9153, 0.796, 0.9652, 0.9089, 0.8698, 0.6329, 0.9121, 0.948, 0.8198, 0.9223, 0.6843, 0.874, 0.5453, 0.5875, 0.6645, 0.4663, 0.6361, 0.7179, 0.2596, 0.6383, 0.1278, 0.7483, 0.3608, 0.367, 0.8028, 0.1992, 0.253, 0.383, -0.2976, 0.1867, 0.4021, 2.0296, 2.028, 2.0224, 2.0172, 2.0115, 2.0079, 2.0079, 2.0078, 2.0077, 1.9987, 1.9934, 1.9931, 1.9893, 1.9863, 1.9863, 1.9863, 1.9863, 1.9858, 1.9832, 1.9818, 1.9786, 1.9781, 1.9781, 1.978, 1.978, 1.9779, 1.9778, 1.973, 1.972, 1.968, 1.9617, 1.9643, 1.9485, 1.9664, 1.9566, 1.9439, 1.9138, 1.9371, 1.9347, 1.9168, 1.9575, 1.9535, 1.9064, 1.8791, 1.8628, 1.8063, 1.8863, 1.807, 1.7085, 1.87, 1.8852, 1.7536, 1.8153, 1.3214, 1.7804, 1.4855, 1.0662, 1.5914, 1.6357, 1.2133, 0.9001, 0.1432, 0.4586, 0.7374, 1.1568, 1.3574, 0.3294, 0.4753, 0.8202, 0.3425, -0.4915, -0.055, -0.0039, 0.351, -0.0222, 0.0871]}, \"token.table\": {\"Topic\": [1, 2, 3, 4, 5, 2, 4, 2, 2, 4, 5, 1, 2, 3, 4, 5, 1, 2, 4, 5, 1, 1, 4, 1, 2, 3, 4, 5, 4, 4, 2, 1, 2, 3, 4, 5, 1, 3, 5, 1, 2, 3, 5, 3, 3, 2, 4, 1, 2, 3, 1, 4, 5, 3, 4, 1, 5, 4, 1, 2, 3, 4, 5, 1, 2, 3, 5, 1, 2, 3, 5, 1, 2, 3, 4, 5, 3, 4, 5, 1, 2, 3, 4, 5, 5, 1, 2, 3, 4, 5, 4, 3, 2, 3, 1, 3, 4, 5, 1, 2, 3, 4, 5, 1, 2, 4, 5, 1, 2, 3, 4, 5, 1, 2, 1, 2, 3, 4, 5, 1, 2, 3, 4, 1, 1, 2, 3, 4, 5, 2, 4, 1, 5, 5, 2, 2, 4, 5, 2, 3, 5, 1, 2, 3, 4, 5, 1, 3, 4, 1, 2, 3, 4, 5, 2, 3, 4, 1, 3, 4, 5, 4, 4, 2, 4, 2, 1, 2, 3, 4, 5, 3, 1, 1, 2, 3, 4, 5, 2, 5, 1, 2, 3, 4, 5, 1, 2, 4, 5, 1, 2, 3, 4, 5, 1, 2, 3, 4, 5, 1, 2, 3, 4, 5, 1, 3, 1, 2, 3, 4, 5, 1, 4, 5, 5, 3, 1, 2, 1, 2, 3, 4, 1, 3, 2, 2, 4, 5, 1, 3, 4, 5, 2, 2, 1, 2, 3, 4, 5, 1, 2, 3, 4, 1, 2, 3, 4, 5, 2, 3, 4, 5, 1, 2, 3, 4, 5, 3, 5, 2, 4, 1, 2, 3, 4, 5, 1, 2, 3, 5, 1, 5, 1, 3, 4, 1, 2, 3, 1, 2, 3, 4, 5, 3, 4, 1, 1, 2, 3, 4, 5, 1, 2, 3, 4, 5, 1, 2, 3, 4, 5, 1, 4, 1, 2, 3, 4, 5, 5, 4, 1, 3, 1, 2, 3, 4, 5, 1, 2, 3, 4, 5, 2, 3, 5, 1, 5, 3, 1, 2, 3, 4, 5, 1, 2, 3, 5, 1, 2, 3, 5, 5, 1, 2, 3, 4, 5, 1, 2, 3, 4, 5, 3, 1, 4, 5, 2, 3, 5, 1, 2, 3, 4, 1, 2, 4, 5, 5, 1, 2, 5, 1, 2, 4, 1, 2, 4, 5, 1, 1, 2, 3, 4, 5, 4, 1, 4, 1, 2, 4, 5, 2, 4, 3, 4, 1, 2, 3, 4, 5, 2, 1, 2, 3, 4, 2, 4, 1, 2, 3, 4, 5, 1, 2, 3, 4, 5, 1, 1, 2, 3, 4, 5, 1, 2, 3, 4, 5, 1, 2, 3, 4, 2, 3, 4, 5, 1, 2, 3, 4, 2, 1, 2, 3, 4, 5, 4, 1, 2, 3, 4, 5, 2, 2, 4, 1, 2, 1, 5, 1, 2, 3, 4, 5, 3, 4, 5, 1, 2, 3, 4, 5, 1, 2, 3, 5, 2, 3, 4, 5, 3, 5, 1, 2, 3, 4, 5, 1, 2, 3, 4, 5, 1, 2, 3, 1, 1, 1, 3, 4, 5, 1, 2, 3, 4, 5, 3, 1, 2, 3, 4, 5, 1, 2, 3, 4, 5, 1, 1, 3, 1, 2, 3, 4, 5, 5, 2, 3, 4, 5, 1, 2, 3, 4, 5, 2, 4, 1, 2, 3, 4, 5, 2, 1, 2, 1, 3, 1, 2, 3, 4, 5, 1, 2, 3, 4, 2, 3, 5, 2, 1, 2, 3, 4, 5, 1, 4, 1, 2, 3, 4, 5, 1, 2, 3, 4, 1, 2, 3, 4, 5, 1, 2, 3, 4, 5, 2, 1, 2, 3, 4, 5, 1, 2, 3, 4, 5, 4, 1, 2, 4, 1, 3, 4, 1, 2, 3, 4, 5, 1, 3, 4, 1, 1, 3, 5, 2, 5, 1, 2, 5, 2, 3, 4, 5, 1, 2, 3, 4, 5, 5, 1, 3, 4, 1, 3, 2, 3, 4, 5, 1, 2, 4, 5, 1, 2, 3, 4, 5, 2, 3, 4, 5, 5, 1, 4, 1, 2, 3, 4, 5, 1, 4, 1, 2, 4, 1, 1, 2, 5, 3, 5, 1, 2, 3, 4, 1, 2, 3, 4, 5, 2, 3, 4, 5, 2, 4, 5, 1, 2, 3, 4, 5, 4, 5, 1, 3, 4, 5, 1, 3, 2, 4, 1, 2, 3, 4, 4, 3, 5, 1, 4, 5, 4, 4, 1, 2, 3, 4, 5, 2, 3, 1, 3, 4, 5, 1, 2, 3, 5, 1, 1, 2, 3, 4, 1, 3, 4, 5, 3, 1, 2, 3, 4, 5, 1, 2, 3, 4, 5, 2, 3, 4, 5, 1, 2, 3, 4, 5, 1, 2, 1, 2, 3, 4, 5, 1, 2, 3, 4, 1, 2, 3, 4, 5, 1, 2, 3, 4, 5, 1, 5, 3, 1, 4, 5, 3, 1, 1, 4, 3, 3, 1, 2, 3, 4, 5, 3, 1, 2, 3, 3, 2, 1, 2, 3, 4, 5, 3, 2, 4, 5, 1, 1, 1, 2, 3, 4, 5, 1, 2, 3, 4, 5, 2, 3, 4, 1, 1, 2, 4, 1, 2, 4, 2, 2, 3, 4, 5, 1, 4, 1, 3, 4, 4, 1, 2, 3, 4, 1, 2, 4, 1, 2, 3, 4, 5, 2, 3, 5, 1, 2, 1, 2, 5, 1, 2, 3, 4, 5, 1, 2, 3, 4, 5, 2, 2, 3, 3, 4, 5, 1, 3, 4, 5, 2, 4, 1, 4, 2, 4, 2, 3, 4, 5, 1, 2, 4, 5, 1, 2, 3, 4, 5, 1, 2, 3, 4, 5, 3, 1, 4, 5, 4, 4, 1, 1, 2, 3, 4, 5, 1, 2, 3, 4, 5, 3, 1, 2, 3, 4, 1, 2, 3, 4, 5, 1, 2, 3, 3, 1, 2, 3, 4, 5, 1, 2, 3, 4, 5, 1, 4, 1, 4, 1, 2, 3, 4, 5, 1, 2, 3, 4, 5, 1, 2, 3, 5], \"Freq\": [0.04289087012972126, 0.12867261038916378, 0.007148478354953543, 0.7112735963178776, 0.10722717532430315, 0.9724173728071374, 0.9562449068904717, 0.9784344466355247, 0.04296034598031268, 0.02864023065354179, 0.9308074962401081, 0.13423176917592353, 0.13423176917592353, 0.19618489341096515, 0.13423176917592353, 0.40269530752777055, 0.03748270057353644, 0.03748270057353644, 0.13118945200737755, 0.768395361757497, 0.94369301339716, 0.929202911819694, 0.9758848094357507, 0.11316773840737089, 0.35901489425786626, 0.10146073098591873, 0.41364759555797637, 0.015609343228602883, 0.9746179642442353, 0.9816330465556645, 0.957475174457621, 0.21316438112207192, 0.05115945146929726, 0.5542273909173869, 0.13642520391812601, 0.04263287622441438, 0.6807644047395693, 0.30634398213280617, 0.9696328097459761, 0.7569890393368981, 0.05407064566692129, 0.18924725983422452, 0.9791049467346215, 0.9734895851150258, 0.9013765687074764, 0.1543486626746692, 0.8489176447106807, 0.041458205933560074, 0.8291641186712015, 0.12437461780068022, 0.6522929096072242, 0.2685911980735629, 0.07674034230673227, 0.025085750721173878, 0.9532585274046074, 0.9380030910792799, 0.04466681386091809, 0.9609123592395484, 0.28212043470232256, 0.012823656122832844, 0.6155354938959765, 0.051294624491331375, 0.03847096836849853, 0.04011461532012035, 0.12034384596036105, 0.802292306402407, 0.04011461532012035, 0.08017606390114704, 0.7817166230361836, 0.08017606390114704, 0.06013204792586027, 0.04292834268151123, 0.04292834268151123, 0.11805294237415588, 0.09658877103340027, 0.6975855685745574, 0.042877362230491836, 0.042877362230491836, 0.9004246068403287, 0.096210499204515, 0.134694698886321, 0.09139997424428924, 0.6061261449884444, 0.07215787440338624, 0.9146119810805805, 0.3734760807475142, 0.058969907486449605, 0.45210262406278034, 0.058969907486449605, 0.06552211942938846, 0.9649810392852362, 0.9543130777285737, 0.9462311493254257, 0.03262866032156641, 0.9708575134987316, 0.8746966790025841, 0.051452745823681416, 0.051452745823681416, 0.12782198323868002, 0.14202442582075558, 0.07101221291037779, 0.6343757686660416, 0.0236707376367926, 0.07882647615810591, 0.026275492052701972, 0.039413238079052955, 0.8539534917128141, 0.4363552179407678, 0.3225234219562197, 0.10434581298583578, 0.10434581298583578, 0.02845794899613703, 0.8820414354622947, 0.04642323344538394, 0.030676170186273798, 0.061352340372547595, 0.6595376590048867, 0.1840570211176428, 0.0460142552794107, 0.17544685577991762, 0.6683689743996861, 0.033418448719984305, 0.11696457051994508, 0.9056008125266914, 0.14119902228030629, 0.14684698317151854, 0.4518368712969801, 0.18073474851879204, 0.07342349158575927, 0.5169514564142099, 0.4800263523846235, 0.06207716107721031, 0.8690802550809444, 0.8940094299856601, 0.9112356769036716, 0.7676311054958225, 0.07196541614023336, 0.14393083228046671, 0.9574760578378421, 0.08593620768222929, 0.888007479383036, 0.008841747138906605, 0.07957572425015945, 0.12378445994469249, 0.3536698855562642, 0.42440386266751706, 0.23765931161229575, 0.7129779348368872, 0.01980494263435798, 0.007081117873817518, 0.5310838405363139, 0.12037900385489782, 0.3186503043217883, 0.021243353621452556, 0.14394248106652485, 0.05757699242660994, 0.7964817285681042, 0.038648803249810126, 0.8502736714958228, 0.038648803249810126, 0.038648803249810126, 0.9686192348331217, 0.9685906829428377, 0.8787707446224057, 0.10984634307780071, 0.9574756728887986, 0.07586403476788628, 0.05418859626277591, 0.08670175402044146, 0.21675438505110364, 0.5635614011328695, 0.9373748687592011, 0.9488191271084738, 0.15423100273880444, 0.13709422465671506, 0.34959027287462335, 0.29475258301193735, 0.06511975671193965, 0.8888723332241751, 0.06349088094458394, 0.006381283572452398, 0.2552513428980959, 0.01914385071735719, 0.657272207962597, 0.06381283572452398, 0.11168113131167232, 0.362963676762935, 0.01396014141395904, 0.48860494948856636, 0.010084919273028342, 0.18152854691451017, 0.030254757819085026, 0.6050951563817005, 0.16640116800496765, 0.26804781341626227, 0.10801926809312062, 0.46008206780403227, 0.1360242635246704, 0.02400428179847125, 0.2892230753259011, 0.008506561038997091, 0.6464986389637789, 0.05954592727297964, 0.9146201069485366, 0.07220396081612719, 0.9386514906096535, 0.2515336501748348, 0.05988896432734163, 0.49707840391693553, 0.02395558573093665, 0.17367799654929073, 0.03192115062544853, 0.03192115062544853, 0.9257133681380072, 0.8688410969118877, 0.8415819641172968, 0.9569351037475282, 0.02278416913684591, 0.05306474436463656, 0.12735538647512773, 0.05306474436463656, 0.7641323188507665, 0.12060927928847141, 0.8442649550192999, 0.947374286080953, 0.0361399258236751, 0.9396380714155526, 0.01806996291183755, 0.8902769870074629, 0.03179560667883796, 0.03179560667883796, 0.03179560667883796, 0.9574742796718889, 0.9693078541436099, 0.0751172382784655, 0.05365517019890394, 0.7940965189437782, 0.032193102119342364, 0.04292413615912315, 0.9436984799189885, 0.9786839030849047, 0.019573678061698095, 0.9749074133199452, 0.00867959853434544, 0.06943678827476352, 0.01735919706869088, 0.8853190505032348, 0.01735919706869088, 0.021419547897040415, 0.8889112377271772, 0.032129321845560624, 0.053548869742601035, 0.1615555382755435, 0.09231745044316772, 0.646222153102174, 0.05769840652697982, 0.02307936261079193, 0.06774155457325479, 0.9145109867389395, 0.07101641870471356, 0.9232134431612764, 0.08083287409937344, 0.5153095723835056, 0.01010410926242168, 0.3839561519720238, 0.01010410926242168, 0.08362184637739074, 0.05574789758492717, 0.05574789758492717, 0.7804705661889803, 0.873972302208376, 0.09710803357870844, 0.7584222992442923, 0.1066531358312286, 0.13035383268261272, 0.905043615489593, 0.03480936982652281, 0.03480936982652281, 0.18821269713559433, 0.25434148261566797, 0.01017365930462672, 0.47816198731745585, 0.06612878548007367, 0.02336225465503854, 0.9578524408565802, 0.9668873381826452, 0.3010327678066641, 0.15393721081022596, 0.3181369023411337, 0.13683307627575642, 0.08894149957924166, 0.41315188970238326, 0.057986230133667827, 0.4783863986027596, 0.04348967260025087, 0.007248278766708478, 0.029392094540994954, 0.238810768145584, 0.025718082723370585, 0.576819855367026, 0.12859041361685292, 0.0699803427984254, 0.9272395420791364, 0.13856779536017674, 0.37977840209826214, 0.22581418503139913, 0.23094632560029454, 0.020528562275581738, 0.914619960271615, 0.9795311947116191, 0.20602302409417406, 0.7652283752069322, 0.08768237043023756, 0.10229609883527715, 0.6576177782267817, 0.08768237043023756, 0.05845491362015837, 0.13178469014260827, 0.007752040596624015, 0.5271387605704331, 0.14728877133585627, 0.17829693372235234, 0.17667949204099168, 0.050479854868854764, 0.7571978230328215, 0.048676039639072397, 0.9248447531423756, 0.9543361328875567, 0.27613984231237987, 0.11902579410016374, 0.16663611174022924, 0.2904229376043995, 0.14759198468420304, 0.797960748043361, 0.03711445339736563, 0.07422890679473126, 0.07422890679473126, 0.08592631689783091, 0.028642105632610305, 0.05728421126522061, 0.8306210633456989, 0.9736705902928656, 0.4757504267419973, 0.12290219357501597, 0.1347959542435659, 0.1942647575863156, 0.0713625640112996, 0.18433242816939951, 0.20231607969812143, 0.1123978220545119, 0.2967302502239114, 0.20231607969812143, 0.9734894917369477, 0.06294485356385185, 0.031472426781925925, 0.8812279498939259, 0.06372012155449064, 0.06372012155449064, 0.8602216409856236, 0.06031669074208807, 0.06031669074208807, 0.04825335259367045, 0.8323703322408154, 0.03814269470990615, 0.03814269470990615, 0.8009965889080292, 0.11442808412971846, 0.9463444163287584, 0.04320771791558085, 0.864154358311617, 0.04320771791558085, 0.08492862479796637, 0.8209767063803416, 0.08492862479796637, 0.025029503101048362, 0.9010621116377411, 0.050059006202096724, 0.025029503101048362, 0.9668688696835187, 0.016650640402132048, 0.11655448281492434, 0.05827724140746217, 0.7659294584980741, 0.04162660100533012, 0.9898516524731049, 0.925778086455528, 0.061718539097035195, 0.523169799335352, 0.16816172121493458, 0.2927259591519232, 0.006228211896849429, 0.031182043627996234, 0.935461308839887, 0.04116396154363741, 0.9467711155036606, 0.27114213349247024, 0.08099050740684177, 0.4894643708500437, 0.09507581304281425, 0.059862548952883045, 0.9741528279373572, 0.03897111454942822, 0.4442707058634817, 0.007794222909885644, 0.5144187120524525, 0.054882347500637634, 0.9467204943859991, 0.21057111853454016, 0.02339679094828224, 0.7136021239226084, 0.03509518642242336, 0.02339679094828224, 0.20335695251275615, 0.1319072124407067, 0.5276288497628268, 0.11541881088561837, 0.02198453540678445, 0.9488081291170125, 0.02884605311210583, 0.07211513278026457, 0.014423026556052916, 0.8221125136950163, 0.05769210622421166, 0.13001612247567731, 0.231139773290093, 0.10834676872973109, 0.2383628912054084, 0.28892471661261626, 0.050416277193985615, 0.1310823207043626, 0.020166510877594246, 0.7965771796649727, 0.04041356099618194, 0.02020678049809097, 0.9093051224140936, 0.8940114347043873, 0.8576910176075745, 0.017868562866824467, 0.017868562866824467, 0.08934281433412235, 0.9426051243383916, 0.3456859415958015, 0.12392514887396658, 0.3000293078001296, 0.1369699013870157, 0.0913132675913438, 0.9652715245165401, 0.14581603427483533, 0.102928965370472, 0.540377068194978, 0.14581603427483533, 0.06861931024698133, 0.9693631361488256, 0.9465825264130051, 0.04302647847331841, 0.15798844709783638, 0.8125120136460158, 0.062165245610117506, 0.8703134385416451, 0.2258372363451286, 0.09639394234243293, 0.498494387542296, 0.11842684344927475, 0.06334459068217022, 0.9014094912304851, 0.07970149676629736, 0.876716464429271, 0.2258677972037921, 0.07971804607192663, 0.4694507157569012, 0.14172097079453622, 0.08857560674658514, 0.30580873652049306, 0.07645218413012327, 0.528794273566686, 0.09556523016265409, 0.23997355283513658, 0.023223247048561605, 0.6812152467578071, 0.06192865879616428, 0.04142389521152627, 0.9113256946535779, 0.1462126998519357, 0.16282777938056472, 0.23925714521225838, 0.25254920883516163, 0.19938095434354866, 0.1855230122585926, 0.012368200817239506, 0.7420920490343704, 0.024736401634479013, 0.024736401634479013, 0.05696060816964176, 0.05696060816964176, 0.8544091225446264, 0.9668974655705754, 0.9815676078066604, 0.035931602683193765, 0.07186320536638753, 0.035931602683193765, 0.8264268617134567, 0.060247558623125065, 0.020082519541041687, 0.040165039082083374, 0.14057763678729182, 0.7229707034775007, 0.9567369066010181, 0.08740657470343499, 0.15660344634365436, 0.2840713677861637, 0.2986391302367362, 0.17481314940686998, 0.17114687139486887, 0.2567203070923033, 0.39438192104035, 0.15254395059107878, 0.026044089125306133, 0.9932276531142159, 0.9809315946108029, 0.9465595181281347, 0.020394675570977898, 0.12236805342586739, 0.10197337785488948, 0.12236805342586739, 0.6526296182712927, 0.9326873339578707, 0.565171761605734, 0.030277058657450034, 0.2624011750312336, 0.1412929404014335, 0.036490248632833344, 0.6422283759378667, 0.014596099453133336, 0.2773258896095334, 0.029192198906266672, 0.8231657810700548, 0.1234748671605082, 0.18869609334260193, 0.35043560192197504, 0.16173950857937308, 0.210261361153185, 0.08626107124233232, 0.9574768494512509, 0.956143808083516, 0.9693784202174238, 0.09295938719784584, 0.8986074095791765, 0.1710744628617527, 0.031104447793045945, 0.007776111948261486, 0.7309545231365797, 0.06998500753435337, 0.4810303390602375, 0.25654951416546, 0.12827475708273, 0.1389643201729575, 0.027257507578308488, 0.054515015156616976, 0.8994977500841802, 0.8812052746769685, 0.11646098945209837, 0.08318642103721312, 0.6821286525051476, 0.08318642103721312, 0.03327456841488525, 0.8523597368076341, 0.13822049786069743, 0.0978515948218339, 0.2723976828824025, 0.05289275395774806, 0.5104150756922687, 0.06611594244718508, 0.16113658350356355, 0.6582600858017915, 0.10628157635341424, 0.07542563483145527, 0.10076823397775897, 0.7053776378443127, 0.08397352831479914, 0.1175629396407188, 0.9696398240661093, 0.2003080485925991, 0.2670773981234655, 0.00476923925220474, 0.4721546859682693, 0.05246163177425214, 0.9332661691979864, 0.16149374700358532, 0.30096561941577266, 0.044043749182795994, 0.41547936729104223, 0.07781062355627293, 0.3832992194662745, 0.14635061106894115, 0.30663937557301957, 0.14635061106894115, 0.013938153435137253, 0.9795113735091083, 0.03032089507107254, 0.03032089507107254, 0.9399477472032488, 0.06159258546947461, 0.8314999038379073, 0.09238887820421192, 0.26591152408722013, 0.21605311332086635, 0.3905575510031046, 0.112181424224296, 0.012464602691588444, 0.9437196754279956, 0.9317661619883018, 0.04904032431517377, 0.9557373982145633, 0.038704681284389406, 0.9289123508253456, 0.038704681284389406, 0.09629154336802481, 0.9051405076594332, 0.15990480568857207, 0.03198096113771441, 0.8315049895805747, 0.1918100735359362, 0.07307050420416616, 0.7124374159906202, 0.00913381302552077, 0.10883355371831285, 0.19823254427264128, 0.2526493211317977, 0.3848043506468919, 0.05441677685915643, 0.894006785659581, 0.9763253099166415, 0.9096921901306088, 0.06738460667634139, 0.06372977759610754, 0.9347034047429106, 0.13929202599223062, 0.08705751624514414, 0.15670352924125946, 0.6268141169650379, 0.10103563662194025, 0.0404142546487761, 0.0808285092975522, 0.7678708383267459, 0.14880761049532656, 0.11573925260747622, 0.2755696490654196, 0.1984101473271021, 0.2645468631028028, 0.10500018686004742, 0.058333437144470784, 0.7933347451648027, 0.046666749715576626, 0.9318038766880956, 0.909729914759312, 0.050540550819961776, 0.6531942240573397, 0.12745253152338334, 0.11152096508296043, 0.09558939864253752, 0.8940016147320335, 0.06450660500648424, 0.9245946717596074, 0.032396919271992085, 0.5723455738051935, 0.38876303126390505, 0.9746476322320334, 0.06907737723533294, 0.041446426341199764, 0.8841904286122616, 0.9734843290698026, 0.979815991646227, 0.08632829027111705, 0.445453977798964, 0.003453131610844682, 0.46271963585318737, 0.021578016861827896, 0.19420215175645106, 0.03452482697892463, 0.7465993834192451, 0.004315603372365579, 0.8812013304516908, 0.020574477899605363, 0.9567132223316493, 0.010287238949802682, 0.021988697100857536, 0.901536581135159, 0.06596609130257261, 0.030052932093232194, 0.3255734310100154, 0.005008822015538699, 0.6210939299267987, 0.015026466046616097, 0.9795989459832487, 0.9140668984963366, 0.07003407782509122, 0.8404089339010946, 0.03501703891254561, 0.07003407782509122, 0.06019632252116035, 0.9029448378174052, 0.9630080638207983, 0.04479107273585108, 0.1714982296051593, 0.04899949417290266, 0.6002438036180576, 0.1714982296051593, 0.977723084735008, 0.8655490809793734, 0.8940099917164369, 0.011428492822429215, 0.9714218899064833, 0.011428492822429215, 0.9795991750605557, 0.9649999797276815, 0.3302604444189632, 0.13801929020493983, 0.2267459767652583, 0.1626655920272505, 0.14294855056940198, 0.8812047744847937, 0.8849027507918723, 0.9475385104140825, 0.1076675394900462, 0.035889179830015404, 0.8254511360903543, 0.821926652189365, 0.026513762973850483, 0.07954128892155145, 0.053027525947700965, 0.9561404430093868, 0.25483533342120346, 0.048353370956843736, 0.3332462052431122, 0.36461055397187575, 0.14397181470402304, 0.008468930276707238, 0.8214862368406021, 0.025406790830121713, 0.9614673078052403, 0.1111278558605103, 0.027781963965127575, 0.8334589189538273, 0.027781963965127575, 0.9515464325846957, 0.1682374684564077, 0.14300184818794653, 0.49630053194640267, 0.18506121530204844, 0.008411873422820383, 0.5676751008632107, 0.044523537322604764, 0.38958095157279166, 0.914619621924705, 0.7250811372288345, 0.07881316709009072, 0.07881316709009072, 0.09457580050810885, 0.015762633418018143, 0.056782333416558, 0.908517334664928, 0.39491986671306223, 0.18887471886276888, 0.10302257392514666, 0.18028950436900668, 0.13736343190019557, 0.01665687833602198, 0.5746623025927583, 0.01665687833602198, 0.39143664089651653, 0.029634364492626252, 0.46427171038447795, 0.06914685048279459, 0.42475922439430963, 0.009878121497542084, 0.016170573808848676, 0.7276758213981904, 0.03234114761769735, 0.12127930356636507, 0.09702344285309206, 0.03394326163055372, 0.9504113256555042, 0.9149455124011993, 0.017999384626879673, 0.05399815388063903, 0.9179686159708634, 0.961492306566025, 0.9708528738374774, 0.7807978647223459, 0.20242907603912672, 0.9614866897371442, 0.8849824193918053, 0.14682370082915408, 0.08809422049749245, 0.20065905779984392, 0.39152986887774427, 0.1810825643559567, 0.9615252102930197, 0.03867210977073161, 0.03867210977073161, 0.889458524726827, 0.9614915926337645, 0.9693738407001303, 0.5801169988866155, 0.07251462486082694, 0.29005849944330775, 0.029005849944330777, 0.029005849944330777, 0.8849665669092198, 0.14964072501702966, 0.835494048011749, 0.012470060418085805, 0.9292291114237404, 0.9561411035425521, 0.022440940198416734, 0.11424478646466701, 0.0020400854725833397, 0.8139941035607525, 0.04896205134200015, 0.0030296878705962415, 0.2938797234478354, 0.02423750296476993, 0.5544328803191122, 0.12724689056504215, 0.8453586406101137, 0.017252217155308443, 0.13801773724246755, 0.9641643757970948, 0.16838014065567541, 0.7717423113385122, 0.056126713551891805, 0.05781631133890915, 0.751612047405819, 0.18790301185145475, 0.9693902041969213, 0.9694848382462692, 0.12028112099821708, 0.03007028024955427, 0.8419678469875196, 0.9138499031184598, 0.039732604483411295, 0.00555032418625867, 0.00555032418625867, 0.9879577051540431, 0.9795725938986095, 0.02985802728408254, 0.776308709386146, 0.08957408185224762, 0.08957408185224762, 0.024887043347698992, 0.7963853871263677, 0.14932226008619395, 0.7508966516385386, 0.03754483258192693, 0.15017933032770772, 0.03754483258192693, 0.018772416290963465, 0.03017053240979287, 0.06034106481958574, 0.8749454398839932, 0.9486210157763514, 0.9693770823281832, 0.891158214470512, 0.07426318453920933, 0.9696386801632445, 0.19630924569493202, 0.06040284482920985, 0.7021830711395645, 0.030201422414604925, 0.007550355603651231, 0.19259847152127557, 0.19061292026847892, 0.23230949657720867, 0.23826615033559864, 0.1469307927069525, 0.9578518530251156, 0.06360531937508256, 0.8904744712511559, 0.03479672224122855, 0.0695934444824571, 0.8699180560307139, 0.028660132234857996, 0.028660132234857996, 0.9171242315154559, 0.914615202332288, 0.9112587452450356, 0.9649815049811745, 0.025748058393903657, 0.9526781605744353, 0.9741531339662031, 0.9835597605581502, 0.4012823828810404, 0.013488483458186233, 0.4586084375783319, 0.12476847198822265, 0.14125992351314526, 0.5899679158490185, 0.23266340343341574, 0.03323762906191653, 0.07332472784064936, 0.14257585969015155, 0.1547966476635931, 0.26071014343341997, 0.3666236392032468, 0.08729992571415632, 0.09275617107129108, 0.13094988857123446, 0.21279356892825602, 0.47469334607072494, 0.9464456081107309, 0.024682724414295414, 0.09873089765718165, 0.8638953545003394, 0.9609004732195898, 0.9651782283355018, 0.957226119358983, 0.019222632860536534, 0.1089282528763737, 0.35882248006334866, 0.19863387289221085, 0.3139696700554301, 0.23677069147975804, 0.12220422786052028, 0.3169672160132245, 0.18712522391142167, 0.13747975634308532, 0.9464883550069283, 0.32502634454411183, 0.2644282125104639, 0.08263381640951996, 0.32502634454411183, 0.3561769893720265, 0.061943824238613304, 0.4878076158790798, 0.061943824238613304, 0.02322893408947999, 0.2293169841676086, 0.0382194973612681, 0.7261704498640938, 0.9373257194922235, 0.21711964297614794, 0.2050574405885842, 0.14876716277995322, 0.24928551600965135, 0.1769123016842687, 0.15789054148276158, 0.36841126345977704, 0.07692103303006334, 0.34007193550133263, 0.06072713133952369, 0.9481314747533989, 0.04122310759797387, 0.9560972550497452, 0.039837385627072716, 0.21507940051588625, 0.12422689512555499, 0.01483306210454388, 0.6044472807601631, 0.04264505355056365, 0.2004074848519067, 0.23335118099194616, 0.0549061602333991, 0.3898337376571336, 0.12079355251347802, 0.20739605798515426, 0.025924507248144282, 0.7518107101961842, 0.025924507248144282], \"Term\": [\"000\", \"000\", \"000\", \"000\", \"000\", \"academic\", \"adjustments\", \"advisory\", \"af\", \"af\", \"af\", \"air\", \"air\", \"air\", \"air\", \"air\", \"aircraft\", \"aircraft\", \"aircraft\", \"aircraft\", \"al\", \"alice\", \"allotment\", \"american\", \"american\", \"american\", \"american\", \"american\", \"assessment\", \"assessors\", \"autonomy\", \"away\", \"away\", \"away\", \"away\", \"away\", \"ball\", \"ball\", \"ballistic\", \"baseball\", \"baseball\", \"baseball\", \"battens\", \"beard\", \"bent\", \"berlin\", \"berlin\", \"bible\", \"bible\", \"bible\", \"billion\", \"billion\", \"billion\", \"boats\", \"boats\", \"bob\", \"bob\", \"bond\", \"boy\", \"boy\", \"boy\", \"boy\", \"boy\", \"breakfast\", \"breakfast\", \"breakfast\", \"breakfast\", \"bridge\", \"bridge\", \"bridge\", \"bridge\", \"brown\", \"brown\", \"brown\", \"brown\", \"brown\", \"builder\", \"builder\", \"builder\", \"business\", \"business\", \"business\", \"business\", \"business\", \"butter\", \"came\", \"came\", \"came\", \"came\", \"came\", \"capita\", \"carla\", \"catholic\", \"catholic\", \"cathy\", \"chest\", \"chest\", \"chest\", \"city\", \"city\", \"city\", \"city\", \"city\", \"clay\", \"clay\", \"clay\", \"clay\", \"club\", \"club\", \"club\", \"club\", \"club\", \"coach\", \"coach\", \"cold\", \"cold\", \"cold\", \"cold\", \"cold\", \"college\", \"college\", \"college\", \"college\", \"colt\", \"come\", \"come\", \"come\", \"come\", \"come\", \"committee\", \"committee\", \"commodities\", \"commodities\", \"cone\", \"confrontation\", \"congo\", \"congo\", \"congo\", \"connally\", \"cooling\", \"cooling\", \"cost\", \"cost\", \"cost\", \"cost\", \"cost\", \"couldn\", \"couldn\", \"couldn\", \"country\", \"country\", \"country\", \"country\", \"country\", \"county\", \"county\", \"county\", \"cousin\", \"cousin\", \"cousin\", \"cousin\", \"cranston\", \"cromwell\", \"cuba\", \"cuba\", \"curriculum\", \"cut\", \"cut\", \"cut\", \"cut\", \"cut\", \"dairy\", \"dave\", \"day\", \"day\", \"day\", \"day\", \"day\", \"daytime\", \"daytime\", \"department\", \"department\", \"department\", \"department\", \"department\", \"design\", \"design\", \"design\", \"design\", \"development\", \"development\", \"development\", \"development\", \"development\", \"did\", \"did\", \"did\", \"did\", \"did\", \"didn\", \"didn\", \"didn\", \"didn\", \"disk\", \"doc\", \"doc\", \"don\", \"don\", \"don\", \"don\", \"don\", \"drill\", \"drill\", \"drill\", \"drilling\", \"drinking\", \"du\", \"du\", \"east\", \"east\", \"east\", \"east\", \"eddie\", \"eddie\", \"editorial\", \"election\", \"election\", \"election\", \"engineer\", \"engineer\", \"engineer\", \"engineer\", \"essex\", \"excellence\", \"eyes\", \"eyes\", \"eyes\", \"eyes\", \"eyes\", \"fabrics\", \"faculty\", \"faculty\", \"farmers\", \"federal\", \"federal\", \"federal\", \"federal\", \"federal\", \"feed\", \"feed\", \"feed\", \"feed\", \"felt\", \"felt\", \"felt\", \"felt\", \"felt\", \"fig\", \"fig\", \"fiscal\", \"fiscal\", \"foreign\", \"foreign\", \"foreign\", \"foreign\", \"foreign\", \"frame\", \"frame\", \"frame\", \"frame\", \"gallery\", \"gallery\", \"game\", \"game\", \"game\", \"games\", \"games\", \"games\", \"general\", \"general\", \"general\", \"general\", \"general\", \"georgia\", \"georgia\", \"giants\", \"good\", \"good\", \"good\", \"good\", \"good\", \"got\", \"got\", \"got\", \"got\", \"got\", \"government\", \"government\", \"government\", \"government\", \"government\", \"governor\", \"governor\", \"great\", \"great\", \"great\", \"great\", \"great\", \"grill\", \"gun\", \"hair\", \"hair\", \"hands\", \"hands\", \"hands\", \"hands\", \"hands\", \"head\", \"head\", \"head\", \"head\", \"head\", \"heat\", \"heat\", \"heat\", \"heating\", \"heating\", \"hell\", \"high\", \"high\", \"high\", \"high\", \"high\", \"hit\", \"hit\", \"hit\", \"hit\", \"hole\", \"hole\", \"hole\", \"hole\", \"holes\", \"home\", \"home\", \"home\", \"home\", \"home\", \"house\", \"house\", \"house\", \"house\", \"house\", \"improves\", \"inch\", \"inch\", \"inch\", \"inches\", \"inches\", \"inches\", \"income\", \"income\", \"income\", \"income\", \"industrial\", \"industrial\", \"industrial\", \"industrial\", \"insert\", \"institution\", \"institution\", \"institution\", \"interference\", \"interference\", \"interference\", \"interior\", \"interior\", \"interior\", \"interior\", \"investors\", \"island\", \"island\", \"island\", \"island\", \"island\", \"item\", \"jim\", \"jim\", \"john\", \"john\", \"john\", \"john\", \"juniors\", \"juniors\", \"jury\", \"jury\", \"just\", \"just\", \"just\", \"just\", \"just\", \"katanga\", \"kennedy\", \"kennedy\", \"kennedy\", \"kennedy\", \"khrushchev\", \"khrushchev\", \"knew\", \"knew\", \"knew\", \"knew\", \"knew\", \"know\", \"know\", \"know\", \"know\", \"know\", \"kowalski\", \"labor\", \"labor\", \"labor\", \"labor\", \"labor\", \"large\", \"large\", \"large\", \"large\", \"large\", \"law\", \"law\", \"law\", \"law\", \"laws\", \"laws\", \"laws\", \"lb\", \"league\", \"league\", \"league\", \"league\", \"lectures\", \"left\", \"left\", \"left\", \"left\", \"left\", \"legislature\", \"let\", \"let\", \"let\", \"let\", \"let\", \"liberals\", \"libraries\", \"libraries\", \"library\", \"library\", \"lid\", \"lid\", \"like\", \"like\", \"like\", \"like\", \"like\", \"lips\", \"liquid\", \"liquid\", \"little\", \"little\", \"little\", \"little\", \"little\", \"ll\", \"ll\", \"ll\", \"ll\", \"local\", \"local\", \"local\", \"local\", \"locking\", \"locking\", \"long\", \"long\", \"long\", \"long\", \"long\", \"looked\", \"looked\", \"looked\", \"looked\", \"looked\", \"loved\", \"loved\", \"loved\", \"lucille\", \"lucy\", \"lumber\", \"lumber\", \"lumber\", \"lumber\", \"machine\", \"machine\", \"machine\", \"machine\", \"machine\", \"maggie\", \"make\", \"make\", \"make\", \"make\", \"make\", \"man\", \"man\", \"man\", \"man\", \"man\", \"mantle\", \"maris\", \"marry\", \"materials\", \"materials\", \"materials\", \"materials\", \"materials\", \"measuring\", \"medical\", \"medical\", \"medical\", \"medical\", \"members\", \"members\", \"members\", \"members\", \"members\", \"membership\", \"membership\", \"men\", \"men\", \"men\", \"men\", \"men\", \"mercenaries\", \"mickey\", \"midwest\", \"mike\", \"mike\", \"million\", \"million\", \"million\", \"million\", \"million\", \"miss\", \"miss\", \"miss\", \"miss\", \"mold\", \"mold\", \"mold\", \"monroe\", \"morning\", \"morning\", \"morning\", \"morning\", \"morning\", \"motors\", \"motors\", \"mr\", \"mr\", \"mr\", \"mr\", \"mr\", \"mrs\", \"mrs\", \"mrs\", \"mrs\", \"music\", \"music\", \"music\", \"music\", \"mustard\", \"national\", \"national\", \"national\", \"national\", \"national\", \"nato\", \"new\", \"new\", \"new\", \"new\", \"new\", \"night\", \"night\", \"night\", \"night\", \"night\", \"notte\", \"officials\", \"officials\", \"officials\", \"oh\", \"oh\", \"oh\", \"old\", \"old\", \"old\", \"old\", \"old\", \"orioles\", \"owen\", \"owen\", \"paintings\", \"pale\", \"pale\", \"pale\", \"palmer\", \"palmer\", \"panels\", \"panels\", \"panels\", \"peace\", \"peace\", \"peace\", \"peace\", \"people\", \"people\", \"people\", \"people\", \"people\", \"pepper\", \"pete\", \"petitioner\", \"petitioner\", \"phil\", \"phil\", \"piece\", \"piece\", \"piece\", \"piece\", \"pieces\", \"pieces\", \"pieces\", \"pieces\", \"place\", \"place\", \"place\", \"place\", \"place\", \"planning\", \"planning\", \"planning\", \"planning\", \"plaster\", \"plastics\", \"plastics\", \"play\", \"play\", \"play\", \"play\", \"plywood\", \"police\", \"police\", \"policy\", \"policy\", \"policy\", \"pont\", \"pool\", \"pool\", \"pool\", \"porch\", \"precision\", \"president\", \"president\", \"president\", \"president\", \"program\", \"program\", \"program\", \"program\", \"program\", \"programing\", \"property\", \"property\", \"property\", \"providence\", \"providence\", \"providence\", \"public\", \"public\", \"public\", \"public\", \"public\", \"puerto\", \"pump\", \"push\", \"push\", \"push\", \"push\", \"rachel\", \"rachel\", \"rayburn\", \"rayburn\", \"really\", \"really\", \"really\", \"really\", \"rehabilitation\", \"rent\", \"resin\", \"rhode\", \"rhode\", \"rhode\", \"rico\", \"rifle\", \"right\", \"right\", \"right\", \"right\", \"right\", \"ritter\", \"riverside\", \"robinson\", \"roof\", \"roof\", \"roof\", \"runs\", \"runs\", \"runs\", \"runs\", \"ruth\", \"said\", \"said\", \"said\", \"said\", \"sales\", \"sales\", \"sales\", \"sales\", \"salesmen\", \"sat\", \"sat\", \"sat\", \"sat\", \"sauce\", \"say\", \"say\", \"say\", \"say\", \"say\", \"schools\", \"schools\", \"schools\", \"screws\", \"season\", \"season\", \"season\", \"season\", \"season\", \"sec\", \"sec\", \"second\", \"second\", \"second\", \"second\", \"second\", \"secretary\", \"secretary\", \"secretary\", \"secretary\", \"service\", \"service\", \"service\", \"service\", \"service\", \"shall\", \"shall\", \"shall\", \"shall\", \"shall\", \"sharpe\", \"sharpe\", \"sheep\", \"shelter\", \"shelter\", \"shelter\", \"shook\", \"shorts\", \"signs\", \"signs\", \"sixties\", \"skin\", \"small\", \"small\", \"small\", \"small\", \"small\", \"smelled\", \"smiled\", \"smiled\", \"smiled\", \"smiling\", \"societies\", \"son\", \"son\", \"son\", \"son\", \"son\", \"soul\", \"soviet\", \"soviet\", \"soviet\", \"sox\", \"stadium\", \"state\", \"state\", \"state\", \"state\", \"state\", \"states\", \"states\", \"states\", \"states\", \"states\", \"stations\", \"stations\", \"stations\", \"stockholders\", \"student\", \"student\", \"student\", \"students\", \"students\", \"students\", \"sunrise\", \"supervision\", \"surface\", \"surface\", \"surface\", \"susan\", \"susan\", \"tax\", \"tax\", \"tax\", \"taxpayers\", \"teachers\", \"teachers\", \"teachers\", \"teachers\", \"teaching\", \"teaching\", \"teaching\", \"team\", \"team\", \"team\", \"team\", \"team\", \"temperature\", \"temperature\", \"temperature\", \"temple\", \"tenure\", \"textile\", \"textile\", \"thickness\", \"thought\", \"thought\", \"thought\", \"thought\", \"thought\", \"time\", \"time\", \"time\", \"time\", \"time\", \"titles\", \"tommy\", \"tommy\", \"tool\", \"tool\", \"tool\", \"towns\", \"towns\", \"towns\", \"transducer\", \"tri\", \"trujillo\", \"trust\", \"trust\", \"trustees\", \"unions\", \"united\", \"united\", \"united\", \"united\", \"university\", \"university\", \"university\", \"university\", \"use\", \"use\", \"use\", \"use\", \"use\", \"used\", \"used\", \"used\", \"used\", \"used\", \"vacations\", \"vehicles\", \"vehicles\", \"vehicles\", \"vocational\", \"voters\", \"wally\", \"water\", \"water\", \"water\", \"water\", \"water\", \"way\", \"way\", \"way\", \"way\", \"way\", \"weak\", \"week\", \"week\", \"week\", \"week\", \"went\", \"went\", \"went\", \"went\", \"went\", \"woman\", \"woman\", \"woman\", \"wondered\", \"work\", \"work\", \"work\", \"work\", \"work\", \"world\", \"world\", \"world\", \"world\", \"world\", \"yankees\", \"yankees\", \"yards\", \"yards\", \"year\", \"year\", \"year\", \"year\", \"year\", \"years\", \"years\", \"years\", \"years\", \"years\", \"yes\", \"yes\", \"yes\", \"yes\"]}, \"R\": 30, \"lambda.step\": 0.01, \"plot.opts\": {\"xlab\": \"PC1\", \"ylab\": \"PC2\"}, \"topic.order\": [1, 2, 3, 4, 5]};\n",
       "\n",
       "function LDAvis_load_lib(url, callback){\n",
       "  var s = document.createElement('script');\n",
       "  s.src = url;\n",
       "  s.async = true;\n",
       "  s.onreadystatechange = s.onload = callback;\n",
       "  s.onerror = function(){console.warn(\"failed to load library \" + url);};\n",
       "  document.getElementsByTagName(\"head\")[0].appendChild(s);\n",
       "}\n",
       "\n",
       "if(typeof(LDAvis) !== \"undefined\"){\n",
       "   // already loaded: just create the visualization\n",
       "   !function(LDAvis){\n",
       "       new LDAvis(\"#\" + \"ldavis_el5060824973540794727425618258\", ldavis_el5060824973540794727425618258_data);\n",
       "   }(LDAvis);\n",
       "}else if(typeof define === \"function\" && define.amd){\n",
       "   // require.js is available: use it to load d3/LDAvis\n",
       "   require.config({paths: {d3: \"https://cdnjs.cloudflare.com/ajax/libs/d3/3.5.5/d3.min\"}});\n",
       "   require([\"d3\"], function(d3){\n",
       "      window.d3 = d3;\n",
       "      LDAvis_load_lib(\"https://cdn.rawgit.com/bmabey/pyLDAvis/files/ldavis.v1.0.0.js\", function(){\n",
       "        new LDAvis(\"#\" + \"ldavis_el5060824973540794727425618258\", ldavis_el5060824973540794727425618258_data);\n",
       "      });\n",
       "    });\n",
       "}else{\n",
       "    // require.js not available: dynamically load d3 & LDAvis\n",
       "    LDAvis_load_lib(\"https://cdnjs.cloudflare.com/ajax/libs/d3/3.5.5/d3.min.js\", function(){\n",
       "         LDAvis_load_lib(\"https://cdn.rawgit.com/bmabey/pyLDAvis/files/ldavis.v1.0.0.js\", function(){\n",
       "                 new LDAvis(\"#\" + \"ldavis_el5060824973540794727425618258\", ldavis_el5060824973540794727425618258_data);\n",
       "            })\n",
       "         });\n",
       "}\n",
       "</script>"
      ],
      "text/plain": [
       "<IPython.core.display.HTML object>"
      ]
     },
     "execution_count": 30,
     "metadata": {},
     "output_type": "execute_result"
    }
   ],
   "source": [
    "pyLDAvis.display(lda_display)"
   ]
  },
  {
   "cell_type": "markdown",
   "id": "a3d14c87",
   "metadata": {},
   "source": [
    "Q: What conclusions do you draw from the visualization above? Please address the principal component scatterplot and the salient terms graph.\n",
    "\n",
    "A: \n",
    "From the principal component scatterplot, it appears that topics 1 and 3 may share some similarities as they are in the same quadrant. This might suggest that some of the vocabulary in these topics overlap or are related in some way. Topics 2 and 4 also share a quadrant, indicating potential overlap as well.\n",
    "\n",
    "In terms of the salient terms graph, the term 'said' is highly salient across multiple topics, suggesting it's a common term in the corpus but not necessarily informative. 'State' and 'tax' are also important in Topic 0, indicating possible discussion on state matters or policies. The terms 'home', 'year', 'new', 'time' in Topic 1 might suggest narratives revolving around personal or domestic affairs. In Topic 2, 'mrs', 'president', 'united', and 'mr' suggest a political context. Topic 3 seems to revolve around dialogue or narratives due to terms like 'like', 'just', 'time', 'did'. Lastly, Topic 4, with terms like 'state', 'year', 'new', '000', suggests discussions related to years, states or potentially finance or population.\n"
   ]
  }
 ],
 "metadata": {
  "kernelspec": {
   "display_name": "Python 3 (ipykernel)",
   "language": "python",
   "name": "python3"
  },
  "language_info": {
   "codemirror_mode": {
    "name": "ipython",
    "version": 3
   },
   "file_extension": ".py",
   "mimetype": "text/x-python",
   "name": "python",
   "nbconvert_exporter": "python",
   "pygments_lexer": "ipython3",
   "version": "3.9.5"
  }
 },
 "nbformat": 4,
 "nbformat_minor": 5
}
